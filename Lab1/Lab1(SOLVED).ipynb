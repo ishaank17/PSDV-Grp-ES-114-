{
  "cells": [
    {
      "cell_type": "code",
      "execution_count": 32,
      "metadata": {
        "ExecuteTime": {
          "end_time": "2025-01-13T03:05:27.004387Z",
          "start_time": "2025-01-13T03:05:25.902765Z"
        },
        "id": "IZLwNgdS-ndV"
      },
      "outputs": [],
      "source": [
        "import numpy as np\n",
        "import matplotlib.pyplot as plt\n",
        "%matplotlib inline\n",
        "%config InlineBackend.figure_format = 'retina'\n",
        "#Hi"
      ]
    },
    {
      "cell_type": "code",
      "execution_count": 33,
      "metadata": {
        "colab": {
          "base_uri": "https://localhost:8080/"
        },
        "id": "0C8Y7a_B3aUx",
        "outputId": "6a030218-0087-41d1-f78d-c75627e9d853"
      },
      "outputs": [],
      "source": [
        "# !pip install pydub"
      ]
    },
    {
      "cell_type": "code",
      "execution_count": 34,
      "metadata": {
        "colab": {
          "base_uri": "https://localhost:8080/"
        },
        "id": "1ns5ULdH2wE6",
        "outputId": "00aa26b5-a39b-4072-c371-40f2fb42e8c3"
      },
      "outputs": [],
      "source": [
        "# from google.colab import drive\n",
        "# drive.mount('/content/drive')"
      ]
    },
    {
      "cell_type": "markdown",
      "metadata": {
        "id": "NvQoFzUZzSEf"
      },
      "source": [
        "INDEX -6"
      ]
    },
    {
      "cell_type": "markdown",
      "metadata": {
        "id": "AnUxKd3FsdSJ"
      },
      "source": [
        "\n",
        "# **Creating Arrays**\n",
        "\n",
        "#### 1. Create a 1D array with 20 random integers between 1 and 100.\n",
        "**Hint:** Use the `np.random.randint()` function, specifying the range and size.\n",
        "#### 2. Create a 5x5 matrix where all the border elements are 1, and the inside elements are 0.\n",
        "#### 3. Create a diagonal matrix with values `[1, 2, 3, 4]` on the diagonal.\n",
        "#### 4. Create an array of shape (3, 3) where each row contains numbers from 1 to 3.\n",
        "**Hint:** Use `np.tile()` to repeat arrays along rows or columns.\n",
        "#### 5. Create a 1D array with alternating 0s and 1s of length 10.\n",
        "#### 6. Create a 3x3 matrix with random integers between 10 and 20, and set the datatype to `int32`."
      ]
    },
    {
      "cell_type": "code",
      "execution_count": 35,
      "metadata": {
        "colab": {
          "base_uri": "https://localhost:8080/"
        },
        "id": "UwR9jBQhZY4g",
        "outputId": "f3a4f7d3-dc9a-4106-ccd4-e0f42e750b18"
      },
      "outputs": [
        {
          "name": "stdout",
          "output_type": "stream",
          "text": [
            "[61 65 56  9 31 64  8  6 39 77 63 68 15  8 28 78 86 34 52 70]\n"
          ]
        }
      ],
      "source": [
        "a=np.random.randint(1,100,size=20)\n",
        "print(a)"
      ]
    },
    {
      "cell_type": "code",
      "execution_count": 36,
      "metadata": {
        "colab": {
          "base_uri": "https://localhost:8080/"
        },
        "id": "28qoTjEyaCoY",
        "outputId": "3b47cbc1-1b96-49f5-9851-95946934884b"
      },
      "outputs": [
        {
          "name": "stdout",
          "output_type": "stream",
          "text": [
            "[[1 1 1 1 1]\n",
            " [1 0 0 0 1]\n",
            " [1 0 0 0 1]\n",
            " [1 0 0 0 1]\n",
            " [1 1 1 1 1]]\n"
          ]
        }
      ],
      "source": [
        "#5x5 border 1 inner 0\n",
        "a=np.ones((5,5),dtype=np.int32)\n",
        "a[1:4,1:4]=0\n",
        "print(a)"
      ]
    },
    {
      "cell_type": "code",
      "execution_count": 37,
      "metadata": {
        "colab": {
          "base_uri": "https://localhost:8080/"
        },
        "id": "mBHON8PyaEF3",
        "outputId": "e1d55b98-75d5-4d7d-c4fc-b6a31d3671bd"
      },
      "outputs": [
        {
          "name": "stdout",
          "output_type": "stream",
          "text": [
            "[[1 0 0 0]\n",
            " [0 2 0 0]\n",
            " [0 0 3 0]\n",
            " [0 0 0 4]]\n"
          ]
        }
      ],
      "source": [
        "a=np.diag([1,2,3,4])\n",
        "print(a)#diagflat"
      ]
    },
    {
      "cell_type": "code",
      "execution_count": 38,
      "metadata": {
        "colab": {
          "base_uri": "https://localhost:8080/"
        },
        "id": "sf98SZ6gaFCt",
        "outputId": "d67aada4-8cec-4e43-d176-dc05fbd68d99"
      },
      "outputs": [
        {
          "name": "stdout",
          "output_type": "stream",
          "text": [
            "[[1 2 3]\n",
            " [1 2 3]\n",
            " [1 2 3]]\n"
          ]
        }
      ],
      "source": [
        "a=np.tile([1,2,3],(3,1))\n",
        "print(a)"
      ]
    },
    {
      "cell_type": "code",
      "execution_count": 39,
      "metadata": {
        "colab": {
          "base_uri": "https://localhost:8080/"
        },
        "id": "Az6lANIzaFND",
        "outputId": "fc884f51-1ec3-424e-fbab-60e8b346f735"
      },
      "outputs": [
        {
          "name": "stdout",
          "output_type": "stream",
          "text": [
            "[0 1 0 1 0 1 0 1 0 1]\n"
          ]
        }
      ],
      "source": [
        "a=np.tile([0,1],5)\n",
        "print(a)"
      ]
    },
    {
      "cell_type": "code",
      "execution_count": 40,
      "metadata": {
        "colab": {
          "base_uri": "https://localhost:8080/"
        },
        "id": "nrI6e0nSaFfY",
        "outputId": "2218aa19-113d-4b50-a7a4-fc01e694bcb6"
      },
      "outputs": [
        {
          "name": "stdout",
          "output_type": "stream",
          "text": [
            "[[18 10 17]\n",
            " [13 19 16]\n",
            " [16 14 17]] int32\n"
          ]
        }
      ],
      "source": [
        "b=np.random.randint(10,20,size=(3,3),dtype=np.int32)\n",
        "print(b,b.dtype)"
      ]
    },
    {
      "cell_type": "markdown",
      "metadata": {
        "id": "DkYcM2eukdxR"
      },
      "source": [
        "# **Array Attributes**\n",
        "\n",
        "####1. Create a NumPy array of shape (4, 5) filled with random integers between 1 and 10. Now use an appropriate attribute of an array and find the following:\n",
        "\n",
        "  1. shape of the array\n",
        "  2. size of the array\n",
        "  3. number of dimensions\n",
        "  4. data type\n",
        "\n",
        "####2. Write a Python function that takes an array as input and returns the number of dimensions (ndim) of the array.\n",
        "Test the function with the following arrays:\n",
        "\n",
        "  1. A 1D array with 5 elements.\n",
        "  2. A 2D array of size (3x4).\n",
        "  3. A 3D array of size (2x3x4).\n",
        "\n",
        "\n",
        "####3. ***Create a NumPy array with the elements between 1 to 100 and use the dtype attribute to find out the data type of the elements. Modify the program to create arrays with elements of type float and string, and observe the changes in dtype.*** (doubt)\n",
        "\n",
        "####4. Write a Python function that:\n",
        "  1. Creates a 6×3 array of integers using NumPy.\n",
        "  2. Prints the shape of the array using the shape attribute.\n",
        "  3. Reshapes the array to 3×6 and prints the new shape.\n",
        "\n",
        "\n",
        "\n",
        "####5. Write a program to:\n",
        "  1. Create an array of any size with all elements being 0 and use the appropriate attribute to print the size (in bytes) of each element in the array.\n",
        "  2. Create an array of any size with elements between 1 to 10 and print the size.\n",
        "  3. Create another array with floating-point numbers of any size and observe how the size changes.\n",
        "\n"
      ]
    },
    {
      "cell_type": "code",
      "execution_count": 41,
      "metadata": {
        "colab": {
          "base_uri": "https://localhost:8080/"
        },
        "id": "UzgXd-6Odg87",
        "outputId": "2e7cfced-1ce0-4f8f-b3cd-03360c9e199c"
      },
      "outputs": [
        {
          "name": "stdout",
          "output_type": "stream",
          "text": [
            "[[3 9 1 9 6]\n",
            " [7 5 5 2 5]\n",
            " [9 6 9 8 2]\n",
            " [3 1 6 9 9]]\n",
            "(4, 5)\n",
            "20\n",
            "2\n",
            "int32\n"
          ]
        }
      ],
      "source": [
        "a=np.random.randint(1,10,size=(4,5))\n",
        "print(a)\n",
        "print(a.shape)\n",
        "print(a.size)\n",
        "print(a.ndim)\n",
        "print(a.dtype)"
      ]
    },
    {
      "cell_type": "code",
      "execution_count": 42,
      "metadata": {
        "colab": {
          "base_uri": "https://localhost:8080/"
        },
        "id": "7dKTChQgd3FS",
        "outputId": "f4166c71-b087-454d-a2ee-ef1e0336460d"
      },
      "outputs": [
        {
          "name": "stdout",
          "output_type": "stream",
          "text": [
            "1 2 3\n"
          ]
        }
      ],
      "source": [
        "a=np.zeros(5)\n",
        "b=np.zeros((3,4))\n",
        "c=np.zeros((2,3,4))\n",
        "print(a.ndim,b.ndim,c.ndim)"
      ]
    },
    {
      "cell_type": "code",
      "execution_count": 43,
      "metadata": {
        "colab": {
          "base_uri": "https://localhost:8080/"
        },
        "id": "0_-zZXfNd3Af",
        "outputId": "40d03233-5d74-48c5-9a0d-289ac5fe8ba8"
      },
      "outputs": [
        {
          "name": "stdout",
          "output_type": "stream",
          "text": [
            "[2 6 7 7 6 7 4 0 0 5 9 7] int32\n",
            "[2. 6. 7. 7. 6. 7. 4. 0. 0. 5. 9. 7.] float32\n",
            "['2.0' '6.0' '7.0' '7.0' '6.0' '7.0' '4.0' '0.0' '0.0' '5.0' '9.0' '7.0'] <U3\n"
          ]
        }
      ],
      "source": [
        "a=np.random.randint(0,10,12,dtype=np.int32)\n",
        "print(a,a.dtype)\n",
        "a=np.float32(a)\n",
        "print(a,a.dtype)\n",
        "# a=np.array_str(a)# array2string\n",
        "\n",
        "a=[str(i) for i in a]\n",
        "a=np.array(a)\n",
        "\n",
        "print(a,a.dtype)\n",
        "# print(a)"
      ]
    },
    {
      "cell_type": "code",
      "execution_count": 44,
      "metadata": {
        "colab": {
          "base_uri": "https://localhost:8080/"
        },
        "id": "lDWLZFUPd26b",
        "outputId": "011b5163-6191-407f-f622-145a52059606"
      },
      "outputs": [
        {
          "name": "stdout",
          "output_type": "stream",
          "text": [
            "[[15  4  1]\n",
            " [23  1  9]\n",
            " [13 20 20]\n",
            " [18  4 13]\n",
            " [22 10 17]\n",
            " [ 4  6  3]] \n",
            " (6, 3)\n",
            "[[15  4  1 23  1  9]\n",
            " [13 20 20 18  4 13]\n",
            " [22 10 17  4  6  3]] \n",
            " (3, 6)\n"
          ]
        }
      ],
      "source": [
        "a=np.random.randint(1,25,size=(6,3))\n",
        "print(a,\"\\n\",a.shape)\n",
        "a=a.reshape(3,6)\n",
        "print(a,\"\\n\",a.shape)"
      ]
    },
    {
      "cell_type": "code",
      "execution_count": 45,
      "metadata": {
        "colab": {
          "base_uri": "https://localhost:8080/"
        },
        "id": "QR13heXcdn2t",
        "outputId": "6d119fdc-e2d3-4c58-ff18-e83eaac0db2c"
      },
      "outputs": [
        {
          "name": "stdout",
          "output_type": "stream",
          "text": [
            "4 [[0 0 0 0 0]\n",
            " [0 0 0 0 0]\n",
            " [0 0 0 0 0]\n",
            " [0 0 0 0 0]]\n",
            "8 [2 3 4 5 6 7 8 9]\n",
            "8 [[0. 0. 0. 0. 0.]\n",
            " [0. 0. 0. 0. 0.]\n",
            " [0. 0. 0. 0. 0.]\n",
            " [0. 0. 0. 0. 0.]]\n"
          ]
        }
      ],
      "source": [
        "a=np.zeros((4,5),dtype=np.int32)\n",
        "print(a.itemsize,a)\n",
        "\n",
        "a=np.arange(2,10)\n",
        "print(a.size,a)\n",
        "\n",
        "a=np.zeros((4,5),dtype=np.float64)\n",
        "print(a.itemsize,a)"
      ]
    },
    {
      "cell_type": "markdown",
      "metadata": {
        "id": "ItnxYBtVzYiL"
      },
      "source": [
        "# **Sorting and Partioning**\n",
        "\n",
        "####1. Given an array arr, sort the array in ascending order without modifying the original array. Print both the original and sorted arrays.(use np.sort())\n",
        "\n",
        "####2. You have arr = np.array([50, 30, 40, 20]) and names = np.array([\"A\", \"B\", \"C\", \"D\"]).\n",
        "Sort the arr values in ascending order and rearrange the names array accordingly.(use np.argsort() to get sorted indices and reorder names)\n",
        "\n",
        "####3. Write code to find the k smallest elements from the array arr. Print these elements in ascending order.(use np.partition())\n",
        "\n",
        "####4. Partition the array arr such that all elements smaller than a particular number(user input) appear before those greater than or equal to that number. Print the partitioned array.(use np.partition() to find the pivot value's index)\n",
        "\n",
        "####5. Sort each row of a 2D array arr in ascending order.(use np.sort() with axis parameter)\n",
        "\n",
        "####6. Print k largest elements of an array arr in descending order.(use np.partition() to find top k elements)\n",
        "\n",
        "####7. Given an array arr(containing possible negative values), sort the array in ascending order based on the absolute values of the elements. Print the sorted array.(use np.argsort() with a custom key for absolute values)\n",
        "\n",
        "####8. Given an array arr, sort only the elements greater than k in ascending order, keeping the other elements in their original positions.(create a mask to find elements greater than k, use np.sort() to sort them then reassign the sorted values back to their original indices in the array)"
      ]
    },
    {
      "cell_type": "code",
      "execution_count": 46,
      "metadata": {
        "ExecuteTime": {
          "end_time": "2025-01-12T18:31:04.030324Z",
          "start_time": "2025-01-12T18:31:04.012795Z"
        },
        "colab": {
          "base_uri": "https://localhost:8080/"
        },
        "id": "HOBTALYwsIQl",
        "outputId": "4bb961f8-dc44-4170-9cf8-d0908480f0ff"
      },
      "outputs": [
        {
          "name": "stdout",
          "output_type": "stream",
          "text": [
            "[19  6 18  6  9 17 10 14  1 10] [ 1  6  6  9 10 10 14 17 18 19]\n"
          ]
        }
      ],
      "source": [
        "a=np.random.randint(1,20,size=10)\n",
        "b=np.sort(a)\n",
        "print(a,b)"
      ]
    },
    {
      "cell_type": "code",
      "execution_count": 47,
      "metadata": {
        "ExecuteTime": {
          "end_time": "2025-01-12T18:29:43.913585Z",
          "start_time": "2025-01-12T18:29:43.909584Z"
        },
        "colab": {
          "base_uri": "https://localhost:8080/"
        },
        "id": "W5IfKy-4sJ8s",
        "outputId": "423811c1-e1ee-4859-b856-5c8ede264bbf"
      },
      "outputs": [
        {
          "name": "stdout",
          "output_type": "stream",
          "text": [
            "[20 30 40 50] ['d' 'b' 'c' 'a']\n"
          ]
        }
      ],
      "source": [
        "arr=np.array([50,30,40,20])\n",
        "names=np.array([\"a\",\"b\",\"c\",\"d\"])\n",
        "b=np.argsort(arr)\n",
        "\n",
        "print(arr[b],names[b])"
      ]
    },
    {
      "cell_type": "code",
      "execution_count": 48,
      "metadata": {
        "ExecuteTime": {
          "end_time": "2025-01-13T08:46:48.355098Z",
          "start_time": "2025-01-13T08:46:48.128532Z"
        },
        "colab": {
          "base_uri": "https://localhost:8080/"
        },
        "id": "Dv4ZV7masN70",
        "outputId": "c55037b4-a007-4582-aa91-a05fee5b9163"
      },
      "outputs": [
        {
          "name": "stdout",
          "output_type": "stream",
          "text": [
            "[0 1 1 1 2]\n"
          ]
        }
      ],
      "source": [
        "a=np.random.randint(0,25,25)#.sort()\n",
        "k=5\n",
        "b=np.partition(a,k)[:k]\n",
        "for i in range(k-1,-1):\n",
        "    b=np.partition(b,i)\n",
        "print(b)"
      ]
    },
    {
      "cell_type": "code",
      "execution_count": 49,
      "metadata": {
        "ExecuteTime": {
          "end_time": "2025-01-13T08:59:27.707505Z",
          "start_time": "2025-01-13T08:59:21.872052Z"
        },
        "colab": {
          "base_uri": "https://localhost:8080/"
        },
        "id": "2qH118HVsZa-",
        "outputId": "d8f919f9-decb-4d0b-c37d-a1629166b938"
      },
      "outputs": [
        {
          "name": "stdout",
          "output_type": "stream",
          "text": [
            "[1 3 4 5 8]\n"
          ]
        }
      ],
      "source": [
        "arr = np.array([8,5,3,1,4])\n",
        "k=int(input())\n",
        "idx=0\n",
        "for i in range(0,len(arr)):\n",
        "    if arr[i]<k:\n",
        "        idx+=1\n",
        "b=np.partition(arr,idx)\n",
        "print(b)"
      ]
    },
    {
      "cell_type": "code",
      "execution_count": 50,
      "metadata": {
        "ExecuteTime": {
          "end_time": "2025-01-13T08:51:45.903721Z",
          "start_time": "2025-01-13T08:51:45.899663Z"
        },
        "colab": {
          "base_uri": "https://localhost:8080/"
        },
        "id": "VMEwsok1sZXm",
        "outputId": "46601aec-b77f-4dd5-f19e-c51617baee48"
      },
      "outputs": [
        {
          "name": "stdout",
          "output_type": "stream",
          "text": [
            "[[ 1  1  1  1  5  5 10 23]\n",
            " [ 4  5  8  9 11 14 19 20]\n",
            " [ 3  6 12 12 18 20 20 23]\n",
            " [ 4  6  8 16 16 19 21 23]\n",
            " [ 7  8  8 16 16 18 19 20]\n",
            " [ 4  6  6  8  9 17 21 21]\n",
            " [ 1  6  7  9 18 22 23 23]]\n"
          ]
        }
      ],
      "source": [
        "a=np.random.randint(1,25,size=(7,8))\n",
        "a.sort(axis=1)\n",
        "print(a)"
      ]
    },
    {
      "cell_type": "code",
      "execution_count": 51,
      "metadata": {
        "colab": {
          "base_uri": "https://localhost:8080/"
        },
        "id": "i9DRlBGrzSEi",
        "outputId": "cacd2f58-a7fb-45a9-eacf-bedb0802ef79"
      },
      "outputs": [
        {
          "name": "stdout",
          "output_type": "stream",
          "text": [
            "[10 14  0 23  5 23 16  4 10 17 10  1  9  1 10  6 10 10 19 19 12 17 18 19\n",
            "  6]\n",
            "[19 19 19 23 23]\n"
          ]
        }
      ],
      "source": [
        "a=np.random.randint(0,25,25)\n",
        "k=5\n",
        "b=np.partition(a,len(a)-k)[len(a)-k :]\n",
        "print(a)\n",
        "print(b)"
      ]
    },
    {
      "cell_type": "code",
      "execution_count": 52,
      "metadata": {
        "colab": {
          "base_uri": "https://localhost:8080/"
        },
        "id": "ojnRaMQtsZUW",
        "outputId": "573ab6b4-6d84-4aae-fa89-b84e4ca21c91"
      },
      "outputs": [
        {
          "name": "stdout",
          "output_type": "stream",
          "text": [
            "[ 4 -2  2  1 -9 -1  4 -4  8  0  0 -1]\n",
            "[ 0  0  1 -1 -1  2 -2  4  4 -4  8 -9]\n"
          ]
        }
      ],
      "source": [
        "a=np.random.randint(-10,10,size=12)\n",
        "print(a)\n",
        "\n",
        "# b=np.array(sorted(a,key=lambda x:abs(x)))\n",
        "# print(b)\n",
        "\n",
        "idx=np.argsort(np.abs(a))\n",
        "print(a[idx])"
      ]
    },
    {
      "cell_type": "code",
      "execution_count": 53,
      "metadata": {
        "colab": {
          "base_uri": "https://localhost:8080/"
        },
        "id": "ldqi-9jlsNuG",
        "outputId": "4fb8da9a-ff85-441c-ff93-aad695428ea3"
      },
      "outputs": [
        {
          "data": {
            "text/plain": [
              "array([3, 6, 2, 1, 7, 8, 4])"
            ]
          },
          "execution_count": 53,
          "metadata": {},
          "output_type": "execute_result"
        }
      ],
      "source": [
        "arr=np.array([3,7,2,1,8,6,4])# 3 6 2 1 7 8 4\n",
        "k=5\n",
        "mask=arr>k\n",
        "arr[mask]=np.sort(arr[mask])\n",
        "arr"
      ]
    },
    {
      "cell_type": "markdown",
      "metadata": {
        "id": "gPghNT4V8CFw"
      },
      "source": [
        "# **Indexing and slicing**"
      ]
    },
    {
      "cell_type": "markdown",
      "metadata": {
        "id": "O9CJs-Un8X3_"
      },
      "source": [
        "#### 1. 2D Array Indexing\n",
        "Consider the following 2D array:\n",
        "`arr_2d = np.array([[5, 10, 15], [20, 25, 30], [35, 40, 45]])`\n",
        "- Access the element at row index 1 and column index 2.\n",
        "- Extract the first row.\n",
        "- Extract the last column."
      ]
    },
    {
      "cell_type": "code",
      "execution_count": 54,
      "metadata": {
        "colab": {
          "base_uri": "https://localhost:8080/"
        },
        "id": "Bwevrmd-spTR",
        "outputId": "d4d2f51a-4b61-49a4-87e3-378536b9d809"
      },
      "outputs": [
        {
          "name": "stdout",
          "output_type": "stream",
          "text": [
            "30\n",
            "[ 5 10 15]\n",
            "[15 30 45]\n"
          ]
        }
      ],
      "source": [
        "arr_2d = np.array([[5, 10, 15], [20, 25, 30], [35, 40, 45]])\n",
        "print(arr_2d[1,2])\n",
        "print(arr_2d[0,:])\n",
        "print(arr_2d[:,2])"
      ]
    },
    {
      "cell_type": "markdown",
      "metadata": {},
      "source": [
        "#dd"
      ]
    },
    {
      "cell_type": "markdown",
      "metadata": {
        "id": "aXGnlXAo8ai8"
      },
      "source": [
        "#### 2. Boolean Indexing\n",
        "Given an array `arr = np.array([2, 5, 8, 11, 14, 17, 20])`, use boolean indexing to:\n",
        "- Extract all values greater than 10.\n",
        "- Replace all values greater than 15 with -1."
      ]
    },
    {
      "cell_type": "code",
      "execution_count": 55,
      "metadata": {
        "colab": {
          "base_uri": "https://localhost:8080/"
        },
        "id": "4aFolpPns1HG",
        "outputId": "adfb0f81-6442-4931-c748-7a6d11b2a737"
      },
      "outputs": [
        {
          "name": "stdout",
          "output_type": "stream",
          "text": [
            "[11 14 17 20]\n",
            "[ 2  5  8 11 14 -1 -1]\n"
          ]
        }
      ],
      "source": [
        "arr = np.array([2, 5, 8, 11, 14, 17, 20])\n",
        "mask=arr>10\n",
        "mask2=arr>15\n",
        "print(arr[mask])\n",
        "arr[mask2]=-1\n",
        "print(arr)"
      ]
    },
    {
      "cell_type": "markdown",
      "metadata": {
        "id": "cSMQOL_78dGJ"
      },
      "source": [
        "#### 3. Fancy Indexing\n",
        "Using the 2D array `arr_2d = np.array([[5, 10, 15], [20, 25, 30], [35, 40, 45]])`, write code to:\n",
        "\n",
        "- Select the elements at positions (0,2), (1,1), and (2,0).\n",
        "- Use fancy indexing to create a submatrix with rows 0 and 2, and columns 1 and 2.\n",
        "\n",
        "- **Hint:**\n",
        " - For 1st part, use arrays of row and column indices\n",
        " - For 2nd part, you can create a submatrix using fancy indexing by using np.newaxis to match the dimensions\n"
      ]
    },
    {
      "cell_type": "code",
      "execution_count": 56,
      "metadata": {
        "colab": {
          "base_uri": "https://localhost:8080/"
        },
        "id": "isf9VGKMzSEj",
        "outputId": "a9657ee2-fc17-4de5-e975-539498401d45"
      },
      "outputs": [
        {
          "name": "stdout",
          "output_type": "stream",
          "text": [
            "[15 25 35]\n",
            "[[10 15]\n",
            " [40 45]]\n"
          ]
        }
      ],
      "source": [
        "arr_2d = np.array([[5, 10, 15], [20, 25, 30], [35, 40, 45]])\n",
        "# print(arr_2d)\n",
        "\n",
        "print(arr_2d[[0,1,2],[2,1,0]])\n",
        "row_array=np.array([0,2])\n",
        "col_array=np.array([1,2])\n",
        "#why not b=arr_2d[row_array,col_array]\n",
        "b=arr_2d[row_array,1:3]\n",
        "print(b)"
      ]
    },
    {
      "cell_type": "markdown",
      "metadata": {
        "id": "neMikU6N8fdJ"
      },
      "source": [
        "#### 4. Slicing 1D array\n",
        "Given the array `arr = np.array([1, 3, 5, 7, 9, 11, 13, 15])`, write code to:\n",
        "\n",
        "- Extract the first 4 elements.\n",
        "- Extract every second element from the entire array.\n",
        "- Extract elements from index 2 to the end, stepping by 2."
      ]
    },
    {
      "cell_type": "code",
      "execution_count": 57,
      "metadata": {
        "colab": {
          "base_uri": "https://localhost:8080/"
        },
        "id": "iipCcI7HzSEj",
        "outputId": "d5f86a53-14bd-4ea6-c1c6-48804bf12e51"
      },
      "outputs": [
        {
          "name": "stdout",
          "output_type": "stream",
          "text": [
            "[1 3 5 7] [ 1  5  9 13] [ 5  9 13]\n"
          ]
        }
      ],
      "source": [
        "arr = np.array([1, 3, 5, 7, 9, 11, 13, 15])\n",
        "a=arr[:4]\n",
        "b=arr[::2]\n",
        "c=arr[2::2]\n",
        "print(a,b,c)"
      ]
    },
    {
      "cell_type": "markdown",
      "metadata": {
        "id": "QnTy4Zj98h4I"
      },
      "source": [
        "#### 5. Slicing a 2D Array\n",
        "Given the following 2D array:\n",
        "`arr_2d = np.array([[10, 20, 30, 40], [50, 60, 70, 80], [90, 100, 110, 120]])`\n",
        "- Slice and print the last two columns of 1st row.\n",
        "- Slice and print the last row, reversed."
      ]
    },
    {
      "cell_type": "code",
      "execution_count": 58,
      "metadata": {
        "colab": {
          "base_uri": "https://localhost:8080/"
        },
        "id": "q4aLSeqgzSEj",
        "outputId": "fbc0939b-53b6-48d9-e6b7-a972185c68bb"
      },
      "outputs": [
        {
          "name": "stdout",
          "output_type": "stream",
          "text": [
            "[30 40]\n",
            "[120 110 100  90]\n"
          ]
        }
      ],
      "source": [
        "arr_2d = np.array([[10, 20, 30, 40], [50, 60, 70, 80], [90, 100, 110, 120]])\n",
        "print(arr_2d[0,[2,3]])\n",
        "print(arr_2d[2][::-1])"
      ]
    },
    {
      "cell_type": "markdown",
      "metadata": {
        "id": "DWgodK9V8kVv"
      },
      "source": [
        "#### 6. Handling Out-of-Range Indices in Slicing vs. Indexing\n",
        "Given the array:\n",
        "`arr = np.array([10, 20, 30, 40, 50])`\n",
        "\n",
        "\n",
        "- What will be the output of the following slicing operations? Explain why they work, even though some indices are out of range.\n",
        " - print(arr[2:10])  \n",
        " - print(arr[-10:3])    \n",
        "\n",
        "- Compare the behavior of slicing to accessing a single element with an out-of-range index (e.g., arr[10]). Why does slicing not raise an error in these cases, but indexing does?"
      ]
    },
    {
      "cell_type": "markdown",
      "metadata": {
        "id": "1Dl69YMlzSEj"
      },
      "source": [
        "[30,40,50]\n",
        "[10,20,30]\n",
        "\n",
        "1)This happens as slicing starts from starting index 2 and the compiler sees that the index is > than len(arr)-1 so it auto assigns the index to end of array.\n",
        " In the second case compiler sees index is less than -(len(arr)) it assigns the index to start of array\n",
        "\n",
        "\n",
        "2)When a single element is accessed\n",
        "\n"
      ]
    },
    {
      "cell_type": "markdown",
      "metadata": {
        "id": "xDOOiJe7r_Vx"
      },
      "source": [
        "#### 7.  Work with an Audio File\n",
        "\n",
        "Download the audio file from the following link: Simple Logo - Pixabay. Load the audio file using pydub and complete the following tasks:\n",
        "\n",
        "- Extract the first second of the audio and plot its waveform.\n",
        "   - Hint: Use the frame rate to calculate how many samples are in 1 second, and use slicing to extract this part.\n",
        "\n",
        "-   Extract the last second of the audio and plot its waveform.\n",
        "  \n",
        "\n",
        "-  Combine the samples from the first second and the last second into a new array and plot the combined waveform.\n",
        " - Hint: Use NumPy’s np.concatenate() function to merge the two slices."
      ]
    },
    {
      "cell_type": "code",
      "execution_count": null,
      "metadata": {
        "colab": {
          "base_uri": "https://localhost:8080/",
          "height": 1000
        },
        "id": "oCuawPitzSEk",
        "outputId": "a89999fe-4b8a-46f6-c65d-65189cd41819"
      },
      "outputs": [],
      "source": [
        "from pydub import AudioSegment\n",
        "\n",
        "audio_path = \"/content/drive/MyDrive/Colab Notebooks/simple.mp3\"\n",
        "\n",
        "audio = AudioSegment.from_mp3(audio_path)\n",
        "audio= audio.set_channels(1)\n",
        "audio_arr = np.array(audio.get_array_of_samples())\n",
        "print(audio.duration_seconds)\n",
        "onesec=audio.frame_rate\n",
        "\n",
        "\n",
        "time = np.linspace(0, len(audio_arr) / audio.frame_rate, num=len(audio_arr))\n",
        "plt.plot(time, audio_arr)\n",
        "plt.xlabel(\"Time\")\n",
        "plt.show()\n",
        "\n",
        "\n",
        "time = np.linspace(0, 1, num=int(audio.frame_count(1000)))\n",
        "first_sec=audio_arr[:onesec]\n",
        "plt.plot(time,first_sec)\n",
        "plt.xlabel(\"Time\")\n",
        "plt.show()\n",
        "\n",
        "last_sec=audio_arr[-onesec:]\n",
        "plt.plot(time,last_sec)\n",
        "plt.xlabel(\"Time\")\n",
        "plt.show()\n",
        "\n",
        "\n",
        "time = np.linspace(0, 2, num=int(audio.frame_count(2000)))\n",
        "plt.plot(time,np.concatenate((first_sec,last_sec)))\n",
        "plt.xlabel(\"Time\")\n",
        "plt.show()\n"
      ]
    },
    {
      "cell_type": "markdown",
      "metadata": {
        "id": "bRFENqbOGX1X"
      },
      "source": [
        "# **Reshaping in NumPy**\n"
      ]
    },
    {
      "cell_type": "markdown",
      "metadata": {
        "id": "Gv2cCyxAdS3Q"
      },
      "source": [
        "####1. Create a 2D array of shape (3, 5). Flatten it into a 1D array and then reshape it back into a (5, 3) array.\n",
        "\n",
        "####2. Create a 1D array\n",
        "```\n",
        "arr = np.array([1, 2, 3, 4, 5])\n",
        "```\n",
        "####Reshape arr into (5,1), then convert to (5,) and then convert it into (1,5).\n",
        "\n",
        "\n",
        "####3. Create a 1D NumPy array with values ranging from 1 to 100. Reshape it into a (10, 10) matrix. Apply '.ravel()' and '.flatten()' on the matrix and modify the original matrix. Compare the outputs of both methods and explain the difference in memory sharing.\n",
        "\n",
        "\n",
        "####4. Generate a 5x5 NumPy matrix representing pixel intensities from an image. Use slicing to extract the central 3x3 section of the matrix and flatten it. How does reshaping impact the spatial relationships of the pixels?\n",
        "\n",
        "\n",
        "####5. Create a 3-channel RGB image as a NumPy array of shape (3, 4, 4) with random integer values between 0 and 255. Flatten the image using '.reshape()' and reshape it back to its original shape. Explain the order of pixel data stored and how reshaping affects the channel structure.\n",
        "\n"
      ]
    },
    {
      "cell_type": "code",
      "execution_count": 60,
      "metadata": {
        "colab": {
          "base_uri": "https://localhost:8080/"
        },
        "id": "580bG2swI-Fu",
        "outputId": "df0fbc59-470f-49cf-a94b-ff1fe0300e14"
      },
      "outputs": [
        {
          "name": "stdout",
          "output_type": "stream",
          "text": [
            "[[14  4 11  9 18]\n",
            " [24 23  4 10 20]\n",
            " [15  1 21 16  3]]\n",
            "[14  4 11  9 18 24 23  4 10 20 15  1 21 16  3]\n",
            "[[14  4 11]\n",
            " [ 9 18 24]\n",
            " [23  4 10]\n",
            " [20 15  1]\n",
            " [21 16  3]]\n"
          ]
        }
      ],
      "source": [
        "a=np.random.randint(1,25,size=(3,5))\n",
        "print(a)\n",
        "a=a.flatten()\n",
        "print(a)\n",
        "a=a.reshape(5,3)\n",
        "print(a)"
      ]
    },
    {
      "cell_type": "code",
      "execution_count": 61,
      "metadata": {
        "colab": {
          "base_uri": "https://localhost:8080/"
        },
        "id": "HI2jnAKtJ5BW",
        "outputId": "a2a62865-171c-4c49-a320-8ea6b200f423"
      },
      "outputs": [
        {
          "name": "stdout",
          "output_type": "stream",
          "text": [
            "[[1]\n",
            " [2]\n",
            " [3]\n",
            " [4]\n",
            " [5]]\n",
            "[1 2 3 4 5]\n",
            "[[1 2 3 4 5]]\n"
          ]
        }
      ],
      "source": [
        "arr = np.array([1, 2, 3, 4, 5])\n",
        "arr=arr.reshape(5,1)\n",
        "print(arr)\n",
        "arr=arr.reshape(5,)\n",
        "print(arr)\n",
        "arr=arr.reshape(1,5)\n",
        "print(arr)"
      ]
    },
    {
      "cell_type": "code",
      "execution_count": 62,
      "metadata": {
        "colab": {
          "base_uri": "https://localhost:8080/"
        },
        "id": "D903vCDbRdDe",
        "outputId": "46c9ad3b-801f-4eee-d99b-ce9dca205c08"
      },
      "outputs": [
        {
          "name": "stdout",
          "output_type": "stream",
          "text": [
            "Ravel Array: [  1   2   3   4   5   6   7   8   9  10  11  12  13  14  15  16  17  18\n",
            "  19  20  21  22  23  24  25  26  27  28  29  30  31  32  33  34  35  36\n",
            "  37  38  39  40  41  42  43  44  45  46  47  48  49  50  51  52  53  54\n",
            "  55  56  57  58  59  60  61  62  63  64  65  66  67  68  69  70  71  72\n",
            "  73  74  75  76  77  78  79  80  81  82  83  84  85  86  87  88  89  90\n",
            "  91  92  93  94  95  96  97  98  99 100]\n",
            "Flatten Array: [  1   2   3   4   5   6   7   8   9  10  11  12  13  14  15  16  17  18\n",
            "  19  20  21  22  23  24  25  26  27  28  29  30  31  32  33  34  35  36\n",
            "  37  38  39  40  41  42  43  44  45  46  47  48  49  50  51  52  53  54\n",
            "  55  56  57  58  59  60  61  62  63  64  65  66  67  68  69  70  71  72\n",
            "  73  74  75  76  77  78  79  80  81  82  83  84  85  86  87  88  89  90\n",
            "  91  92  93  94  95  96  97  98  99 100]\n"
          ]
        }
      ],
      "source": [
        "arr_1d = np.arange(1,101)\n",
        "matrix = arr_1d.reshape(10, 10)\n",
        "\n",
        "arr = matrix.ravel()\n",
        "print(\"Ravel Array:\", arr)\n",
        "\n",
        "arr = matrix.flatten()\n",
        "print(\"Flatten Array:\", arr)\n",
        "\n",
        "\n",
        "# .ravel() returns a view of the original array ie.the same memory.\n",
        "# So, modifying the original matrix also changes the ravel array.\n",
        "\n",
        "# .flatten() returns a copy of the original array, so changes to the original do not affect it."
      ]
    },
    {
      "cell_type": "code",
      "execution_count": 63,
      "metadata": {
        "colab": {
          "base_uri": "https://localhost:8080/"
        },
        "id": "fwR3oJVudIDb",
        "outputId": "17ed774b-b4e5-458a-d6dd-e40ce7e9f0d7"
      },
      "outputs": [
        {
          "name": "stdout",
          "output_type": "stream",
          "text": [
            "[[102 179  92  14 106]\n",
            " [ 71 188  20 102 121]\n",
            " [210 214  74 202  87]\n",
            " [116  99 103 151 130]\n",
            " [149  52   1  87 235]]\n",
            "[188  20 102 214  74 202  99 103 151]\n"
          ]
        }
      ],
      "source": [
        "np.random.seed(seed=42)\n",
        "imArr=np.random.randint(0,255,size=(5,5))\n",
        "\n",
        "print(imArr)\n",
        "\n",
        "a=imArr[1:4,1:4].flatten()\n",
        "\n",
        "print(a)\n",
        "\n",
        "#The spatial arrangement of the data of the image changes .The data about spatial orientation of the pixels of the image is lost .\n",
        "#But if you know thw way the array has been flattened you can retrieve the original array back\n",
        "# eg to get original array back in np.flatten you can you reshape back to its original shape.\n",
        "# This works as both of them uses C-style to flatten and reshape\n"
      ]
    },
    {
      "cell_type": "code",
      "execution_count": 64,
      "metadata": {
        "colab": {
          "base_uri": "https://localhost:8080/"
        },
        "id": "S7OXS1ATkBPU",
        "outputId": "dd1f8704-d0f4-4564-986d-6c82939b578c"
      },
      "outputs": [
        {
          "name": "stdout",
          "output_type": "stream",
          "text": [
            "Original image  [[[157  68  37  91]\n",
            "  [129  51 191 140]\n",
            "  [187   1  20 243]\n",
            "  [160  19 203 226]]\n",
            "\n",
            " [[ 57 149  21  86]\n",
            "  [252 207 235 147]\n",
            "  [ 88 231  48 141]\n",
            "  [218  87  58 162]]\n",
            "\n",
            " [[254  93 169 181]\n",
            "  [255 242 219 201]\n",
            "  [187  72 207 201]\n",
            "  [ 14 150 189 193]]] \n",
            "\n",
            "Flattened image : [157  68  37  91 129  51 191 140 187   1  20 243 160  19 203 226  57 149\n",
            "  21  86 252 207 235 147  88 231  48 141 218  87  58 162 254  93 169 181\n",
            " 255 242 219 201 187  72 207 201  14 150 189 193] \n",
            "\n",
            "Reshaped image data: [[[157  68  37  91]\n",
            "  [129  51 191 140]\n",
            "  [187   1  20 243]\n",
            "  [160  19 203 226]]\n",
            "\n",
            " [[ 57 149  21  86]\n",
            "  [252 207 235 147]\n",
            "  [ 88 231  48 141]\n",
            "  [218  87  58 162]]\n",
            "\n",
            " [[254  93 169 181]\n",
            "  [255 242 219 201]\n",
            "  [187  72 207 201]\n",
            "  [ 14 150 189 193]]] \n",
            "\n"
          ]
        }
      ],
      "source": [
        "image = np.random.randint(0, 256, (3, 4, 4), dtype=np.int16)\n",
        "print(\"Original image \", image,'\\n')\n",
        "\n",
        "flattened_image = image.flatten()\n",
        "print(\"Flattened image :\", flattened_image,'\\n')\n",
        "\n",
        "reshaped_image = flattened_image.reshape(3, 4, 4)\n",
        "print(\"Reshaped image data:\", reshaped_image,'\\n')\n",
        "\n",
        "# When you flatten the data ,the data values of the Red appears first in the flattened array then Green and then Blue.\n",
        "# When you shape it original position and shape of all the pixel is brought back as both flatten and reshape by default follow \"C-order\"\n"
      ]
    },
    {
      "cell_type": "markdown",
      "metadata": {
        "id": "6N9gUypIpV_H"
      },
      "source": [
        "# **Universal Functions**\n",
        "\n",
        "Q1) Given an array x = [1, 4, 9, 16, 25], compute the square root of each element in the array and print the result.\n",
        "\n",
        "Q2) Create an array angles =[0, $\\frac{\\pi}{2}$, $\\pi$, $\\frac{3\\pi}{2}$]\n",
        ", calculate the sine of each angle and print the result.\n",
        "\n",
        "\n",
        "\n",
        "Q3) Given two arrays a =[True, False, True] and b = [False, False, True], perform an element-wise logical AND operation and print the result.\n",
        "\n",
        "Q4) Create two arrays x = [1, 2, 3, 4] and y = [2, 2, 3, 5], perform an element-wise comparison (x < y) and print the result.\n",
        "\n",
        "Q5) Create an array x =[-2, -1, 0, 1, 2, 3, 4], compute the following element-wise operation:\n",
        "\n",
        "* If an element is negative, square it.\n",
        "* If an element is non-negative, compute its exponential.\n",
        "Print the resulting array."
      ]
    },
    {
      "cell_type": "code",
      "execution_count": 65,
      "metadata": {
        "colab": {
          "base_uri": "https://localhost:8080/"
        },
        "id": "dWQGCBkkn4H8",
        "outputId": "4fc3edb0-5e25-4b79-8239-83fb9f42c8b6"
      },
      "outputs": [
        {
          "name": "stdout",
          "output_type": "stream",
          "text": [
            "[1. 2. 3. 4. 5.]\n"
          ]
        }
      ],
      "source": [
        "x=np.array([1,4,9,16,25])\n",
        "print(np.sqrt(x))"
      ]
    },
    {
      "cell_type": "code",
      "execution_count": 66,
      "metadata": {
        "colab": {
          "base_uri": "https://localhost:8080/"
        },
        "id": "CJFLHhvpoBmS",
        "outputId": "22ec0e0a-a5fd-40fa-d7ab-db2cadf158c6"
      },
      "outputs": [
        {
          "name": "stdout",
          "output_type": "stream",
          "text": [
            "[ 0.0000000e+00  1.0000000e+00  1.2246468e-16 -1.0000000e+00]\n"
          ]
        }
      ],
      "source": [
        "angles=np.array([0,np.pi/2,np.pi,3*np.pi/2])\n",
        "print(np.sin(angles))"
      ]
    },
    {
      "cell_type": "code",
      "execution_count": 67,
      "metadata": {
        "colab": {
          "base_uri": "https://localhost:8080/"
        },
        "id": "Crh0mb1woOTi",
        "outputId": "b12c6a31-0c88-408d-dfa8-7868dcbc0167"
      },
      "outputs": [
        {
          "name": "stdout",
          "output_type": "stream",
          "text": [
            "[False False  True]\n"
          ]
        }
      ],
      "source": [
        "a=np.array([True,False,True])\n",
        "b=np.array([False,False,True])\n",
        "c=np.logical_and(a,b)\n",
        "print(c)"
      ]
    },
    {
      "cell_type": "code",
      "execution_count": 68,
      "metadata": {
        "colab": {
          "base_uri": "https://localhost:8080/"
        },
        "id": "wEtK3jrro1tF",
        "outputId": "9eb7ce19-3160-4873-9a4f-1b8f6b9dc03e"
      },
      "outputs": [
        {
          "name": "stdout",
          "output_type": "stream",
          "text": [
            "[ True False False  True]\n"
          ]
        }
      ],
      "source": [
        "x=np.array([1,2,3,4])\n",
        "y=np.array([2,2,3,5])\n",
        "mask=y>x\n",
        "print(mask)"
      ]
    },
    {
      "cell_type": "code",
      "execution_count": 69,
      "metadata": {
        "colab": {
          "base_uri": "https://localhost:8080/"
        },
        "id": "VEJeGIgxpHT1",
        "outputId": "03f53eed-494a-4af5-de49-334b7f9caf85"
      },
      "outputs": [
        {
          "name": "stdout",
          "output_type": "stream",
          "text": [
            "[ 4.         1.         1.         2.718282   7.3890557 20.085537\n",
            " 54.59815  ] float32\n"
          ]
        }
      ],
      "source": [
        "x=np.array([-2, -1, 0, 1, 2, 3, 4]).astype(np.float32)\n",
        "mask=x<0\n",
        "x[mask]=np.square(x[mask])\n",
        "\n",
        "x[np.logical_not(mask)]=np.exp(x[np.logical_not(mask)])\n",
        "print(x,x.dtype)"
      ]
    },
    {
      "cell_type": "markdown",
      "metadata": {
        "id": "gpcuUfrjZiBa"
      },
      "source": [
        "# **Aggregations**\n",
        "\n",
        "\n",
        "####1. Generate a random array of size 10.\n",
        " calculate the following:\n",
        "- Print the array\n",
        "- The sum of all elements.\n",
        "- The mean of the array.\n",
        "- The standard deviation.\n",
        "- Find 5$*$Minimum -3$*$Maximum\n",
        "\n",
        "####2. Generate a 4x5 matrix with random integers between 1 and 50.\n",
        "- Print the matrix.\n",
        "- Compute the mean of all elements in the matrix.\n",
        "- Compute the sum of each row in the matrix.\n",
        "\n",
        "####3. Generate a random 3x3 matrix with random integers between 1 to 10\n",
        "- Find the minimum value in each column and store it in a separate list min.\n",
        "- Find the maximum value in each row and store it in a separate list max.\n",
        "- Find the value of minimum of list max - maximum of list min.\n",
        "\n",
        "####4. Given the array : data = np.array([15, 25, 35, 45, 55, 65]):\n",
        "- Find the minimum value.\n",
        "- Subtract this minimum value from all elements of the array and then calculate the mean of the resulting array.\n",
        "\n",
        "####5. Given the array : arr = np.array([3, 5, 7, 9, 11]):\n",
        "- Compute the cumulative sum of the elements.\n",
        "- Compute the cumulative product of the elements.\n",
        "\n",
        "####6. Imagine you have a dataset representing the scores of 4 students in 3 subjects:\n",
        "scores = np.array([[85, 92, 78], [88, 76, 95], [91, 89, 82], [75, 85, 88]])\n",
        "- Compute the average score for each student.\n",
        "- Compute the highest score in each subject.\n",
        "- Determine the overall average score for all students across all subjects."
      ]
    },
    {
      "cell_type": "code",
      "execution_count": 70,
      "metadata": {
        "colab": {
          "base_uri": "https://localhost:8080/"
        },
        "id": "pV3X4h2AJJUZ",
        "outputId": "bb1619b9-0a86-4a4f-f48d-fa80cbae82f6"
      },
      "outputs": [
        {
          "name": "stdout",
          "output_type": "stream",
          "text": [
            "arr: [15 19 12 23 20  3  5 19  7 21]\n",
            "sum: 144\n",
            "mean: 14.4\n",
            "std: 6.8585712797928995\n",
            "ans: -54\n"
          ]
        }
      ],
      "source": [
        "arr=np.random.randint(1,25,size=10)\n",
        "sum=np.sum(arr)\n",
        "mean=np.mean(arr)\n",
        "std=np.std(arr)\n",
        "ans=5*arr.min()-3*arr.max()\n",
        "print(\"arr:\",arr)\n",
        "print(\"sum:\",sum)\n",
        "print(\"mean:\",mean)\n",
        "print(\"std:\",std)\n",
        "print(\"ans:\",ans)"
      ]
    },
    {
      "cell_type": "code",
      "execution_count": 71,
      "metadata": {
        "colab": {
          "base_uri": "https://localhost:8080/"
        },
        "id": "sopnWzabNLv2",
        "outputId": "92bd5680-d162-4cda-c1be-8996e2f7e046"
      },
      "outputs": [
        {
          "name": "stdout",
          "output_type": "stream",
          "text": [
            "[[ 9 39 18  4 25]\n",
            " [14  9 26  2 20]\n",
            " [28 47  7 44  8]\n",
            " [47 35 14 17 36]]\n",
            "22.45\n",
            "[ 95  71 134 149]\n"
          ]
        }
      ],
      "source": [
        "arr=np.random.randint(1,50,size=(4,5))\n",
        "print(arr)\n",
        "\n",
        "mean=np.mean(arr)\n",
        "print(mean)\n",
        "\n",
        "sums=np.sum(arr,axis=1)\n",
        "print(sums)"
      ]
    },
    {
      "cell_type": "code",
      "execution_count": 72,
      "metadata": {
        "colab": {
          "base_uri": "https://localhost:8080/"
        },
        "id": "yKVdv3UMRXq6",
        "outputId": "12e45b93-9786-49b3-aa30-8547532996b0"
      },
      "outputs": [
        {
          "name": "stdout",
          "output_type": "stream",
          "text": [
            "[[ 2  8  4]\n",
            " [ 2 14  6]\n",
            " [ 6 10  4]]\n",
            "list min: [2 8 4]\n",
            "list max: [ 8 14 10]\n",
            "Ans: 0\n"
          ]
        }
      ],
      "source": [
        "arr=np.random.randint(1,15,size=(3,3))\n",
        "minCol=np.min(arr,axis=0)\n",
        "maxRow=np.max(arr,axis=1)\n",
        "ans=np.min(maxRow)-np.max(minCol)\n",
        "print(arr)\n",
        "print(\"list min:\",minCol)\n",
        "print(\"list max:\",maxRow)\n",
        "print(\"Ans:\",ans)"
      ]
    },
    {
      "cell_type": "code",
      "execution_count": 73,
      "metadata": {
        "colab": {
          "base_uri": "https://localhost:8080/"
        },
        "id": "9odQxtP9TnuD",
        "outputId": "852ef632-68c5-4673-8396-48ed8683d8ff"
      },
      "outputs": [
        {
          "name": "stdout",
          "output_type": "stream",
          "text": [
            "[15 25 35 45 55 65]\n",
            "15\n",
            "25.0\n"
          ]
        }
      ],
      "source": [
        "data = np.array([15, 25, 35, 45, 55, 65])\n",
        "print(data)\n",
        "minVal=np.min(data)\n",
        "print(minVal)\n",
        "mean=np.mean(data-minVal)\n",
        "print(mean)"
      ]
    },
    {
      "cell_type": "code",
      "execution_count": 74,
      "metadata": {
        "colab": {
          "base_uri": "https://localhost:8080/"
        },
        "id": "E62DGtoZUFlW",
        "outputId": "bf5be765-95bb-4a54-8db0-b320d545e618"
      },
      "outputs": [
        {
          "name": "stdout",
          "output_type": "stream",
          "text": [
            "[ 3  8 15 24 35]\n",
            "[    3    15   105   945 10395]\n"
          ]
        }
      ],
      "source": [
        "arr = np.array([3, 5, 7, 9, 11])\n",
        "cSum=np.cumsum(arr)\n",
        "cProd=np.cumprod(arr)\n",
        "print(cSum)\n",
        "print(cProd)"
      ]
    },
    {
      "cell_type": "code",
      "execution_count": 75,
      "metadata": {
        "colab": {
          "base_uri": "https://localhost:8080/"
        },
        "id": "3kwvGoXEYtnd",
        "outputId": "67e52b62-da4e-41b4-dfee-7ee2e6f1710f"
      },
      "outputs": [
        {
          "name": "stdout",
          "output_type": "stream",
          "text": [
            "Stud Avg: [85.         86.33333333 87.33333333 82.66666667]\n",
            "Max Score of Stud: [92 95 91 88]\n",
            "Avg Marks: 85.33333333333333\n"
          ]
        }
      ],
      "source": [
        "scores = np.array([[85, 92, 78], [88, 76, 95], [91, 89, 82], [75, 85, 88]])\n",
        "studAvg=np.average(scores,axis=1)\n",
        "maxScore=np.max(scores,axis=1)\n",
        "Average=np.average(scores)\n",
        "print(\"Stud Avg:\",studAvg)\n",
        "print(\"Max Score of Stud:\",maxScore)\n",
        "print(\"Avg Marks:\",Average)\n"
      ]
    },
    {
      "cell_type": "markdown",
      "metadata": {
        "id": "bXLxBAUL3cRt"
      },
      "source": [
        "# **Broadcasting in NumPy**\n",
        "\n",
        "\n",
        "\n",
        "####1. Given two arrays:\n",
        "\n",
        "A = np.array([[1, 2, 3], [4, 5, 6], [7, 8, 9]]) (shape: (3, 3))\n",
        "B = np.array([10, 20, 30]) (shape: (3,))\n",
        "Perform elementwise addition of A and B using broadcasting and print the result.\n",
        "\n",
        "What is the resulting shape?\n",
        "\n",
        "\n",
        "\n",
        "\n",
        "\n",
        "####2. Write a function check_broadcasting(shape1, shape2) that:\n",
        "\n",
        "Accepts two shapes as input and checks if they are broadcast-compatible.\n",
        "Use the function to test the following shape pairs:\n",
        "(3, 4) and (4,)\n",
        "(2, 1, 5) and (3, 5)\n",
        "(2, 3) and (2,)\n",
        "\n",
        "For each case:\n",
        "\n",
        "* State whether broadcasting is possible.\n",
        "\n",
        "* If possible, state the resulting shape of the operation\n",
        "\n",
        "####3. Create a 2D array A of shape (3, 5) with random integers between 1 and 10.\n",
        "Create a 1D array B of shape (5,) with random integers between 1 and 5.\n",
        "Use broadcasting to subtract B from each row of A and print the result.\n",
        "\n",
        "####4.  Create a 3D array A with shape (2, 4, 3) filled with random integers between 0 and 10.\n",
        "\n",
        "* Create an array B of shape (4, 3) containing a constant value of 5.\n",
        "* Use broadcasting to add B to each 2D array slice of A.\n",
        "* Print the result\n",
        "\n",
        "####5. : You are given a grayscale image of shape (32, 32), where each pixel value is an integer. You want to apply a scaling factor of 0.5 to all the pixel values using broadcasting.\n",
        "\n",
        "\n",
        "* Use broadcasting to scale the image by multiplying it with the scaling factor 0.5.\n",
        "* Verify that the pixel values of the image are halved by printing the scaled image.\n",
        "\n",
        "####6. Calculate the distance between an observation point and a set of code points (codes). The goal is to find the closest code to the observation by calculating the Euclidean distance between each code and the observation.\n",
        "\n",
        "* Given two arrays :\n",
        "\n",
        "codes = np.array([\n",
        "    [1.0, 2.0, 3.0],\n",
        "    [4.0, 5.0, 6.0],\n",
        "    [7.0, 8.0, 9.0],\n",
        "    [1.0, 1.0, 1.0],\n",
        "    [2.0, 3.0, 4.0]\n",
        "])\n",
        "\n",
        "\n",
        "observation = np.array([3.0, 3.0, 3.0])\n",
        "\n",
        "\n",
        "* Use broadcasting to calculate the squared Euclidean distance between the observation and each code.\n",
        "* Find and print the index of the closest code to the observation.\n",
        "* Print the distance between the observation and the closest code.\n",
        "\n",
        "**HINT : use np.argmin() to find the index of the closest code**\n",
        "\n",
        "\n"
      ]
    },
    {
      "cell_type": "code",
      "execution_count": 76,
      "metadata": {
        "colab": {
          "base_uri": "https://localhost:8080/"
        },
        "id": "JlsMeQNha6rZ",
        "outputId": "3ba335dd-ea74-43d6-efbb-5c15f4783402"
      },
      "outputs": [
        {
          "name": "stdout",
          "output_type": "stream",
          "text": [
            "[[11 22 33]\n",
            " [14 25 36]\n",
            " [17 28 39]] (3, 3)\n"
          ]
        }
      ],
      "source": [
        "A = np.array([[1, 2, 3], [4, 5, 6], [7, 8, 9]])\n",
        "B = np.array([10, 20, 30])\n",
        "C=A+B\n",
        "print(C,C.shape)\n",
        "\n",
        "#The resulting shape is (3,3)"
      ]
    },
    {
      "cell_type": "code",
      "execution_count": 77,
      "metadata": {
        "colab": {
          "base_uri": "https://localhost:8080/"
        },
        "id": "tXxMKUvOgKeM",
        "outputId": "d6e8b305-ac12-45db-d5ed-0729d946f053"
      },
      "outputs": [
        {
          "name": "stdout",
          "output_type": "stream",
          "text": [
            "(3, 4) (4,) Possible\n",
            "shape: [3 4]\n",
            "(2, 1, 5) (3, 5) Possible\n",
            "shape: [2 3 5]\n",
            "(2, 3) (2,) Not Possible\n"
          ]
        }
      ],
      "source": [
        "def check_broadcasting(shape1, shape2):\n",
        "  aShape=np.array(shape1)\n",
        "  bShape=np.array(shape2)\n",
        "  while aShape.shape != bShape.shape :\n",
        "    if aShape.shape > bShape.shape:\n",
        "      bShape=np.append(1,bShape)\n",
        "    else:\n",
        "      aShape=np.append(1,aShape)\n",
        "\n",
        "  for i,j in zip(aShape,bShape):\n",
        "    if i!=j and i!=1 and j!=1:\n",
        "      print(shape1,shape2,\"Not Possible\")\n",
        "      return None\n",
        "\n",
        "  print(shape1,shape2,\"Possible\")\n",
        "  aShape[aShape==1]=0\n",
        "  bShape[bShape==1]=0\n",
        "\n",
        "  Shape=aShape|bShape\n",
        "  print(\"shape:\",Shape)\n",
        "\n",
        "check_broadcasting((3,4), (4,))\n",
        "check_broadcasting((2,1,5), (3,5))\n",
        "check_broadcasting((2,3), (2,))"
      ]
    },
    {
      "cell_type": "code",
      "execution_count": 78,
      "metadata": {
        "colab": {
          "base_uri": "https://localhost:8080/"
        },
        "id": "GhUV5-kdqXof",
        "outputId": "1798cebf-8880-4cbf-af84-af88a2a1f789"
      },
      "outputs": [
        {
          "name": "stdout",
          "output_type": "stream",
          "text": [
            "[[6 2 2 4 8]\n",
            " [7 9 8 5 2]\n",
            " [5 8 9 9 1]]\n",
            "[1 3 1 4 1]\n",
            "[[ 5 -1  1  0  7]\n",
            " [ 6  6  7  1  1]\n",
            " [ 4  5  8  5  0]]\n"
          ]
        }
      ],
      "source": [
        "A=np.random.randint(1,10,size=(3,5))\n",
        "B=np.random.randint(1,5,size=(5,))\n",
        "C=A-B\n",
        "print(A)\n",
        "print(B)\n",
        "print(C)"
      ]
    },
    {
      "cell_type": "code",
      "execution_count": 79,
      "metadata": {
        "colab": {
          "base_uri": "https://localhost:8080/"
        },
        "id": "iCWyjK2urEvD",
        "outputId": "274217dc-2113-4574-e9ba-479164c53ba0"
      },
      "outputs": [
        {
          "name": "stdout",
          "output_type": "stream",
          "text": [
            "[[[12 12  7]\n",
            "  [ 5 12  7]\n",
            "  [ 7  5  9]\n",
            "  [14 11 14]]\n",
            "\n",
            " [[13 11 13]\n",
            "  [12  6  5]\n",
            "  [11 11 12]\n",
            "  [ 9  7 12]]]\n"
          ]
        }
      ],
      "source": [
        "# 4. Create a 3D array A with shape (2, 4, 3) filled with random integers between 0 and 10.\n",
        "# Create an array B of shape (4, 3) containing a constant value of 5.\n",
        "# Use broadcasting to add B to each 2D array slice of A.\n",
        "# Print the result\n",
        "\n",
        "A=np.random.randint(0,10,size=(2,4,3))\n",
        "B=np.tile(5,(4,3))\n",
        "C=A+B\n",
        "# print(A)\n",
        "print(C)"
      ]
    },
    {
      "cell_type": "code",
      "execution_count": 80,
      "metadata": {
        "colab": {
          "base_uri": "https://localhost:8080/"
        },
        "id": "CFSobptesthW",
        "outputId": "7442c2a7-033a-4125-a793-2f5e4bb77eb3"
      },
      "outputs": [
        {
          "name": "stdout",
          "output_type": "stream",
          "text": [
            "[[213 218  34 ...  51 252  95]\n",
            " [131 221 228 ...  29 189  74]\n",
            " [127 249 246 ... 206  58 117]\n",
            " ...\n",
            " [221 221 250 ... 190 225  51]\n",
            " [248 165 224 ... 234  42 239]\n",
            " [202 114 110 ...   4 209  91]]\n",
            "[[106 109  17 ...  25 126  47]\n",
            " [ 65 110 114 ...  14  94  37]\n",
            " [ 63 124 123 ... 103  29  58]\n",
            " ...\n",
            " [110 110 125 ...  95 112  25]\n",
            " [124  82 112 ... 117  21 119]\n",
            " [101  57  55 ...   2 104  45]]\n"
          ]
        }
      ],
      "source": [
        "# 5. : You are given a grayscale image of shape (32, 32), where each pixel value is an integer. You want to apply a scaling factor of 0.5 to all the pixel values using broadcasting.\n",
        "# Use broadcasting to scale the image by multiplying it with the scaling factor 0.5.\n",
        "# Verify that the pixel values of the image are halved by printing the scaled image.\n",
        "img=np.random.randint(0,255,size=(32,32))\n",
        "print(img)\n",
        "img=(img*0.5).astype(int)\n",
        "print(img)"
      ]
    },
    {
      "cell_type": "code",
      "execution_count": 81,
      "metadata": {
        "colab": {
          "base_uri": "https://localhost:8080/"
        },
        "id": "qfWBBmWyt2TI",
        "outputId": "0e38d8a3-b983-485a-ba1c-587f2a3169e7"
      },
      "outputs": [
        {
          "name": "stdout",
          "output_type": "stream",
          "text": [
            "4\n",
            "1.4142135623730951\n"
          ]
        }
      ],
      "source": [
        "# 6.Calculate the distance between an observation point and a set of code points (codes). The goal is to find the closest code to the observation by calculating the Euclidean distance between each code and the observation.\n",
        "# Given two arrays :\n",
        "# codes = np.array([ [1.0, 2.0, 3.0], [4.0, 5.0, 6.0], [7.0, 8.0, 9.0], [1.0, 1.0, 1.0], [2.0, 3.0, 4.0] ])\n",
        "\n",
        "# observation = np.array([3.0, 3.0, 3.0])\n",
        "\n",
        "# Use broadcasting to calculate the squared Euclidean distance between the observation and each code.\n",
        "# Find and print the index of the closest code to the observation.\n",
        "# Print the distance between the observation and the closest code.\n",
        "# HINT : use np.argmin() to find the index of the closest code\n",
        "\n",
        "codes = np.array([ [1.0, 2.0, 3.0], [4.0, 5.0, 6.0], [7.0, 8.0, 9.0], [1.0, 1.0, 1.0], [2.0, 3.0, 4.0] ])\n",
        "observation = np.array([3.0, 3.0, 3.0])\n",
        "\n",
        "Dist=np.sqrt(np.sum((codes-observation)**2,axis=1))\n",
        "closestIdx=np.argmin(Dist)\n",
        "print(closestIdx)\n",
        "print(Dist[closestIdx])"
      ]
    },
    {
      "cell_type": "markdown",
      "metadata": {
        "id": "ehP-oE00BN3l"
      },
      "source": [
        "# **Concatenation**\n",
        "\n",
        "1. Write a program to vertically stack arrays using `np.vstack` and print the result: (Use any three 1D arrays) <br/>\n",
        "<br/>\n",
        "2. Write a program to horizontally stack arrays using `np.hstack`. Print the result: (Use any three 1D arrays) <br/>\n",
        "<br/>\n",
        "3. Given two 2D arrays of the same row size, horizontally stack them using `np.hstack` and print the result:<br/>\n",
        "`m = np.array([[2, 4], [3, 6]])`<br/>\n",
        "`n = np.array([[4, 8], [5, 10]])`<br/>\n",
        "<br/>\n",
        "4. Using `np.vstack`, stack the following arrays vertically and print the results:<br/>\n",
        "`a = np.array([11, 12, 13])`<br/>\n",
        "`b = np.array([[14, 15, 16], [17, 18, 19]])`<br/>\n",
        "<br/>\n",
        "5. Concatenate the following 2D arrays along different axes using `np.concatenate`. Demonstrate how to concatenate them along axis 0 and axis 1.<br/>\n",
        "`x = np.array([[1, 2], [3, 4]])`<br/>\n",
        "`y = np.array([[5, 6], [7, 8]])`<br/>\n",
        "`z = np.array([[9, 10], [11, 12]])`<br/>"
      ]
    },
    {
      "cell_type": "code",
      "execution_count": 82,
      "metadata": {
        "colab": {
          "base_uri": "https://localhost:8080/"
        },
        "id": "UvxR3w6vzfjy",
        "outputId": "43b3c572-3e0b-4a24-f7cf-18db91f35f37"
      },
      "outputs": [
        {
          "name": "stdout",
          "output_type": "stream",
          "text": [
            "[[1. 1. 1. 1. 1.]\n",
            " [0. 0. 0. 0. 0.]\n",
            " [0. 1. 2. 3. 4.]]\n"
          ]
        }
      ],
      "source": [
        "a=np.ones(5)\n",
        "b=np.zeros(5)\n",
        "c=np.arange(5)\n",
        "d=np.vstack((a,b,c))\n",
        "print(d)"
      ]
    },
    {
      "cell_type": "code",
      "execution_count": 83,
      "metadata": {
        "colab": {
          "base_uri": "https://localhost:8080/"
        },
        "id": "wM3G7UYAz5bX",
        "outputId": "b6c1c3f6-ba62-4ccc-9db8-4dbd183b7ed9"
      },
      "outputs": [
        {
          "name": "stdout",
          "output_type": "stream",
          "text": [
            "[[1. 0. 6.]\n",
            " [1. 0. 5.]\n",
            " [1. 0. 6.]\n",
            " [1. 0. 1.]\n",
            " [1. 0. 5.]]\n"
          ]
        }
      ],
      "source": [
        "a=np.ones((5,1))\n",
        "b=np.zeros((5,1))\n",
        "c=np.random.randint(1,10,size=(5,1))\n",
        "d=np.hstack((a,b,c))\n",
        "print(d)"
      ]
    },
    {
      "cell_type": "code",
      "execution_count": 84,
      "metadata": {
        "colab": {
          "base_uri": "https://localhost:8080/"
        },
        "id": "3VuUxrKb01AC",
        "outputId": "f2003a76-cba1-4c5a-81a3-d8f60bd1a990"
      },
      "outputs": [
        {
          "name": "stdout",
          "output_type": "stream",
          "text": [
            "[[ 2  4  4  8]\n",
            " [ 3  6  5 10]]\n"
          ]
        }
      ],
      "source": [
        "m = np.array([[2, 4], [3, 6]])\n",
        "n = np.array([[4, 8], [5, 10]])\n",
        "o=np.hstack((m,n))\n",
        "print(o)"
      ]
    },
    {
      "cell_type": "code",
      "execution_count": 85,
      "metadata": {
        "colab": {
          "base_uri": "https://localhost:8080/"
        },
        "id": "nJDPsV6B1Lle",
        "outputId": "a80d8df5-cdd5-48ad-d044-9867b83bc344"
      },
      "outputs": [
        {
          "name": "stdout",
          "output_type": "stream",
          "text": [
            "[[11 12 13]\n",
            " [14 15 16]\n",
            " [17 18 19]]\n"
          ]
        }
      ],
      "source": [
        "a = np.array([11, 12, 13])\n",
        "b = np.array([[14, 15, 16], [17, 18, 19]])\n",
        "c=np.vstack((a,b))\n",
        "print(c)"
      ]
    },
    {
      "cell_type": "code",
      "execution_count": 86,
      "metadata": {
        "colab": {
          "base_uri": "https://localhost:8080/"
        },
        "id": "Gxie5Qf-1bSJ",
        "outputId": "6e813c2f-8b59-4a0a-a40b-788b9fe5a67d"
      },
      "outputs": [
        {
          "name": "stdout",
          "output_type": "stream",
          "text": [
            "[[ 1  2  5  6  9 10]\n",
            " [ 3  4  7  8 11 12]]\n",
            "[[ 1  2]\n",
            " [ 3  4]\n",
            " [ 5  6]\n",
            " [ 7  8]\n",
            " [ 9 10]\n",
            " [11 12]]\n"
          ]
        }
      ],
      "source": [
        "x = np.array([[1, 2], [3, 4]])\n",
        "y = np.array([[5, 6], [7, 8]])\n",
        "z = np.array([[9, 10], [11, 12]])\n",
        "h=np.concatenate((x,y,z),axis=1)\n",
        "v=np.concatenate((x,y,z),axis=0)\n",
        "print(h)\n",
        "print(v)"
      ]
    },
    {
      "cell_type": "markdown",
      "metadata": {
        "id": "NCs1VlmHiFli"
      },
      "source": [
        "# Boolean Masking\n",
        "\n",
        "1. Use Boolean masking to filter elements from a 1D array:\n",
        "Write a program to create a 1D array and use Boolean masking to filter out all elements greater than 5.<br/>\n",
        "\n",
        "2. Apply a Boolean mask to a 2D array:\n",
        "Given the 2D array below, create a Boolean mask to select all elements greater than 10 and print the masked elements.<br/>\n",
        "`arr = np.array([[5, 12, 18], [7, 1, 3], [11, 6, 14]])`\n",
        " <br/>\n",
        "3. Create a Boolean mask using a condition on an array:\n",
        "Create a 1D array of integers from 0 to 10. Use a Boolean mask to filter out all even numbers and print the result.<br/>\n",
        "Example:\n",
        "`arr = np.arange(11)`\n",
        "<br/>\n",
        "4. Combine Boolean masks using logical operations:\n",
        "Given the array below, create and combine two Boolean masks:<br/>\n",
        "One mask selects elements greater than 5.\n",
        "The other mask selects elements divisible by 3.\n",
        "Combine the masks using logical AND and print the result.\n",
        "Example:\n",
        "`arr = np.array([1, 3, 6, 9, 12, 15])`\n",
        "<br/>\n",
        "5. Mask elements in a 2D array and replace them:\n",
        "Write a program to replace all elements less than 5 in the 2D array below with 0 using Boolean masking.\n",
        "<br/>\n",
        "6.  Count elements satisfying a condition using Boolean masks:\n",
        "Write a program to count how many elements in the array below are greater than 5.\n",
        "<br/>"
      ]
    },
    {
      "cell_type": "code",
      "execution_count": 87,
      "metadata": {
        "colab": {
          "base_uri": "https://localhost:8080/"
        },
        "id": "kqfIdkmLkUaD",
        "outputId": "a35563c1-8356-4097-b280-8c554bd3cf1f"
      },
      "outputs": [
        {
          "name": "stdout",
          "output_type": "stream",
          "text": [
            "[2 1 1 4]\n"
          ]
        }
      ],
      "source": [
        "arr=np.random.randint(1,10,size=10)\n",
        "mask=arr<=5\n",
        "print(arr[mask])"
      ]
    },
    {
      "cell_type": "code",
      "execution_count": 88,
      "metadata": {
        "colab": {
          "base_uri": "https://localhost:8080/"
        },
        "id": "xiycr9w03BwL",
        "outputId": "0f08ef10-2dc0-4f4d-940b-ed0cd41d4a6b"
      },
      "outputs": [
        {
          "name": "stdout",
          "output_type": "stream",
          "text": [
            "[12 18 11 14]\n"
          ]
        }
      ],
      "source": [
        "arr = np.array([[5, 12, 18], [7, 1, 3], [11, 6, 14]])\n",
        "mask=arr>10\n",
        "print(arr[mask])"
      ]
    },
    {
      "cell_type": "code",
      "execution_count": 89,
      "metadata": {
        "colab": {
          "base_uri": "https://localhost:8080/"
        },
        "id": "lfuupR9Q3l9K",
        "outputId": "ffbc1c6f-40cb-4072-8076-cf35027d7cb3"
      },
      "outputs": [
        {
          "name": "stdout",
          "output_type": "stream",
          "text": [
            "[1 3 5 7 9]\n"
          ]
        }
      ],
      "source": [
        "arr = np.arange(11)\n",
        "mask=arr%2!=0\n",
        "print(arr[mask])"
      ]
    },
    {
      "cell_type": "code",
      "execution_count": 90,
      "metadata": {
        "colab": {
          "base_uri": "https://localhost:8080/"
        },
        "id": "r5sO5hbL36wH",
        "outputId": "1f3eeb7c-1d1d-4646-eeba-d87a910379df"
      },
      "outputs": [
        {
          "name": "stdout",
          "output_type": "stream",
          "text": [
            "[ 6  9 12 15]\n"
          ]
        }
      ],
      "source": [
        "arr=np.array([1, 3, 6, 9, 12, 15])\n",
        "mask1=arr>5\n",
        "mask2=arr%3==0\n",
        "mask=np.logical_and(mask1,mask2)\n",
        "print(arr[mask])"
      ]
    },
    {
      "cell_type": "code",
      "execution_count": 91,
      "metadata": {
        "colab": {
          "base_uri": "https://localhost:8080/"
        },
        "id": "H4zF4H8t49Q7",
        "outputId": "f0a88f4b-7ef5-499d-d031-41052948c5fc"
      },
      "outputs": [
        {
          "name": "stdout",
          "output_type": "stream",
          "text": [
            "pre:\n",
            " [[1 1 3 5]\n",
            " [4 7 7 7]\n",
            " [6 6 2 4]\n",
            " [7 6 2 5]]\n",
            "post:\n",
            " [[0 0 0 5]\n",
            " [0 7 7 7]\n",
            " [6 6 0 0]\n",
            " [7 6 0 5]]\n"
          ]
        }
      ],
      "source": [
        "arr=np.random.randint(1,8,size=(4,4))\n",
        "print(\"pre:\\n\",arr)\n",
        "mask=arr<5\n",
        "arr[mask]=0\n",
        "print(\"post:\\n\",arr)"
      ]
    },
    {
      "cell_type": "code",
      "execution_count": 92,
      "metadata": {
        "colab": {
          "base_uri": "https://localhost:8080/"
        },
        "id": "Qfj7Ihyb5ipg",
        "outputId": "f7e1146c-b3f4-48d5-afb9-dd295b6b24e8"
      },
      "outputs": [
        {
          "name": "stdout",
          "output_type": "stream",
          "text": [
            "[[2 6 3 3]\n",
            " [7 3 7 7]\n",
            " [6 3 7 4]\n",
            " [5 2 2 6]]\n",
            "8\n"
          ]
        }
      ],
      "source": [
        "arr=np.random.randint(1,8,size=(4,4))\n",
        "mask=arr<5\n",
        "count=np.sum(mask)\n",
        "print(arr)\n",
        "print(count)\n"
      ]
    }
  ],
  "metadata": {
    "colab": {
      "provenance": []
    },
    "kernelspec": {
      "display_name": "Python 3",
      "language": "python",
      "name": "python3"
    },
    "language_info": {
      "codemirror_mode": {
        "name": "ipython",
        "version": 3
      },
      "file_extension": ".py",
      "mimetype": "text/x-python",
      "name": "python",
      "nbconvert_exporter": "python",
      "pygments_lexer": "ipython3",
      "version": "3.12.5"
    }
  },
  "nbformat": 4,
  "nbformat_minor": 0
}
