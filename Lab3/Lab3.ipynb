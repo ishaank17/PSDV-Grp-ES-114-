{
  "cells": [
    {
      "cell_type": "code",
      "execution_count": 4,
      "metadata": {
        "id": "agGYJpXZUXrP"
      },
      "outputs": [],
      "source": [
        "import matplotlib.pyplot as plt\n",
        "import seaborn as sns\n",
        "import pandas as pd\n",
        "import scipy as sc\n",
        "import numpy as np\n"
      ]
    },
    {
      "cell_type": "code",
      "execution_count": 31,
      "metadata": {
        "id": "Q7707-extQDI"
      },
      "outputs": [
        {
          "data": {
            "text/html": [
              "<div>\n",
              "<style scoped>\n",
              "    .dataframe tbody tr th:only-of-type {\n",
              "        vertical-align: middle;\n",
              "    }\n",
              "\n",
              "    .dataframe tbody tr th {\n",
              "        vertical-align: top;\n",
              "    }\n",
              "\n",
              "    .dataframe thead th {\n",
              "        text-align: right;\n",
              "    }\n",
              "</style>\n",
              "<table border=\"1\" class=\"dataframe\">\n",
              "  <thead>\n",
              "    <tr style=\"text-align: right;\">\n",
              "      <th></th>\n",
              "      <th>Timestamp</th>\n",
              "      <th>station</th>\n",
              "      <th>PM2.5</th>\n",
              "      <th>PM10</th>\n",
              "      <th>address</th>\n",
              "      <th>city</th>\n",
              "      <th>latitude</th>\n",
              "      <th>longitude</th>\n",
              "      <th>state</th>\n",
              "    </tr>\n",
              "  </thead>\n",
              "  <tbody>\n",
              "    <tr>\n",
              "      <th>0</th>\n",
              "      <td>2017-01-01</td>\n",
              "      <td>32Bungalows, Bhilai - CECB</td>\n",
              "      <td>NaN</td>\n",
              "      <td>NaN</td>\n",
              "      <td>Bhilai RO Office, 5, 32 Bungalows, Bhilai, Dis...</td>\n",
              "      <td>Bhilai</td>\n",
              "      <td>21.194815</td>\n",
              "      <td>81.314770</td>\n",
              "      <td>Chhattisgarh</td>\n",
              "    </tr>\n",
              "    <tr>\n",
              "      <th>1</th>\n",
              "      <td>2017-01-01</td>\n",
              "      <td>AIIMS, Raipur - CECB</td>\n",
              "      <td>NaN</td>\n",
              "      <td>NaN</td>\n",
              "      <td>All India Institute Of Medical Science, Gate N...</td>\n",
              "      <td>Raipur</td>\n",
              "      <td>21.258815</td>\n",
              "      <td>81.578979</td>\n",
              "      <td>Chhattisgarh</td>\n",
              "    </tr>\n",
              "    <tr>\n",
              "      <th>2</th>\n",
              "      <td>2017-01-01</td>\n",
              "      <td>Adarsh Nagar, Jaipur - RSPCB</td>\n",
              "      <td>NaN</td>\n",
              "      <td>NaN</td>\n",
              "      <td>Psychiatric Centre, Janta Colony, Govind Marg,...</td>\n",
              "      <td>Jaipur</td>\n",
              "      <td>26.902909</td>\n",
              "      <td>75.836858</td>\n",
              "      <td>Rajasthan</td>\n",
              "    </tr>\n",
              "    <tr>\n",
              "      <th>3</th>\n",
              "      <td>2017-01-01</td>\n",
              "      <td>Airoli, Navi Mumbai - MPCB</td>\n",
              "      <td>NaN</td>\n",
              "      <td>54.743723</td>\n",
              "      <td>NaN</td>\n",
              "      <td>Navi Mumbai</td>\n",
              "      <td>19.149400</td>\n",
              "      <td>72.998600</td>\n",
              "      <td>Maharashtra</td>\n",
              "    </tr>\n",
              "    <tr>\n",
              "      <th>4</th>\n",
              "      <td>2017-01-01</td>\n",
              "      <td>Airport Area, Indore - IMC</td>\n",
              "      <td>NaN</td>\n",
              "      <td>NaN</td>\n",
              "      <td>NaN</td>\n",
              "      <td>NaN</td>\n",
              "      <td>NaN</td>\n",
              "      <td>NaN</td>\n",
              "      <td>NaN</td>\n",
              "    </tr>\n",
              "    <tr>\n",
              "      <th>...</th>\n",
              "      <td>...</td>\n",
              "      <td>...</td>\n",
              "      <td>...</td>\n",
              "      <td>...</td>\n",
              "      <td>...</td>\n",
              "      <td>...</td>\n",
              "      <td>...</td>\n",
              "      <td>...</td>\n",
              "      <td>...</td>\n",
              "    </tr>\n",
              "    <tr>\n",
              "      <th>1627456</th>\n",
              "      <td>2024-12-10</td>\n",
              "      <td>Worli, Mumbai - MPCB</td>\n",
              "      <td>54.71</td>\n",
              "      <td>124.420000</td>\n",
              "      <td>89-B, NEERI Building, Dr. Annie Besant Road, W...</td>\n",
              "      <td>Mumbai</td>\n",
              "      <td>18.993616</td>\n",
              "      <td>72.812811</td>\n",
              "      <td>Maharashtra</td>\n",
              "    </tr>\n",
              "    <tr>\n",
              "      <th>1627457</th>\n",
              "      <td>2024-12-10</td>\n",
              "      <td>Yamunapuram, Bulandshahr - UPPCB</td>\n",
              "      <td>53.23</td>\n",
              "      <td>101.340000</td>\n",
              "      <td>F-5, Yamunapuram, Bulandshahr, Near MMR Mall (...</td>\n",
              "      <td>Bulandshahr</td>\n",
              "      <td>28.406963</td>\n",
              "      <td>77.849831</td>\n",
              "      <td>Uttar Pradesh</td>\n",
              "    </tr>\n",
              "    <tr>\n",
              "      <th>1627458</th>\n",
              "      <td>2024-12-10</td>\n",
              "      <td>Yerramukkapalli, Kadapa - APPCB</td>\n",
              "      <td>75.00</td>\n",
              "      <td>110.750000</td>\n",
              "      <td>Municipal Corporation Office Complex, Railway ...</td>\n",
              "      <td>Kadapa</td>\n",
              "      <td>14.465052</td>\n",
              "      <td>78.824187</td>\n",
              "      <td>Andhra Pradesh</td>\n",
              "    </tr>\n",
              "    <tr>\n",
              "      <th>1627459</th>\n",
              "      <td>2024-12-10</td>\n",
              "      <td>Zero Point GICI, Gangtok - SSPCB</td>\n",
              "      <td>NaN</td>\n",
              "      <td>NaN</td>\n",
              "      <td>Near State PWD Office, Zero Point, Gangtok, Si...</td>\n",
              "      <td>Gangtok</td>\n",
              "      <td>27.338530</td>\n",
              "      <td>88.614099</td>\n",
              "      <td>Sikkim</td>\n",
              "    </tr>\n",
              "    <tr>\n",
              "      <th>1627460</th>\n",
              "      <td>2024-12-10</td>\n",
              "      <td>Zoo Park, Hyderabad - TSPCB</td>\n",
              "      <td>72.83</td>\n",
              "      <td>176.480000</td>\n",
              "      <td>NaN</td>\n",
              "      <td>Hyderabad</td>\n",
              "      <td>17.349694</td>\n",
              "      <td>78.451437</td>\n",
              "      <td>Telangana</td>\n",
              "    </tr>\n",
              "  </tbody>\n",
              "</table>\n",
              "<p>1627461 rows × 9 columns</p>\n",
              "</div>"
            ],
            "text/plain": [
              "          Timestamp                           station  PM2.5        PM10  \\\n",
              "0        2017-01-01        32Bungalows, Bhilai - CECB    NaN         NaN   \n",
              "1        2017-01-01              AIIMS, Raipur - CECB    NaN         NaN   \n",
              "2        2017-01-01      Adarsh Nagar, Jaipur - RSPCB    NaN         NaN   \n",
              "3        2017-01-01        Airoli, Navi Mumbai - MPCB    NaN   54.743723   \n",
              "4        2017-01-01        Airport Area, Indore - IMC    NaN         NaN   \n",
              "...             ...                               ...    ...         ...   \n",
              "1627456  2024-12-10              Worli, Mumbai - MPCB  54.71  124.420000   \n",
              "1627457  2024-12-10  Yamunapuram, Bulandshahr - UPPCB  53.23  101.340000   \n",
              "1627458  2024-12-10   Yerramukkapalli, Kadapa - APPCB  75.00  110.750000   \n",
              "1627459  2024-12-10  Zero Point GICI, Gangtok - SSPCB    NaN         NaN   \n",
              "1627460  2024-12-10       Zoo Park, Hyderabad - TSPCB  72.83  176.480000   \n",
              "\n",
              "                                                   address         city  \\\n",
              "0        Bhilai RO Office, 5, 32 Bungalows, Bhilai, Dis...       Bhilai   \n",
              "1        All India Institute Of Medical Science, Gate N...       Raipur   \n",
              "2        Psychiatric Centre, Janta Colony, Govind Marg,...       Jaipur   \n",
              "3                                                      NaN  Navi Mumbai   \n",
              "4                                                      NaN          NaN   \n",
              "...                                                    ...          ...   \n",
              "1627456  89-B, NEERI Building, Dr. Annie Besant Road, W...       Mumbai   \n",
              "1627457  F-5, Yamunapuram, Bulandshahr, Near MMR Mall (...  Bulandshahr   \n",
              "1627458  Municipal Corporation Office Complex, Railway ...       Kadapa   \n",
              "1627459  Near State PWD Office, Zero Point, Gangtok, Si...      Gangtok   \n",
              "1627460                                                NaN    Hyderabad   \n",
              "\n",
              "          latitude  longitude           state  \n",
              "0        21.194815  81.314770    Chhattisgarh  \n",
              "1        21.258815  81.578979    Chhattisgarh  \n",
              "2        26.902909  75.836858       Rajasthan  \n",
              "3        19.149400  72.998600     Maharashtra  \n",
              "4              NaN        NaN             NaN  \n",
              "...            ...        ...             ...  \n",
              "1627456  18.993616  72.812811     Maharashtra  \n",
              "1627457  28.406963  77.849831   Uttar Pradesh  \n",
              "1627458  14.465052  78.824187  Andhra Pradesh  \n",
              "1627459  27.338530  88.614099          Sikkim  \n",
              "1627460  17.349694  78.451437       Telangana  \n",
              "\n",
              "[1627461 rows x 9 columns]"
            ]
          },
          "execution_count": 31,
          "metadata": {},
          "output_type": "execute_result"
        }
      ],
      "source": [
        "data = pd.read_csv(r\"C:\\Users\\Ishaan\\Desktop\\DataSet\\Data.csv\")\n",
        "pop_data = pd.read_csv(r\"C:\\Users\\Ishaan\\Desktop\\DataSet\\State_data.csv\")\n",
        "\n",
        "data_original = data #copy of the data for later use if required\n",
        "data"
      ]
    },
    {
      "cell_type": "code",
      "execution_count": 7,
      "metadata": {
        "colab": {
          "base_uri": "https://localhost:8080/",
          "height": 614
        },
        "id": "8b1y7EF2puWS",
        "outputId": "bea14ff8-5e93-41f6-d82b-5681ee41eae1"
      },
      "outputs": [],
      "source": [
        "states=np.sort(data[\"state\"].unique().astype(str))\n",
        "stations=np.sort(data[\"station\"].unique().astype(str))\n",
        "Date=pd.to_datetime(data[\"Timestamp\"])\n"
      ]
    },
    {
      "cell_type": "markdown",
      "metadata": {
        "id": "wjUVQ_kBUXrT"
      },
      "source": [
        "# Spatial Aggregation"
      ]
    },
    {
      "cell_type": "code",
      "execution_count": 6,
      "metadata": {
        "colab": {
          "base_uri": "https://localhost:8080/",
          "height": 36
        },
        "id": "20N6sCZnUXrT",
        "outputId": "649a462f-6127-4039-a94d-871fa9fcbb89"
      },
      "outputs": [
        {
          "data": {
            "text/plain": [
              "'Delhi'"
            ]
          },
          "execution_count": 6,
          "metadata": {},
          "output_type": "execute_result"
        }
      ],
      "source": [
        "maxIdx=data.groupby(\"state\")[\"PM2.5\"].mean().argmax()\n",
        "\n",
        "str(states[maxIdx])"
      ]
    },
    {
      "cell_type": "code",
      "execution_count": 7,
      "metadata": {
        "colab": {
          "base_uri": "https://localhost:8080/",
          "height": 36
        },
        "id": "NqpTQdPQUXrU",
        "outputId": "d8a219fc-87fc-4bff-a4c4-37da5ad6a7c6"
      },
      "outputs": [
        {
          "data": {
            "text/plain": [
              "'Bihar'"
            ]
          },
          "execution_count": 7,
          "metadata": {},
          "output_type": "execute_result"
        }
      ],
      "source": [
        "mask=Date.dt.year==2023\n",
        "mask2=data[mask][\"PM2.5\"]>300\n",
        "\n",
        "maxIdx=data[mask&mask2].groupby(\"state\")[\"PM2.5\"].count().argmax()\n",
        "str(states[maxIdx])"
      ]
    },
    {
      "cell_type": "code",
      "execution_count": 8,
      "metadata": {
        "colab": {
          "base_uri": "https://localhost:8080/",
          "height": 36
        },
        "id": "uIfbCDi5UXrU",
        "outputId": "febb8539-c55c-42f4-bea5-9167ee2b7faf"
      },
      "outputs": [
        {
          "data": {
            "text/plain": [
              "'Delhi'"
            ]
          },
          "execution_count": 8,
          "metadata": {},
          "output_type": "execute_result"
        }
      ],
      "source": [
        "maxIdx=data.groupby(\"state\")[\"PM2.5\"].std().argmax()\n",
        "str(states[maxIdx])"
      ]
    },
    {
      "cell_type": "code",
      "execution_count": 9,
      "metadata": {
        "colab": {
          "base_uri": "https://localhost:8080/",
          "height": 36
        },
        "id": "FFCdvHhIUXrU",
        "outputId": "8edd4e6a-3cf7-4509-e9fd-f53ee467f8c0"
      },
      "outputs": [
        {
          "data": {
            "text/plain": [
              "'Mizoram'"
            ]
          },
          "execution_count": 9,
          "metadata": {},
          "output_type": "execute_result"
        }
      ],
      "source": [
        "mask=np.array(Date.dt.year==2021 )|np.array(Date.dt.year==2020)\n",
        "minArg=data[mask].groupby(\"state\")[\"PM2.5\"].mean().argmin()\n",
        "str(states[minArg])"
      ]
    },
    {
      "cell_type": "markdown",
      "metadata": {
        "id": "AykNoYOZUXrV"
      },
      "source": [
        " # **Temporal Agggregation**"
      ]
    },
    {
      "cell_type": "code",
      "execution_count": 29,
      "metadata": {
        "colab": {
          "base_uri": "https://localhost:8080/"
        },
        "id": "eUoTITBxUXrV",
        "outputId": "4bd2d906-0924-4024-e7c8-0f932ce3ac3f"
      },
      "outputs": [
        {
          "data": {
            "text/plain": [
              "'Lal Bahadur Shastri Nagar, Kalaburagi - KSPCB'"
            ]
          },
          "execution_count": 29,
          "metadata": {},
          "output_type": "execute_result"
        }
      ],
      "source": [
        "mask= np.array(Date.dt.month==8) & np.array(Date.dt.year==2020)\n",
        "maxArg=data.loc[mask,\"PM2.5\"].argmax()\n",
        "data.loc[mask,\"station\"].iloc[maxArg]"
      ]
    },
    {
      "cell_type": "code",
      "execution_count": null,
      "metadata": {},
      "outputs": [
        {
          "data": {
            "text/html": [
              "<div>\n",
              "<style scoped>\n",
              "    .dataframe tbody tr th:only-of-type {\n",
              "        vertical-align: middle;\n",
              "    }\n",
              "\n",
              "    .dataframe tbody tr th {\n",
              "        vertical-align: top;\n",
              "    }\n",
              "\n",
              "    .dataframe thead th {\n",
              "        text-align: right;\n",
              "    }\n",
              "</style>\n",
              "<table border=\"1\" class=\"dataframe\">\n",
              "  <thead>\n",
              "    <tr style=\"text-align: right;\">\n",
              "      <th></th>\n",
              "      <th>Timestamp</th>\n",
              "      <th>PM2.5</th>\n",
              "    </tr>\n",
              "  </thead>\n",
              "  <tbody>\n",
              "    <tr>\n",
              "      <th>245</th>\n",
              "      <td>2017-01-01</td>\n",
              "      <td>NaN</td>\n",
              "    </tr>\n",
              "    <tr>\n",
              "      <th>806</th>\n",
              "      <td>2017-01-02</td>\n",
              "      <td>NaN</td>\n",
              "    </tr>\n",
              "    <tr>\n",
              "      <th>1367</th>\n",
              "      <td>2017-01-03</td>\n",
              "      <td>NaN</td>\n",
              "    </tr>\n",
              "    <tr>\n",
              "      <th>1928</th>\n",
              "      <td>2017-01-04</td>\n",
              "      <td>NaN</td>\n",
              "    </tr>\n",
              "    <tr>\n",
              "      <th>2489</th>\n",
              "      <td>2017-01-05</td>\n",
              "      <td>NaN</td>\n",
              "    </tr>\n",
              "    <tr>\n",
              "      <th>...</th>\n",
              "      <td>...</td>\n",
              "      <td>...</td>\n",
              "    </tr>\n",
              "    <tr>\n",
              "      <th>1624901</th>\n",
              "      <td>2024-12-06</td>\n",
              "      <td>28.15</td>\n",
              "    </tr>\n",
              "    <tr>\n",
              "      <th>1625462</th>\n",
              "      <td>2024-12-07</td>\n",
              "      <td>6.60</td>\n",
              "    </tr>\n",
              "    <tr>\n",
              "      <th>1626023</th>\n",
              "      <td>2024-12-08</td>\n",
              "      <td>18.33</td>\n",
              "    </tr>\n",
              "    <tr>\n",
              "      <th>1626584</th>\n",
              "      <td>2024-12-09</td>\n",
              "      <td>30.84</td>\n",
              "    </tr>\n",
              "    <tr>\n",
              "      <th>1627145</th>\n",
              "      <td>2024-12-10</td>\n",
              "      <td>43.18</td>\n",
              "    </tr>\n",
              "  </tbody>\n",
              "</table>\n",
              "<p>2901 rows × 2 columns</p>\n",
              "</div>"
            ],
            "text/plain": [
              "          Timestamp  PM2.5\n",
              "245      2017-01-01    NaN\n",
              "806      2017-01-02    NaN\n",
              "1367     2017-01-03    NaN\n",
              "1928     2017-01-04    NaN\n",
              "2489     2017-01-05    NaN\n",
              "...             ...    ...\n",
              "1624901  2024-12-06  28.15\n",
              "1625462  2024-12-07   6.60\n",
              "1626023  2024-12-08  18.33\n",
              "1626584  2024-12-09  30.84\n",
              "1627145  2024-12-10  43.18\n",
              "\n",
              "[2901 rows x 2 columns]"
            ]
          },
          "execution_count": 34,
          "metadata": {},
          "output_type": "execute_result"
        }
      ],
      "source": [
        "season={\"winter\":[12,1,2] , \"summer\" : [3,4,5], \"monsoon\" : [6,7,8,9]}\n",
        "mask=np.array(Date.dt.year==2018)\n",
        "\n",
        "lalData=data.query(\"station=='Lal Bahadur Shastri Nagar, Kalaburagi - KSPCB' \").loc[:,[\"Timestamp\",\"PM2.5\"]]"
      ]
    },
    {
      "cell_type": "markdown",
      "metadata": {
        "id": "SeNnBFtejoeY"
      },
      "source": [
        "# **Spatio-temporal aggregation [3 marks]**\n",
        "\n",
        "1) For each state, calculate the percentage increase or decrease in PM2.5 levels during monsoon months (June to September) compared to summer months (March to May). Which state has the most difference (increase or decrease) for the year 2022?\n",
        "\n",
        "2) Plot the average PM2.5 levels for Delhi across each season (Winter: December-February, Summer: March-May, Monsoon: June-September) from 2017 to 2023. What seasonal variation, if any, can you observe in pollution levels?\n",
        "\n",
        "3) Plot a time-series graph comparing Delhi’s PM2.5 levels with Mumbai’s from 2015 to 2023. Which city had more fluctuations? (Hint: Think what fluctuation means)\n"
      ]
    },
    {
      "cell_type": "code",
      "execution_count": 11,
      "metadata": {
        "colab": {
          "base_uri": "https://localhost:8080/"
        },
        "id": "0Xxsozsvj7Tl",
        "outputId": "eba70174-4dce-4f12-b1e3-6b70592d1e68"
      },
      "outputs": [
        {
          "name": "stdout",
          "output_type": "stream",
          "text": [
            "The state with the maximum change is, Assam : 61.17641855538734\n"
          ]
        }
      ],
      "source": [
        "# Q)1\n",
        "month_grp = {\n",
        "    6: \"Monsoon\",\n",
        "    7: \"Monsoon\",\n",
        "    8: \"Monsoon\",\n",
        "    9: \"Monsoon\",\n",
        "\n",
        "    3: \"Summer\",\n",
        "    4: \"Summer\",\n",
        "    5: \"Summer\",\n",
        "}\n",
        "data['Timestamp'] = pd.to_datetime(data['Timestamp'])\n",
        "data['Seasons'] = data['Timestamp'].dt.month.map(month_grp)\n",
        "filtered_data = data[data['Timestamp'].dt.year == 2022]\n",
        "\n",
        "grouped = filtered_data.groupby(['Seasons', 'state'])['PM2.5'].mean()\n",
        "per = ( grouped['Monsoon'] - grouped['Summer'] )*100/ grouped['Summer']\n",
        "print(f\"The state with the maximum change is, {per.abs().idxmax()} : {per.abs().max()}\")\n"
      ]
    },
    {
      "cell_type": "code",
      "execution_count": 12,
      "metadata": {
        "colab": {
          "base_uri": "https://localhost:8080/",
          "height": 1000
        },
        "id": "3g5A8LgiPTAB",
        "outputId": "025fce2c-db4b-4553-8bb0-62a5878c7a9f"
      },
      "outputs": [
        {
          "name": "stderr",
          "output_type": "stream",
          "text": [
            "C:\\Users\\Ishaan\\AppData\\Local\\Temp\\ipykernel_6772\\4001987422.py:29: FutureWarning: \n",
            "\n",
            "Passing `palette` without assigning `hue` is deprecated and will be removed in v0.14.0. Assign the `x` variable to `hue` and set `legend=False` for the same effect.\n",
            "\n",
            "  sns.barplot(\n"
          ]
        },
        {
          "data": {
            "image/png": "[encoded data removed]",
            "text/plain": [
              "<Figure size 800x600 with 1 Axes>"
            ]
          },
          "metadata": {},
          "output_type": "display_data"
        },
        {
          "name": "stderr",
          "output_type": "stream",
          "text": [
            "C:\\Users\\Ishaan\\AppData\\Local\\Temp\\ipykernel_6772\\4001987422.py:29: FutureWarning: \n",
            "\n",
            "Passing `palette` without assigning `hue` is deprecated and will be removed in v0.14.0. Assign the `x` variable to `hue` and set `legend=False` for the same effect.\n",
            "\n",
            "  sns.barplot(\n"
          ]
        },
        {
          "data": {
            "image/png": "[encoded data removed]",
            "text/plain": [
              "<Figure size 800x600 with 1 Axes>"
            ]
          },
          "metadata": {},
          "output_type": "display_data"
        },
        {
          "name": "stderr",
          "output_type": "stream",
          "text": [
            "C:\\Users\\Ishaan\\AppData\\Local\\Temp\\ipykernel_6772\\4001987422.py:29: FutureWarning: \n",
            "\n",
            "Passing `palette` without assigning `hue` is deprecated and will be removed in v0.14.0. Assign the `x` variable to `hue` and set `legend=False` for the same effect.\n",
            "\n",
            "  sns.barplot(\n"
          ]
        },
        {
          "data": {
            "image/png": "[encoded data removed]",
            "text/plain": [
              "<Figure size 800x600 with 1 Axes>"
            ]
          },
          "metadata": {},
          "output_type": "display_data"
        },
        {
          "name": "stderr",
          "output_type": "stream",
          "text": [
            "C:\\Users\\Ishaan\\AppData\\Local\\Temp\\ipykernel_6772\\4001987422.py:29: FutureWarning: \n",
            "\n",
            "Passing `palette` without assigning `hue` is deprecated and will be removed in v0.14.0. Assign the `x` variable to `hue` and set `legend=False` for the same effect.\n",
            "\n",
            "  sns.barplot(\n"
          ]
        },
        {
          "data": {
            "image/png": "[encoded data removed]",
            "text/plain": [
              "<Figure size 800x600 with 1 Axes>"
            ]
          },
          "metadata": {},
          "output_type": "display_data"
        },
        {
          "name": "stderr",
          "output_type": "stream",
          "text": [
            "C:\\Users\\Ishaan\\AppData\\Local\\Temp\\ipykernel_6772\\4001987422.py:29: FutureWarning: \n",
            "\n",
            "Passing `palette` without assigning `hue` is deprecated and will be removed in v0.14.0. Assign the `x` variable to `hue` and set `legend=False` for the same effect.\n",
            "\n",
            "  sns.barplot(\n"
          ]
        },
        {
          "data": {
            "image/png": "[encoded data removed]",
            "text/plain": [
              "<Figure size 800x600 with 1 Axes>"
            ]
          },
          "metadata": {},
          "output_type": "display_data"
        },
        {
          "name": "stderr",
          "output_type": "stream",
          "text": [
            "C:\\Users\\Ishaan\\AppData\\Local\\Temp\\ipykernel_6772\\4001987422.py:29: FutureWarning: \n",
            "\n",
            "Passing `palette` without assigning `hue` is deprecated and will be removed in v0.14.0. Assign the `x` variable to `hue` and set `legend=False` for the same effect.\n",
            "\n",
            "  sns.barplot(\n"
          ]
        },
        {
          "data": {
            "image/png": "[encoded data removed]",
            "text/plain": [
              "<Figure size 800x600 with 1 Axes>"
            ]
          },
          "metadata": {},
          "output_type": "display_data"
        },
        {
          "name": "stderr",
          "output_type": "stream",
          "text": [
            "C:\\Users\\Ishaan\\AppData\\Local\\Temp\\ipykernel_6772\\4001987422.py:29: FutureWarning: \n",
            "\n",
            "Passing `palette` without assigning `hue` is deprecated and will be removed in v0.14.0. Assign the `x` variable to `hue` and set `legend=False` for the same effect.\n",
            "\n",
            "  sns.barplot(\n"
          ]
        },
        {
          "data": {
            "image/png": "[encoded data removed]",
            "text/plain": [
              "<Figure size 800x600 with 1 Axes>"
            ]
          },
          "metadata": {},
          "output_type": "display_data"
        }
      ],
      "source": [
        "'''2) Plot the average PM2.5 levels for Delhi across each season (Winter: December-February,\n",
        " Summer: March-May, Monsoon: June-September)\n",
        " from 2017 to 2023. What seasonal variation, if any, can you observe in pollution levels?'''\n",
        "\n",
        "delhi_data = data[data['city'] == 'Delhi']\n",
        "month_grp = {\n",
        "    12: 'Winter', 1: 'Winter', 2: 'Winter',\n",
        "    3: 'Summer', 4: 'Summer', 5: 'Summer',\n",
        "    6: 'Monsoon', 7: 'Monsoon', 8: 'Monsoon', 9: 'Monsoon'\n",
        "}\n",
        "\n",
        "delhi_seas = delhi_data.copy()\n",
        "delhi_seas['Seasons'] = delhi_seas['Timestamp'].dt.month.map(month_grp)\n",
        "\n",
        "delhi_seas['Year'] = delhi_seas['Timestamp'].dt.year\n",
        "delhi_seas.loc[delhi_seas['Timestamp'].dt.month == 12, 'Year'] += 1\n",
        "\n",
        "delhi_yr = []\n",
        "for i in range(2017, 2024):\n",
        "    yearly_data = delhi_seas[delhi_seas['Year'] == i]\n",
        "    delhi_yr.append(yearly_data)\n",
        "\n",
        "for i, df in enumerate(delhi_yr):\n",
        "    if df.empty: continue\n",
        "\n",
        "    seasonal_avg = df.groupby('Seasons')['PM2.5'].mean().reset_index()\n",
        "\n",
        "    plt.figure(figsize=(8,6))\n",
        "    sns.barplot(\n",
        "        x='Seasons',\n",
        "        y='PM2.5',\n",
        "        data=seasonal_avg,\n",
        "        order=['Winter', 'Summer', 'Monsoon'],\n",
        "        palette='viridis'\n",
        "    )\n",
        "    plt.title(f\"Seasonal PM2.5 Levels (Year {df['Timestamp'].dt.year.iloc[1]})\")\n",
        "    plt.xlabel(\"Seasons\")\n",
        "    plt.ylabel(\"Average PM2.5 (µg/m³)\")\n",
        "\n",
        "    for index, row in seasonal_avg.iterrows():\n",
        "        plt.text(index, row['PM2.5'], f\"{row['PM2.5']:.1f}\",\n",
        "                ha='center', va='bottom', fontsize=10)\n",
        "\n",
        "    plt.show()"
      ]
    },
    {
      "cell_type": "markdown",
      "metadata": {
        "id": "MME31yyQaXKY"
      },
      "source": [
        "It can clearly be seen that across the years 2017 to 2022 that there is higher amount of pollution in winter, followed by summer and least amount of pollution in monsoon."
      ]
    },
    {
      "cell_type": "code",
      "execution_count": 13,
      "metadata": {
        "colab": {
          "base_uri": "https://localhost:8080/",
          "height": 618
        },
        "id": "l50yWOHfmylO",
        "outputId": "6be65c0d-158f-4d8c-ebc9-5daf734d917c"
      },
      "outputs": [
        {
          "data": {
            "image/png": "[encoded data removed]",
            "text/plain": [
              "<Figure size 1200x600 with 1 Axes>"
            ]
          },
          "metadata": {},
          "output_type": "display_data"
        },
        {
          "name": "stdout",
          "output_type": "stream",
          "text": [
            "Mumbai's PM2.5 fluctuation (standard deviation): 40.18\n",
            "Delhi's PM2.5 fluctuation (standard deviation): 84.93\n",
            "Delhi had more fluctuations in PM2.5 levels.\n"
          ]
        }
      ],
      "source": [
        "'''3) Plot a time-series graph comparing Delhi’s PM2.5 levels with Mumbai’s from 2015 to 2023.\n",
        " Which city had more fluctuations? (Hint: Think what fluctuation means)'''\n",
        "mumbai_data = data[data['city'] == 'Mumbai']\n",
        "mum_yr = []\n",
        "del_yr = []\n",
        "for i in range(2015, 2024):\n",
        "  mum_yr.append(mumbai_data[ mumbai_data['Timestamp'].dt.year == i ])\n",
        "  del_yr.append(delhi_data[ delhi_data['Timestamp'].dt.year == i ])\n",
        "\n",
        "mumbai_combined = pd.concat(mum_yr)\n",
        "delhi_combined = pd.concat(del_yr)\n",
        "\n",
        "mumbai_combined['Year'] = mumbai_combined['Timestamp'].dt.year\n",
        "delhi_combined['Year'] = delhi_combined['Timestamp'].dt.year\n",
        "\n",
        "mumbai_avg = mumbai_combined.groupby('Year')['PM2.5'].mean().reset_index()\n",
        "delhi_avg = delhi_combined.groupby('Year')['PM2.5'].mean().reset_index()\n",
        "\n",
        "comparison = pd.merge(mumbai_avg, delhi_avg, on='Year', suffixes=('_Mumbai', '_Delhi'))\n",
        "\n",
        "plt.figure(figsize=(12, 6))\n",
        "comparison_melted = comparison.melt(id_vars='Year', value_vars=['PM2.5_Mumbai', 'PM2.5_Delhi'],\n",
        "                                    var_name='City', value_name='PM2.5')\n",
        "\n",
        "sns.barplot(data=comparison_melted, x='Year', y='PM2.5', hue='City', palette=['#00B0F0', '#FF4B4B'])\n",
        "\n",
        "plt.title('Comparative Barplot of PM2.5 Levels: Delhi vs Mumbai (2015-2023)')\n",
        "plt.xlabel('Year')\n",
        "plt.ylabel('Average PM2.5 (µg/m³)')\n",
        "plt.legend(title='City', labels=['Mumbai', 'Delhi'])\n",
        "plt.grid(axis='y', linestyle='--', alpha=0.7)\n",
        "plt.show()\n",
        "\n",
        "mumbai_std = mumbai_combined['PM2.5'].std()\n",
        "delhi_std = delhi_combined['PM2.5'].std()\n",
        "\n",
        "print(f\"Mumbai's PM2.5 fluctuation (standard deviation): {mumbai_std:.2f}\")\n",
        "print(f\"Delhi's PM2.5 fluctuation (standard deviation): {delhi_std:.2f}\")\n",
        "\n",
        "if mumbai_std > delhi_std:\n",
        "    print(\"Mumbai had more fluctuations in PM2.5 levels.\")\n",
        "else:\n",
        "    print(\"Delhi had more fluctuations in PM2.5 levels.\")\n"
      ]
    },
    {
      "cell_type": "code",
      "execution_count": 14,
      "metadata": {
        "colab": {
          "base_uri": "https://localhost:8080/"
        },
        "id": "8Ebyw9gMqLNF",
        "outputId": "f02cabd2-daab-4ac8-e1f0-abdec52a7777"
      },
      "outputs": [
        {
          "data": {
            "text/plain": [
              "[Empty DataFrame\n",
              " Columns: [Timestamp, station, PM2.5, PM10, address, city, latitude, longitude, state, Seasons]\n",
              " Index: [],\n",
              " Empty DataFrame\n",
              " Columns: [Timestamp, station, PM2.5, PM10, address, city, latitude, longitude, state, Seasons]\n",
              " Index: [],\n",
              "         Timestamp                               station       PM2.5  \\\n",
              " 28     2017-01-01   Bandra Kurla Complex, Mumbai - IITM         NaN   \n",
              " 29     2017-01-01   Bandra Kurla Complex, Mumbai - MPCB         NaN   \n",
              " 30     2017-01-01                 Bandra, Mumbai - MPCB  118.202604   \n",
              " 49     2017-01-01          Borivali East, Mumbai - IITM         NaN   \n",
              " 50     2017-01-01          Borivali East, Mumbai - MPCB         NaN   \n",
              " ...           ...                                   ...         ...   \n",
              " 204693 2017-12-31  Siddharth Nagar-Worli, Mumbai - IITM         NaN   \n",
              " 204700 2017-12-31                   Sion, Mumbai - MPCB         NaN   \n",
              " 204740 2017-12-31             Vasai West, Mumbai - MPCB         NaN   \n",
              " 204754 2017-12-31        Vile Parle West, Mumbai - MPCB         NaN   \n",
              " 204760 2017-12-31                  Worli, Mumbai - MPCB         NaN   \n",
              " \n",
              "               PM10                                            address    city  \\\n",
              " 28             NaN  System Of Air Quality and Weather Forecasting ...  Mumbai   \n",
              " 29             NaN  BKC Ground, Near Asian Heart Institute, Bandra...  Mumbai   \n",
              " 30      270.919583  CAAQMS Station Govt Polytechnic Mumbai, Near G...  Mumbai   \n",
              " 49             NaN  System Of Air Quality Andweather Forecasting R...  Mumbai   \n",
              " 50             NaN  Maharashtra Pollution Control Board, Near Lion...  Mumbai   \n",
              " ...            ...                                                ...     ...   \n",
              " 204693         NaN  System Of Air Quality Andweather Forecasting R...  Mumbai   \n",
              " 204700         NaN  K J Somaiya Hospital, Sion (E), Mumbai, Mahara...  Mumbai   \n",
              " 204740         NaN  Fire Brigade Station, Vasai Grass Road, Navgha...  Mumbai   \n",
              " 204754         NaN  CAAQMS- Maharashtra Pollution Control Board, U...  Mumbai   \n",
              " 204760         NaN  89-B, NEERI Building, Dr. Annie Besant Road, W...  Mumbai   \n",
              " \n",
              "          latitude  longitude        state Seasons  \n",
              " 28      19.053536  72.846430  Maharashtra     NaN  \n",
              " 29      19.065931  72.862131  Maharashtra     NaN  \n",
              " 30      19.062700  72.846140  Maharashtra     NaN  \n",
              " 49      19.232410  72.868950  Maharashtra     NaN  \n",
              " 50      19.224333  72.865811  Maharashtra     NaN  \n",
              " ...           ...        ...          ...     ...  \n",
              " 204693  19.000083  72.813993  Maharashtra     NaN  \n",
              " 204700  19.047000  72.874600  Maharashtra     NaN  \n",
              " 204740  19.383200  72.820400  Maharashtra     NaN  \n",
              " 204754  19.108610  72.836220  Maharashtra     NaN  \n",
              " 204760  18.993616  72.812811  Maharashtra     NaN  \n",
              " \n",
              " [10950 rows x 10 columns],\n",
              "         Timestamp                               station  PM2.5  PM10  \\\n",
              " 204793 2018-01-01   Bandra Kurla Complex, Mumbai - IITM    NaN   NaN   \n",
              " 204794 2018-01-01   Bandra Kurla Complex, Mumbai - MPCB    NaN   NaN   \n",
              " 204795 2018-01-01                 Bandra, Mumbai - MPCB    NaN   NaN   \n",
              " 204814 2018-01-01          Borivali East, Mumbai - IITM    NaN   NaN   \n",
              " 204815 2018-01-01          Borivali East, Mumbai - MPCB    NaN   NaN   \n",
              " ...           ...                                   ...    ...   ...   \n",
              " 409458 2018-12-31  Siddharth Nagar-Worli, Mumbai - IITM    NaN   NaN   \n",
              " 409465 2018-12-31                   Sion, Mumbai - MPCB    NaN   NaN   \n",
              " 409505 2018-12-31             Vasai West, Mumbai - MPCB    NaN   NaN   \n",
              " 409519 2018-12-31        Vile Parle West, Mumbai - MPCB    NaN   NaN   \n",
              " 409525 2018-12-31                  Worli, Mumbai - MPCB    NaN   NaN   \n",
              " \n",
              "                                                   address    city   latitude  \\\n",
              " 204793  System Of Air Quality and Weather Forecasting ...  Mumbai  19.053536   \n",
              " 204794  BKC Ground, Near Asian Heart Institute, Bandra...  Mumbai  19.065931   \n",
              " 204795  CAAQMS Station Govt Polytechnic Mumbai, Near G...  Mumbai  19.062700   \n",
              " 204814  System Of Air Quality Andweather Forecasting R...  Mumbai  19.232410   \n",
              " 204815  Maharashtra Pollution Control Board, Near Lion...  Mumbai  19.224333   \n",
              " ...                                                   ...     ...        ...   \n",
              " 409458  System Of Air Quality Andweather Forecasting R...  Mumbai  19.000083   \n",
              " 409465  K J Somaiya Hospital, Sion (E), Mumbai, Mahara...  Mumbai  19.047000   \n",
              " 409505  Fire Brigade Station, Vasai Grass Road, Navgha...  Mumbai  19.383200   \n",
              " 409519  CAAQMS- Maharashtra Pollution Control Board, U...  Mumbai  19.108610   \n",
              " 409525  89-B, NEERI Building, Dr. Annie Besant Road, W...  Mumbai  18.993616   \n",
              " \n",
              "         longitude        state Seasons  \n",
              " 204793  72.846430  Maharashtra     NaN  \n",
              " 204794  72.862131  Maharashtra     NaN  \n",
              " 204795  72.846140  Maharashtra     NaN  \n",
              " 204814  72.868950  Maharashtra     NaN  \n",
              " 204815  72.865811  Maharashtra     NaN  \n",
              " ...           ...          ...     ...  \n",
              " 409458  72.813993  Maharashtra     NaN  \n",
              " 409465  72.874600  Maharashtra     NaN  \n",
              " 409505  72.820400  Maharashtra     NaN  \n",
              " 409519  72.836220  Maharashtra     NaN  \n",
              " 409525  72.812811  Maharashtra     NaN  \n",
              " \n",
              " [10950 rows x 10 columns],\n",
              "         Timestamp                               station      PM2.5  \\\n",
              " 409558 2019-01-01   Bandra Kurla Complex, Mumbai - IITM        NaN   \n",
              " 409559 2019-01-01   Bandra Kurla Complex, Mumbai - MPCB        NaN   \n",
              " 409560 2019-01-01                 Bandra, Mumbai - MPCB  79.163437   \n",
              " 409579 2019-01-01          Borivali East, Mumbai - IITM        NaN   \n",
              " 409580 2019-01-01          Borivali East, Mumbai - MPCB        NaN   \n",
              " ...           ...                                   ...        ...   \n",
              " 614223 2019-12-31  Siddharth Nagar-Worli, Mumbai - IITM        NaN   \n",
              " 614230 2019-12-31                   Sion, Mumbai - MPCB  66.397813   \n",
              " 614270 2019-12-31             Vasai West, Mumbai - MPCB  65.559583   \n",
              " 614284 2019-12-31        Vile Parle West, Mumbai - MPCB  68.630769   \n",
              " 614290 2019-12-31                  Worli, Mumbai - MPCB  66.941771   \n",
              " \n",
              "               PM10                                            address    city  \\\n",
              " 409558         NaN  System Of Air Quality and Weather Forecasting ...  Mumbai   \n",
              " 409559         NaN  BKC Ground, Near Asian Heart Institute, Bandra...  Mumbai   \n",
              " 409560  221.147292  CAAQMS Station Govt Polytechnic Mumbai, Near G...  Mumbai   \n",
              " 409579         NaN  System Of Air Quality Andweather Forecasting R...  Mumbai   \n",
              " 409580         NaN  Maharashtra Pollution Control Board, Near Lion...  Mumbai   \n",
              " ...            ...                                                ...     ...   \n",
              " 614223         NaN  System Of Air Quality Andweather Forecasting R...  Mumbai   \n",
              " 614230  161.108750  K J Somaiya Hospital, Sion (E), Mumbai, Mahara...  Mumbai   \n",
              " 614270  117.397826  Fire Brigade Station, Vasai Grass Road, Navgha...  Mumbai   \n",
              " 614284  131.643913  CAAQMS- Maharashtra Pollution Control Board, U...  Mumbai   \n",
              " 614290  113.435319  89-B, NEERI Building, Dr. Annie Besant Road, W...  Mumbai   \n",
              " \n",
              "          latitude  longitude        state Seasons  \n",
              " 409558  19.053536  72.846430  Maharashtra     NaN  \n",
              " 409559  19.065931  72.862131  Maharashtra     NaN  \n",
              " 409560  19.062700  72.846140  Maharashtra     NaN  \n",
              " 409579  19.232410  72.868950  Maharashtra     NaN  \n",
              " 409580  19.224333  72.865811  Maharashtra     NaN  \n",
              " ...           ...        ...          ...     ...  \n",
              " 614223  19.000083  72.813993  Maharashtra     NaN  \n",
              " 614230  19.047000  72.874600  Maharashtra     NaN  \n",
              " 614270  19.383200  72.820400  Maharashtra     NaN  \n",
              " 614284  19.108610  72.836220  Maharashtra     NaN  \n",
              " 614290  18.993616  72.812811  Maharashtra     NaN  \n",
              " \n",
              " [10950 rows x 10 columns],\n",
              "         Timestamp                               station       PM2.5  \\\n",
              " 614323 2020-01-01   Bandra Kurla Complex, Mumbai - IITM         NaN   \n",
              " 614324 2020-01-01   Bandra Kurla Complex, Mumbai - MPCB         NaN   \n",
              " 614325 2020-01-01                 Bandra, Mumbai - MPCB   54.661236   \n",
              " 614344 2020-01-01          Borivali East, Mumbai - IITM         NaN   \n",
              " 614345 2020-01-01          Borivali East, Mumbai - MPCB   79.463229   \n",
              " ...           ...                                   ...         ...   \n",
              " 819549 2020-12-31  Siddharth Nagar-Worli, Mumbai - IITM         NaN   \n",
              " 819556 2020-12-31                   Sion, Mumbai - MPCB  108.269570   \n",
              " 819596 2020-12-31             Vasai West, Mumbai - MPCB   84.402407   \n",
              " 819610 2020-12-31        Vile Parle West, Mumbai - MPCB  127.661705   \n",
              " 819616 2020-12-31                  Worli, Mumbai - MPCB  124.102857   \n",
              " \n",
              "               PM10                                            address    city  \\\n",
              " 614323         NaN  System Of Air Quality and Weather Forecasting ...  Mumbai   \n",
              " 614324         NaN  BKC Ground, Near Asian Heart Institute, Bandra...  Mumbai   \n",
              " 614325  129.146629  CAAQMS Station Govt Polytechnic Mumbai, Near G...  Mumbai   \n",
              " 614344         NaN  System Of Air Quality Andweather Forecasting R...  Mumbai   \n",
              " 614345  131.882632  Maharashtra Pollution Control Board, Near Lion...  Mumbai   \n",
              " ...            ...                                                ...     ...   \n",
              " 819549         NaN  System Of Air Quality Andweather Forecasting R...  Mumbai   \n",
              " 819556  263.125275  K J Somaiya Hospital, Sion (E), Mumbai, Mahara...  Mumbai   \n",
              " 819596         NaN  Fire Brigade Station, Vasai Grass Road, Navgha...  Mumbai   \n",
              " 819610  245.803708  CAAQMS- Maharashtra Pollution Control Board, U...  Mumbai   \n",
              " 819616  198.181685  89-B, NEERI Building, Dr. Annie Besant Road, W...  Mumbai   \n",
              " \n",
              "          latitude  longitude        state Seasons  \n",
              " 614323  19.053536  72.846430  Maharashtra     NaN  \n",
              " 614324  19.065931  72.862131  Maharashtra     NaN  \n",
              " 614325  19.062700  72.846140  Maharashtra     NaN  \n",
              " 614344  19.232410  72.868950  Maharashtra     NaN  \n",
              " 614345  19.224333  72.865811  Maharashtra     NaN  \n",
              " ...           ...        ...          ...     ...  \n",
              " 819549  19.000083  72.813993  Maharashtra     NaN  \n",
              " 819556  19.047000  72.874600  Maharashtra     NaN  \n",
              " 819596  19.383200  72.820400  Maharashtra     NaN  \n",
              " 819610  19.108610  72.836220  Maharashtra     NaN  \n",
              " 819616  18.993616  72.812811  Maharashtra     NaN  \n",
              " \n",
              " [10980 rows x 10 columns],\n",
              "          Timestamp                               station       PM2.5  \\\n",
              " 819649  2021-01-01   Bandra Kurla Complex, Mumbai - IITM  194.987368   \n",
              " 819650  2021-01-01   Bandra Kurla Complex, Mumbai - MPCB         NaN   \n",
              " 819651  2021-01-01                 Bandra, Mumbai - MPCB   11.299341   \n",
              " 819670  2021-01-01          Borivali East, Mumbai - IITM   48.952842   \n",
              " 819671  2021-01-01          Borivali East, Mumbai - MPCB  133.313585   \n",
              " ...            ...                                   ...         ...   \n",
              " 1024314 2021-12-31  Siddharth Nagar-Worli, Mumbai - IITM   62.741895   \n",
              " 1024321 2021-12-31                   Sion, Mumbai - MPCB   49.398370   \n",
              " 1024361 2021-12-31             Vasai West, Mumbai - MPCB         NaN   \n",
              " 1024375 2021-12-31        Vile Parle West, Mumbai - MPCB   94.205745   \n",
              " 1024381 2021-12-31                  Worli, Mumbai - MPCB   89.448000   \n",
              " \n",
              "                PM10                                            address  \\\n",
              " 819649   228.700211  System Of Air Quality and Weather Forecasting ...   \n",
              " 819650          NaN  BKC Ground, Near Asian Heart Institute, Bandra...   \n",
              " 819651    50.481563  CAAQMS Station Govt Polytechnic Mumbai, Near G...   \n",
              " 819670   216.091684  System Of Air Quality Andweather Forecasting R...   \n",
              " 819671   174.479773  Maharashtra Pollution Control Board, Near Lion...   \n",
              " ...             ...                                                ...   \n",
              " 1024314  100.826526  System Of Air Quality Andweather Forecasting R...   \n",
              " 1024321  161.386809  K J Somaiya Hospital, Sion (E), Mumbai, Mahara...   \n",
              " 1024361  204.853763  Fire Brigade Station, Vasai Grass Road, Navgha...   \n",
              " 1024375  200.134000  CAAQMS- Maharashtra Pollution Control Board, U...   \n",
              " 1024381  159.470000  89-B, NEERI Building, Dr. Annie Besant Road, W...   \n",
              " \n",
              "            city   latitude  longitude        state Seasons  \n",
              " 819649   Mumbai  19.053536  72.846430  Maharashtra     NaN  \n",
              " 819650   Mumbai  19.065931  72.862131  Maharashtra     NaN  \n",
              " 819651   Mumbai  19.062700  72.846140  Maharashtra     NaN  \n",
              " 819670   Mumbai  19.232410  72.868950  Maharashtra     NaN  \n",
              " 819671   Mumbai  19.224333  72.865811  Maharashtra     NaN  \n",
              " ...         ...        ...        ...          ...     ...  \n",
              " 1024314  Mumbai  19.000083  72.813993  Maharashtra     NaN  \n",
              " 1024321  Mumbai  19.047000  72.874600  Maharashtra     NaN  \n",
              " 1024361  Mumbai  19.383200  72.820400  Maharashtra     NaN  \n",
              " 1024375  Mumbai  19.108610  72.836220  Maharashtra     NaN  \n",
              " 1024381  Mumbai  18.993616  72.812811  Maharashtra     NaN  \n",
              " \n",
              " [10950 rows x 10 columns],\n",
              "          Timestamp                               station      PM2.5  \\\n",
              " 1024414 2022-01-01   Bandra Kurla Complex, Mumbai - IITM  75.514149   \n",
              " 1024415 2022-01-01   Bandra Kurla Complex, Mumbai - MPCB        NaN   \n",
              " 1024416 2022-01-01                 Bandra, Mumbai - MPCB        NaN   \n",
              " 1024435 2022-01-01          Borivali East, Mumbai - IITM  64.668817   \n",
              " 1024436 2022-01-01          Borivali East, Mumbai - MPCB  72.606322   \n",
              " ...            ...                                   ...        ...   \n",
              " 1229079 2022-12-31  Siddharth Nagar-Worli, Mumbai - IITM  57.355319   \n",
              " 1229086 2022-12-31                   Sion, Mumbai - MPCB  66.581398   \n",
              " 1229126 2022-12-31             Vasai West, Mumbai - MPCB  50.823200   \n",
              " 1229140 2022-12-31        Vile Parle West, Mumbai - MPCB  97.494894   \n",
              " 1229146 2022-12-31                  Worli, Mumbai - MPCB  52.430833   \n",
              " \n",
              "                PM10                                            address  \\\n",
              " 1024414  153.802632  System Of Air Quality and Weather Forecasting ...   \n",
              " 1024415         NaN  BKC Ground, Near Asian Heart Institute, Bandra...   \n",
              " 1024416         NaN  CAAQMS Station Govt Polytechnic Mumbai, Near G...   \n",
              " 1024435  125.864301  System Of Air Quality Andweather Forecasting R...   \n",
              " 1024436  101.322206  Maharashtra Pollution Control Board, Near Lion...   \n",
              " ...             ...                                                ...   \n",
              " 1229079   91.461368  System Of Air Quality Andweather Forecasting R...   \n",
              " 1229086  245.728542  K J Somaiya Hospital, Sion (E), Mumbai, Mahara...   \n",
              " 1229126  165.544167  Fire Brigade Station, Vasai Grass Road, Navgha...   \n",
              " 1229140         NaN  CAAQMS- Maharashtra Pollution Control Board, U...   \n",
              " 1229146  133.247158  89-B, NEERI Building, Dr. Annie Besant Road, W...   \n",
              " \n",
              "            city   latitude  longitude        state Seasons  \n",
              " 1024414  Mumbai  19.053536  72.846430  Maharashtra     NaN  \n",
              " 1024415  Mumbai  19.065931  72.862131  Maharashtra     NaN  \n",
              " 1024416  Mumbai  19.062700  72.846140  Maharashtra     NaN  \n",
              " 1024435  Mumbai  19.232410  72.868950  Maharashtra     NaN  \n",
              " 1024436  Mumbai  19.224333  72.865811  Maharashtra     NaN  \n",
              " ...         ...        ...        ...          ...     ...  \n",
              " 1229079  Mumbai  19.000083  72.813993  Maharashtra     NaN  \n",
              " 1229086  Mumbai  19.047000  72.874600  Maharashtra     NaN  \n",
              " 1229126  Mumbai  19.383200  72.820400  Maharashtra     NaN  \n",
              " 1229140  Mumbai  19.108610  72.836220  Maharashtra     NaN  \n",
              " 1229146  Mumbai  18.993616  72.812811  Maharashtra     NaN  \n",
              " \n",
              " [10950 rows x 10 columns],\n",
              "          Timestamp                               station      PM2.5  \\\n",
              " 1229179 2023-01-01   Bandra Kurla Complex, Mumbai - IITM  99.017660   \n",
              " 1229180 2023-01-01   Bandra Kurla Complex, Mumbai - MPCB        NaN   \n",
              " 1229181 2023-01-01                 Bandra, Mumbai - MPCB        NaN   \n",
              " 1229200 2023-01-01          Borivali East, Mumbai - IITM        NaN   \n",
              " 1229201 2023-01-01          Borivali East, Mumbai - MPCB  59.246146   \n",
              " ...            ...                                   ...        ...   \n",
              " 1433844 2023-12-31  Siddharth Nagar-Worli, Mumbai - IITM  51.311789   \n",
              " 1433851 2023-12-31                   Sion, Mumbai - MPCB  64.529375   \n",
              " 1433891 2023-12-31             Vasai West, Mumbai - MPCB  37.528242   \n",
              " 1433905 2023-12-31        Vile Parle West, Mumbai - MPCB  55.668132   \n",
              " 1433911 2023-12-31                  Worli, Mumbai - MPCB  47.100625   \n",
              " \n",
              "                PM10                                            address  \\\n",
              " 1229179  310.838222  System Of Air Quality and Weather Forecasting ...   \n",
              " 1229180         NaN  BKC Ground, Near Asian Heart Institute, Bandra...   \n",
              " 1229181         NaN  CAAQMS Station Govt Polytechnic Mumbai, Near G...   \n",
              " 1229200         NaN  System Of Air Quality Andweather Forecasting R...   \n",
              " 1229201   70.545806  Maharashtra Pollution Control Board, Near Lion...   \n",
              " ...             ...                                                ...   \n",
              " 1433844   89.457263  System Of Air Quality Andweather Forecasting R...   \n",
              " 1433851  161.966344  K J Somaiya Hospital, Sion (E), Mumbai, Mahara...   \n",
              " 1433891   93.600976  Fire Brigade Station, Vasai Grass Road, Navgha...   \n",
              " 1433905  104.855326  CAAQMS- Maharashtra Pollution Control Board, U...   \n",
              " 1433911  136.581481  89-B, NEERI Building, Dr. Annie Besant Road, W...   \n",
              " \n",
              "            city   latitude  longitude        state Seasons  \n",
              " 1229179  Mumbai  19.053536  72.846430  Maharashtra     NaN  \n",
              " 1229180  Mumbai  19.065931  72.862131  Maharashtra     NaN  \n",
              " 1229181  Mumbai  19.062700  72.846140  Maharashtra     NaN  \n",
              " 1229200  Mumbai  19.232410  72.868950  Maharashtra     NaN  \n",
              " 1229201  Mumbai  19.224333  72.865811  Maharashtra     NaN  \n",
              " ...         ...        ...        ...          ...     ...  \n",
              " 1433844  Mumbai  19.000083  72.813993  Maharashtra     NaN  \n",
              " 1433851  Mumbai  19.047000  72.874600  Maharashtra     NaN  \n",
              " 1433891  Mumbai  19.383200  72.820400  Maharashtra     NaN  \n",
              " 1433905  Mumbai  19.108610  72.836220  Maharashtra     NaN  \n",
              " 1433911  Mumbai  18.993616  72.812811  Maharashtra     NaN  \n",
              " \n",
              " [10950 rows x 10 columns]]"
            ]
          },
          "execution_count": 14,
          "metadata": {},
          "output_type": "execute_result"
        }
      ],
      "source": [
        "mum_yr"
      ]
    },
    {
      "cell_type": "markdown",
      "metadata": {
        "id": "RpEtokiQsOVN"
      },
      "source": [
        "# **Population-Based [3 Marks]**\n",
        "\n",
        "1)Which state in India has the highest number of monitoring stations relative to its population?\n",
        "\n",
        "2)Plot a bar chart showing the top 5 most polluted states in terms of per capita PM2.5 exposure in 2023.\n",
        "\n",
        "3)Plot the relationship between population density and average PM2.5 concentration for each state. What conclusion can you draw about the correlation between population density and pollution?\n",
        "X-axis: Population density (people per square kilometer).\n",
        "Y-axis: Average PM2.5 concentration.\n",
        "Use a scatter plot to show the relationship, where each point represents a state."
      ]
    },
    {
      "cell_type": "code",
      "execution_count": null,
      "metadata": {
        "id": "Fa36J094v_qz"
      },
      "outputs": [
        {
          "ename": "FileNotFoundError",
          "evalue": "[Errno 2] No such file or directory: 'State_data.csv'",
          "output_type": "error",
          "traceback": [
            "\u001b[1;31m---------------------------------------------------------------------------\u001b[0m",
            "\u001b[1;31mFileNotFoundError\u001b[0m                         Traceback (most recent call last)",
            "Cell \u001b[1;32mIn[15], line 1\u001b[0m\n\u001b[1;32m----> 1\u001b[0m pop_data \u001b[38;5;241m=\u001b[39m \u001b[43mpd\u001b[49m\u001b[38;5;241;43m.\u001b[39;49m\u001b[43mread_csv\u001b[49m\u001b[43m(\u001b[49m\u001b[38;5;124;43m'\u001b[39;49m\u001b[38;5;124;43mState_data.csv\u001b[39;49m\u001b[38;5;124;43m'\u001b[39;49m\u001b[43m)\u001b[49m\n\u001b[0;32m      2\u001b[0m pop_data_original \u001b[38;5;241m=\u001b[39m pop_data\n",
            "File \u001b[1;32mc:\\Users\\Ishaan\\AppData\\Local\\Programs\\Python\\Python312\\Lib\\site-packages\\pandas\\io\\parsers\\readers.py:1026\u001b[0m, in \u001b[0;36mread_csv\u001b[1;34m(filepath_or_buffer, sep, delimiter, header, names, index_col, usecols, dtype, engine, converters, true_values, false_values, skipinitialspace, skiprows, skipfooter, nrows, na_values, keep_default_na, na_filter, verbose, skip_blank_lines, parse_dates, infer_datetime_format, keep_date_col, date_parser, date_format, dayfirst, cache_dates, iterator, chunksize, compression, thousands, decimal, lineterminator, quotechar, quoting, doublequote, escapechar, comment, encoding, encoding_errors, dialect, on_bad_lines, delim_whitespace, low_memory, memory_map, float_precision, storage_options, dtype_backend)\u001b[0m\n\u001b[0;32m   1013\u001b[0m kwds_defaults \u001b[38;5;241m=\u001b[39m _refine_defaults_read(\n\u001b[0;32m   1014\u001b[0m     dialect,\n\u001b[0;32m   1015\u001b[0m     delimiter,\n\u001b[1;32m   (...)\u001b[0m\n\u001b[0;32m   1022\u001b[0m     dtype_backend\u001b[38;5;241m=\u001b[39mdtype_backend,\n\u001b[0;32m   1023\u001b[0m )\n\u001b[0;32m   1024\u001b[0m kwds\u001b[38;5;241m.\u001b[39mupdate(kwds_defaults)\n\u001b[1;32m-> 1026\u001b[0m \u001b[38;5;28;01mreturn\u001b[39;00m \u001b[43m_read\u001b[49m\u001b[43m(\u001b[49m\u001b[43mfilepath_or_buffer\u001b[49m\u001b[43m,\u001b[49m\u001b[43m \u001b[49m\u001b[43mkwds\u001b[49m\u001b[43m)\u001b[49m\n",
            "File \u001b[1;32mc:\\Users\\Ishaan\\AppData\\Local\\Programs\\Python\\Python312\\Lib\\site-packages\\pandas\\io\\parsers\\readers.py:620\u001b[0m, in \u001b[0;36m_read\u001b[1;34m(filepath_or_buffer, kwds)\u001b[0m\n\u001b[0;32m    617\u001b[0m _validate_names(kwds\u001b[38;5;241m.\u001b[39mget(\u001b[38;5;124m\"\u001b[39m\u001b[38;5;124mnames\u001b[39m\u001b[38;5;124m\"\u001b[39m, \u001b[38;5;28;01mNone\u001b[39;00m))\n\u001b[0;32m    619\u001b[0m \u001b[38;5;66;03m# Create the parser.\u001b[39;00m\n\u001b[1;32m--> 620\u001b[0m parser \u001b[38;5;241m=\u001b[39m \u001b[43mTextFileReader\u001b[49m\u001b[43m(\u001b[49m\u001b[43mfilepath_or_buffer\u001b[49m\u001b[43m,\u001b[49m\u001b[43m \u001b[49m\u001b[38;5;241;43m*\u001b[39;49m\u001b[38;5;241;43m*\u001b[39;49m\u001b[43mkwds\u001b[49m\u001b[43m)\u001b[49m\n\u001b[0;32m    622\u001b[0m \u001b[38;5;28;01mif\u001b[39;00m chunksize \u001b[38;5;129;01mor\u001b[39;00m iterator:\n\u001b[0;32m    623\u001b[0m     \u001b[38;5;28;01mreturn\u001b[39;00m parser\n",
            "File \u001b[1;32mc:\\Users\\Ishaan\\AppData\\Local\\Programs\\Python\\Python312\\Lib\\site-packages\\pandas\\io\\parsers\\readers.py:1620\u001b[0m, in \u001b[0;36mTextFileReader.__init__\u001b[1;34m(self, f, engine, **kwds)\u001b[0m\n\u001b[0;32m   1617\u001b[0m     \u001b[38;5;28mself\u001b[39m\u001b[38;5;241m.\u001b[39moptions[\u001b[38;5;124m\"\u001b[39m\u001b[38;5;124mhas_index_names\u001b[39m\u001b[38;5;124m\"\u001b[39m] \u001b[38;5;241m=\u001b[39m kwds[\u001b[38;5;124m\"\u001b[39m\u001b[38;5;124mhas_index_names\u001b[39m\u001b[38;5;124m\"\u001b[39m]\n\u001b[0;32m   1619\u001b[0m \u001b[38;5;28mself\u001b[39m\u001b[38;5;241m.\u001b[39mhandles: IOHandles \u001b[38;5;241m|\u001b[39m \u001b[38;5;28;01mNone\u001b[39;00m \u001b[38;5;241m=\u001b[39m \u001b[38;5;28;01mNone\u001b[39;00m\n\u001b[1;32m-> 1620\u001b[0m \u001b[38;5;28mself\u001b[39m\u001b[38;5;241m.\u001b[39m_engine \u001b[38;5;241m=\u001b[39m \u001b[38;5;28;43mself\u001b[39;49m\u001b[38;5;241;43m.\u001b[39;49m\u001b[43m_make_engine\u001b[49m\u001b[43m(\u001b[49m\u001b[43mf\u001b[49m\u001b[43m,\u001b[49m\u001b[43m \u001b[49m\u001b[38;5;28;43mself\u001b[39;49m\u001b[38;5;241;43m.\u001b[39;49m\u001b[43mengine\u001b[49m\u001b[43m)\u001b[49m\n",
            "File \u001b[1;32mc:\\Users\\Ishaan\\AppData\\Local\\Programs\\Python\\Python312\\Lib\\site-packages\\pandas\\io\\parsers\\readers.py:1880\u001b[0m, in \u001b[0;36mTextFileReader._make_engine\u001b[1;34m(self, f, engine)\u001b[0m\n\u001b[0;32m   1878\u001b[0m     \u001b[38;5;28;01mif\u001b[39;00m \u001b[38;5;124m\"\u001b[39m\u001b[38;5;124mb\u001b[39m\u001b[38;5;124m\"\u001b[39m \u001b[38;5;129;01mnot\u001b[39;00m \u001b[38;5;129;01min\u001b[39;00m mode:\n\u001b[0;32m   1879\u001b[0m         mode \u001b[38;5;241m+\u001b[39m\u001b[38;5;241m=\u001b[39m \u001b[38;5;124m\"\u001b[39m\u001b[38;5;124mb\u001b[39m\u001b[38;5;124m\"\u001b[39m\n\u001b[1;32m-> 1880\u001b[0m \u001b[38;5;28mself\u001b[39m\u001b[38;5;241m.\u001b[39mhandles \u001b[38;5;241m=\u001b[39m \u001b[43mget_handle\u001b[49m\u001b[43m(\u001b[49m\n\u001b[0;32m   1881\u001b[0m \u001b[43m    \u001b[49m\u001b[43mf\u001b[49m\u001b[43m,\u001b[49m\n\u001b[0;32m   1882\u001b[0m \u001b[43m    \u001b[49m\u001b[43mmode\u001b[49m\u001b[43m,\u001b[49m\n\u001b[0;32m   1883\u001b[0m \u001b[43m    \u001b[49m\u001b[43mencoding\u001b[49m\u001b[38;5;241;43m=\u001b[39;49m\u001b[38;5;28;43mself\u001b[39;49m\u001b[38;5;241;43m.\u001b[39;49m\u001b[43moptions\u001b[49m\u001b[38;5;241;43m.\u001b[39;49m\u001b[43mget\u001b[49m\u001b[43m(\u001b[49m\u001b[38;5;124;43m\"\u001b[39;49m\u001b[38;5;124;43mencoding\u001b[39;49m\u001b[38;5;124;43m\"\u001b[39;49m\u001b[43m,\u001b[49m\u001b[43m \u001b[49m\u001b[38;5;28;43;01mNone\u001b[39;49;00m\u001b[43m)\u001b[49m\u001b[43m,\u001b[49m\n\u001b[0;32m   1884\u001b[0m \u001b[43m    \u001b[49m\u001b[43mcompression\u001b[49m\u001b[38;5;241;43m=\u001b[39;49m\u001b[38;5;28;43mself\u001b[39;49m\u001b[38;5;241;43m.\u001b[39;49m\u001b[43moptions\u001b[49m\u001b[38;5;241;43m.\u001b[39;49m\u001b[43mget\u001b[49m\u001b[43m(\u001b[49m\u001b[38;5;124;43m\"\u001b[39;49m\u001b[38;5;124;43mcompression\u001b[39;49m\u001b[38;5;124;43m\"\u001b[39;49m\u001b[43m,\u001b[49m\u001b[43m \u001b[49m\u001b[38;5;28;43;01mNone\u001b[39;49;00m\u001b[43m)\u001b[49m\u001b[43m,\u001b[49m\n\u001b[0;32m   1885\u001b[0m \u001b[43m    \u001b[49m\u001b[43mmemory_map\u001b[49m\u001b[38;5;241;43m=\u001b[39;49m\u001b[38;5;28;43mself\u001b[39;49m\u001b[38;5;241;43m.\u001b[39;49m\u001b[43moptions\u001b[49m\u001b[38;5;241;43m.\u001b[39;49m\u001b[43mget\u001b[49m\u001b[43m(\u001b[49m\u001b[38;5;124;43m\"\u001b[39;49m\u001b[38;5;124;43mmemory_map\u001b[39;49m\u001b[38;5;124;43m\"\u001b[39;49m\u001b[43m,\u001b[49m\u001b[43m \u001b[49m\u001b[38;5;28;43;01mFalse\u001b[39;49;00m\u001b[43m)\u001b[49m\u001b[43m,\u001b[49m\n\u001b[0;32m   1886\u001b[0m \u001b[43m    \u001b[49m\u001b[43mis_text\u001b[49m\u001b[38;5;241;43m=\u001b[39;49m\u001b[43mis_text\u001b[49m\u001b[43m,\u001b[49m\n\u001b[0;32m   1887\u001b[0m \u001b[43m    \u001b[49m\u001b[43merrors\u001b[49m\u001b[38;5;241;43m=\u001b[39;49m\u001b[38;5;28;43mself\u001b[39;49m\u001b[38;5;241;43m.\u001b[39;49m\u001b[43moptions\u001b[49m\u001b[38;5;241;43m.\u001b[39;49m\u001b[43mget\u001b[49m\u001b[43m(\u001b[49m\u001b[38;5;124;43m\"\u001b[39;49m\u001b[38;5;124;43mencoding_errors\u001b[39;49m\u001b[38;5;124;43m\"\u001b[39;49m\u001b[43m,\u001b[49m\u001b[43m \u001b[49m\u001b[38;5;124;43m\"\u001b[39;49m\u001b[38;5;124;43mstrict\u001b[39;49m\u001b[38;5;124;43m\"\u001b[39;49m\u001b[43m)\u001b[49m\u001b[43m,\u001b[49m\n\u001b[0;32m   1888\u001b[0m \u001b[43m    \u001b[49m\u001b[43mstorage_options\u001b[49m\u001b[38;5;241;43m=\u001b[39;49m\u001b[38;5;28;43mself\u001b[39;49m\u001b[38;5;241;43m.\u001b[39;49m\u001b[43moptions\u001b[49m\u001b[38;5;241;43m.\u001b[39;49m\u001b[43mget\u001b[49m\u001b[43m(\u001b[49m\u001b[38;5;124;43m\"\u001b[39;49m\u001b[38;5;124;43mstorage_options\u001b[39;49m\u001b[38;5;124;43m\"\u001b[39;49m\u001b[43m,\u001b[49m\u001b[43m \u001b[49m\u001b[38;5;28;43;01mNone\u001b[39;49;00m\u001b[43m)\u001b[49m\u001b[43m,\u001b[49m\n\u001b[0;32m   1889\u001b[0m \u001b[43m\u001b[49m\u001b[43m)\u001b[49m\n\u001b[0;32m   1890\u001b[0m \u001b[38;5;28;01massert\u001b[39;00m \u001b[38;5;28mself\u001b[39m\u001b[38;5;241m.\u001b[39mhandles \u001b[38;5;129;01mis\u001b[39;00m \u001b[38;5;129;01mnot\u001b[39;00m \u001b[38;5;28;01mNone\u001b[39;00m\n\u001b[0;32m   1891\u001b[0m f \u001b[38;5;241m=\u001b[39m \u001b[38;5;28mself\u001b[39m\u001b[38;5;241m.\u001b[39mhandles\u001b[38;5;241m.\u001b[39mhandle\n",
            "File \u001b[1;32mc:\\Users\\Ishaan\\AppData\\Local\\Programs\\Python\\Python312\\Lib\\site-packages\\pandas\\io\\common.py:873\u001b[0m, in \u001b[0;36mget_handle\u001b[1;34m(path_or_buf, mode, encoding, compression, memory_map, is_text, errors, storage_options)\u001b[0m\n\u001b[0;32m    868\u001b[0m \u001b[38;5;28;01melif\u001b[39;00m \u001b[38;5;28misinstance\u001b[39m(handle, \u001b[38;5;28mstr\u001b[39m):\n\u001b[0;32m    869\u001b[0m     \u001b[38;5;66;03m# Check whether the filename is to be opened in binary mode.\u001b[39;00m\n\u001b[0;32m    870\u001b[0m     \u001b[38;5;66;03m# Binary mode does not support 'encoding' and 'newline'.\u001b[39;00m\n\u001b[0;32m    871\u001b[0m     \u001b[38;5;28;01mif\u001b[39;00m ioargs\u001b[38;5;241m.\u001b[39mencoding \u001b[38;5;129;01mand\u001b[39;00m \u001b[38;5;124m\"\u001b[39m\u001b[38;5;124mb\u001b[39m\u001b[38;5;124m\"\u001b[39m \u001b[38;5;129;01mnot\u001b[39;00m \u001b[38;5;129;01min\u001b[39;00m ioargs\u001b[38;5;241m.\u001b[39mmode:\n\u001b[0;32m    872\u001b[0m         \u001b[38;5;66;03m# Encoding\u001b[39;00m\n\u001b[1;32m--> 873\u001b[0m         handle \u001b[38;5;241m=\u001b[39m \u001b[38;5;28;43mopen\u001b[39;49m\u001b[43m(\u001b[49m\n\u001b[0;32m    874\u001b[0m \u001b[43m            \u001b[49m\u001b[43mhandle\u001b[49m\u001b[43m,\u001b[49m\n\u001b[0;32m    875\u001b[0m \u001b[43m            \u001b[49m\u001b[43mioargs\u001b[49m\u001b[38;5;241;43m.\u001b[39;49m\u001b[43mmode\u001b[49m\u001b[43m,\u001b[49m\n\u001b[0;32m    876\u001b[0m \u001b[43m            \u001b[49m\u001b[43mencoding\u001b[49m\u001b[38;5;241;43m=\u001b[39;49m\u001b[43mioargs\u001b[49m\u001b[38;5;241;43m.\u001b[39;49m\u001b[43mencoding\u001b[49m\u001b[43m,\u001b[49m\n\u001b[0;32m    877\u001b[0m \u001b[43m            \u001b[49m\u001b[43merrors\u001b[49m\u001b[38;5;241;43m=\u001b[39;49m\u001b[43merrors\u001b[49m\u001b[43m,\u001b[49m\n\u001b[0;32m    878\u001b[0m \u001b[43m            \u001b[49m\u001b[43mnewline\u001b[49m\u001b[38;5;241;43m=\u001b[39;49m\u001b[38;5;124;43m\"\u001b[39;49m\u001b[38;5;124;43m\"\u001b[39;49m\u001b[43m,\u001b[49m\n\u001b[0;32m    879\u001b[0m \u001b[43m        \u001b[49m\u001b[43m)\u001b[49m\n\u001b[0;32m    880\u001b[0m     \u001b[38;5;28;01melse\u001b[39;00m:\n\u001b[0;32m    881\u001b[0m         \u001b[38;5;66;03m# Binary mode\u001b[39;00m\n\u001b[0;32m    882\u001b[0m         handle \u001b[38;5;241m=\u001b[39m \u001b[38;5;28mopen\u001b[39m(handle, ioargs\u001b[38;5;241m.\u001b[39mmode)\n",
            "\u001b[1;31mFileNotFoundError\u001b[0m: [Errno 2] No such file or directory: 'State_data.csv'"
          ]
        }
      ],
      "source": [
        "\n",
        "pop_data_original = pop_data"
      ]
    },
    {
      "cell_type": "code",
      "execution_count": null,
      "metadata": {
        "colab": {
          "base_uri": "https://localhost:8080/",
          "height": 1000
        },
        "id": "EjhHy792wYMn",
        "outputId": "65e15940-98cf-4426-ca23-3e9181d1df37"
      },
      "outputs": [
        {
          "data": {
            "text/plain": [
              "State            Chandigarh\n",
              "Population          1055450\n",
              "Area (km2)              114\n",
              "station                   3\n",
              "st_per_capita      0.000003\n",
              "Name: 29, dtype: object"
            ]
          },
          "execution_count": 61,
          "metadata": {},
          "output_type": "execute_result"
        }
      ],
      "source": [
        "'''1)Which state in India has the highest number of monitoring stations relative to its population?'''\n",
        "a = data.groupby('state')['station']\n",
        "a = a.nunique()\n",
        "st_pop = pd.merge(pop_data, a, left_on = 'State', right_on = 'state' )\n",
        "st_pop['st_per_capita'] = st_pop['station'] / st_pop['Population']\n",
        "ind = st_pop['st_per_capita'].argmax()\n",
        "st_pop.iloc[ind]"
      ]
    },
    {
      "cell_type": "code",
      "execution_count": null,
      "metadata": {},
      "outputs": [
        {
          "data": {
            "text/plain": [
              "<Axes: xlabel='city', ylabel='poll_per_cap'>"
            ]
          },
          "execution_count": 83,
          "metadata": {},
          "output_type": "execute_result"
        },
        {
          "data": {
            "image/png": "[encoded data removed]",
            "text/plain": [
              "<Figure size 640x480 with 1 Axes>"
            ]
          },
          "metadata": {},
          "output_type": "display_data"
        }
      ],
      "source": [
        "'''2)Plot a bar chart showing the top 5 most polluted states in terms of per capita PM2.5 exposure in 2023.'''\n",
        "st_poll = pd.merge(data, pop_data, left_on = 'state', right_on = 'State' )\n",
        "st_poll[\"poll_per_cap\"] = st_poll['PM2.5'] / st_poll['Population']\n",
        "st_poll.drop(columns = 'State', axis=1)\n",
        "a = st_poll.groupby('city')['poll_per_cap'].mean()\n",
        "a = a.nlargest(5)\n",
        "sns.barplot(data=a)"
      ]
    },
    {
      "cell_type": "code",
      "execution_count": null,
      "metadata": {},
      "outputs": [
        {
          "data": {
            "text/plain": [
              "<Axes: xlabel='density', ylabel='PM2.5'>"
            ]
          },
          "execution_count": 97,
          "metadata": {},
          "output_type": "execute_result"
        },
        {
          "data": {
            "image/png": "[encoded data removed]",
            "text/plain": [
              "<Figure size 640x480 with 1 Axes>"
            ]
          },
          "metadata": {},
          "output_type": "display_data"
        }
      ],
      "source": [
        "'''Plot the relationship between population density and average PM2.5 concentration for each state.\n",
        "What conclusion can you draw about the correlation between population density and pollution?\n",
        "X-axis: Population density (people per square kilometer).\n",
        "Y-axis: Average PM2.5 concentration.\n",
        "Use a scatter plot to show the relationship, where each point represents a state.'''\n",
        "\n",
        "st_poll['density'] = st_poll['Population'] / st_poll[\"Area (km2)\"]\n",
        "a = st_poll.groupby('state')[[\"density\", \"PM2.5\"]].mean()\n",
        "sns.scatterplot(data = a ,x='density', y='PM2.5')"
      ]
    },
    {
      "cell_type": "code",
      "execution_count": null,
      "metadata": {},
      "outputs": [
        {
          "data": {
            "text/html": [
              "<div>\n",
              "<style scoped>\n",
              "    .dataframe tbody tr th:only-of-type {\n",
              "        vertical-align: middle;\n",
              "    }\n",
              "\n",
              "    .dataframe tbody tr th {\n",
              "        vertical-align: top;\n",
              "    }\n",
              "\n",
              "    .dataframe thead th {\n",
              "        text-align: right;\n",
              "    }\n",
              "</style>\n",
              "<table border=\"1\" class=\"dataframe\">\n",
              "  <thead>\n",
              "    <tr style=\"text-align: right;\">\n",
              "      <th></th>\n",
              "      <th>Timestamp</th>\n",
              "      <th>station</th>\n",
              "      <th>PM2.5</th>\n",
              "      <th>PM10</th>\n",
              "      <th>address</th>\n",
              "      <th>city</th>\n",
              "      <th>latitude</th>\n",
              "      <th>longitude</th>\n",
              "      <th>state</th>\n",
              "      <th>Seasons</th>\n",
              "      <th>State</th>\n",
              "      <th>Population</th>\n",
              "      <th>Area (km2)</th>\n",
              "      <th>poll_per_cap</th>\n",
              "      <th>density</th>\n",
              "    </tr>\n",
              "  </thead>\n",
              "  <tbody>\n",
              "    <tr>\n",
              "      <th>0</th>\n",
              "      <td>2017-01-01</td>\n",
              "      <td>32Bungalows, Bhilai - CECB</td>\n",
              "      <td>NaN</td>\n",
              "      <td>NaN</td>\n",
              "      <td>Bhilai RO Office, 5, 32 Bungalows, Bhilai, Dis...</td>\n",
              "      <td>Bhilai</td>\n",
              "      <td>21.194815</td>\n",
              "      <td>81.314770</td>\n",
              "      <td>Chhattisgarh</td>\n",
              "      <td>NaN</td>\n",
              "      <td>Chhattisgarh</td>\n",
              "      <td>25545198</td>\n",
              "      <td>135192</td>\n",
              "      <td>NaN</td>\n",
              "      <td>188.954953</td>\n",
              "    </tr>\n",
              "    <tr>\n",
              "      <th>1</th>\n",
              "      <td>2017-01-01</td>\n",
              "      <td>AIIMS, Raipur - CECB</td>\n",
              "      <td>NaN</td>\n",
              "      <td>NaN</td>\n",
              "      <td>All India Institute Of Medical Science, Gate N...</td>\n",
              "      <td>Raipur</td>\n",
              "      <td>21.258815</td>\n",
              "      <td>81.578979</td>\n",
              "      <td>Chhattisgarh</td>\n",
              "      <td>NaN</td>\n",
              "      <td>Chhattisgarh</td>\n",
              "      <td>25545198</td>\n",
              "      <td>135192</td>\n",
              "      <td>NaN</td>\n",
              "      <td>188.954953</td>\n",
              "    </tr>\n",
              "    <tr>\n",
              "      <th>2</th>\n",
              "      <td>2017-01-01</td>\n",
              "      <td>Adarsh Nagar, Jaipur - RSPCB</td>\n",
              "      <td>NaN</td>\n",
              "      <td>NaN</td>\n",
              "      <td>Psychiatric Centre, Janta Colony, Govind Marg,...</td>\n",
              "      <td>Jaipur</td>\n",
              "      <td>26.902909</td>\n",
              "      <td>75.836858</td>\n",
              "      <td>Rajasthan</td>\n",
              "      <td>NaN</td>\n",
              "      <td>Rajasthan</td>\n",
              "      <td>68548437</td>\n",
              "      <td>342239</td>\n",
              "      <td>NaN</td>\n",
              "      <td>200.294055</td>\n",
              "    </tr>\n",
              "    <tr>\n",
              "      <th>3</th>\n",
              "      <td>2017-01-01</td>\n",
              "      <td>Airoli, Navi Mumbai - MPCB</td>\n",
              "      <td>NaN</td>\n",
              "      <td>54.743723</td>\n",
              "      <td>NaN</td>\n",
              "      <td>Navi Mumbai</td>\n",
              "      <td>19.149400</td>\n",
              "      <td>72.998600</td>\n",
              "      <td>Maharashtra</td>\n",
              "      <td>NaN</td>\n",
              "      <td>Maharashtra</td>\n",
              "      <td>112374333</td>\n",
              "      <td>307713</td>\n",
              "      <td>NaN</td>\n",
              "      <td>365.192023</td>\n",
              "    </tr>\n",
              "    <tr>\n",
              "      <th>4</th>\n",
              "      <td>2017-01-01</td>\n",
              "      <td>Alandi, Pune - IITM</td>\n",
              "      <td>NaN</td>\n",
              "      <td>NaN</td>\n",
              "      <td>System Of Air Quality And weather Forecasting ...</td>\n",
              "      <td>Pune</td>\n",
              "      <td>18.675076</td>\n",
              "      <td>73.892743</td>\n",
              "      <td>Maharashtra</td>\n",
              "      <td>NaN</td>\n",
              "      <td>Maharashtra</td>\n",
              "      <td>112374333</td>\n",
              "      <td>307713</td>\n",
              "      <td>NaN</td>\n",
              "      <td>365.192023</td>\n",
              "    </tr>\n",
              "    <tr>\n",
              "      <th>...</th>\n",
              "      <td>...</td>\n",
              "      <td>...</td>\n",
              "      <td>...</td>\n",
              "      <td>...</td>\n",
              "      <td>...</td>\n",
              "      <td>...</td>\n",
              "      <td>...</td>\n",
              "      <td>...</td>\n",
              "      <td>...</td>\n",
              "      <td>...</td>\n",
              "      <td>...</td>\n",
              "      <td>...</td>\n",
              "      <td>...</td>\n",
              "      <td>...</td>\n",
              "      <td>...</td>\n",
              "    </tr>\n",
              "    <tr>\n",
              "      <th>1563697</th>\n",
              "      <td>2024-12-10</td>\n",
              "      <td>Worli, Mumbai - MPCB</td>\n",
              "      <td>54.71</td>\n",
              "      <td>124.420000</td>\n",
              "      <td>89-B, NEERI Building, Dr. Annie Besant Road, W...</td>\n",
              "      <td>Mumbai</td>\n",
              "      <td>18.993616</td>\n",
              "      <td>72.812811</td>\n",
              "      <td>Maharashtra</td>\n",
              "      <td>NaN</td>\n",
              "      <td>Maharashtra</td>\n",
              "      <td>112374333</td>\n",
              "      <td>307713</td>\n",
              "      <td>4.868549e-07</td>\n",
              "      <td>365.192023</td>\n",
              "    </tr>\n",
              "    <tr>\n",
              "      <th>1563698</th>\n",
              "      <td>2024-12-10</td>\n",
              "      <td>Yamunapuram, Bulandshahr - UPPCB</td>\n",
              "      <td>53.23</td>\n",
              "      <td>101.340000</td>\n",
              "      <td>F-5, Yamunapuram, Bulandshahr, Near MMR Mall (...</td>\n",
              "      <td>Bulandshahr</td>\n",
              "      <td>28.406963</td>\n",
              "      <td>77.849831</td>\n",
              "      <td>Uttar Pradesh</td>\n",
              "      <td>NaN</td>\n",
              "      <td>Uttar Pradesh</td>\n",
              "      <td>199812341</td>\n",
              "      <td>240928</td>\n",
              "      <td>2.664000e-07</td>\n",
              "      <td>829.344622</td>\n",
              "    </tr>\n",
              "    <tr>\n",
              "      <th>1563699</th>\n",
              "      <td>2024-12-10</td>\n",
              "      <td>Yerramukkapalli, Kadapa - APPCB</td>\n",
              "      <td>75.00</td>\n",
              "      <td>110.750000</td>\n",
              "      <td>Municipal Corporation Office Complex, Railway ...</td>\n",
              "      <td>Kadapa</td>\n",
              "      <td>14.465052</td>\n",
              "      <td>78.824187</td>\n",
              "      <td>Andhra Pradesh</td>\n",
              "      <td>NaN</td>\n",
              "      <td>Andhra Pradesh</td>\n",
              "      <td>49577103</td>\n",
              "      <td>162975</td>\n",
              "      <td>1.512795e-06</td>\n",
              "      <td>304.200663</td>\n",
              "    </tr>\n",
              "    <tr>\n",
              "      <th>1563700</th>\n",
              "      <td>2024-12-10</td>\n",
              "      <td>Zero Point GICI, Gangtok - SSPCB</td>\n",
              "      <td>NaN</td>\n",
              "      <td>NaN</td>\n",
              "      <td>Near State PWD Office, Zero Point, Gangtok, Si...</td>\n",
              "      <td>Gangtok</td>\n",
              "      <td>27.338530</td>\n",
              "      <td>88.614099</td>\n",
              "      <td>Sikkim</td>\n",
              "      <td>NaN</td>\n",
              "      <td>Sikkim</td>\n",
              "      <td>610577</td>\n",
              "      <td>7096</td>\n",
              "      <td>NaN</td>\n",
              "      <td>86.045237</td>\n",
              "    </tr>\n",
              "    <tr>\n",
              "      <th>1563701</th>\n",
              "      <td>2024-12-10</td>\n",
              "      <td>Zoo Park, Hyderabad - TSPCB</td>\n",
              "      <td>72.83</td>\n",
              "      <td>176.480000</td>\n",
              "      <td>NaN</td>\n",
              "      <td>Hyderabad</td>\n",
              "      <td>17.349694</td>\n",
              "      <td>78.451437</td>\n",
              "      <td>Telangana</td>\n",
              "      <td>NaN</td>\n",
              "      <td>Telangana</td>\n",
              "      <td>35003674</td>\n",
              "      <td>112077</td>\n",
              "      <td>2.080639e-06</td>\n",
              "      <td>312.318085</td>\n",
              "    </tr>\n",
              "  </tbody>\n",
              "</table>\n",
              "<p>1563702 rows × 15 columns</p>\n",
              "</div>"
            ],
            "text/plain": [
              "         Timestamp                           station  PM2.5        PM10  \\\n",
              "0       2017-01-01        32Bungalows, Bhilai - CECB    NaN         NaN   \n",
              "1       2017-01-01              AIIMS, Raipur - CECB    NaN         NaN   \n",
              "2       2017-01-01      Adarsh Nagar, Jaipur - RSPCB    NaN         NaN   \n",
              "3       2017-01-01        Airoli, Navi Mumbai - MPCB    NaN   54.743723   \n",
              "4       2017-01-01               Alandi, Pune - IITM    NaN         NaN   \n",
              "...            ...                               ...    ...         ...   \n",
              "1563697 2024-12-10              Worli, Mumbai - MPCB  54.71  124.420000   \n",
              "1563698 2024-12-10  Yamunapuram, Bulandshahr - UPPCB  53.23  101.340000   \n",
              "1563699 2024-12-10   Yerramukkapalli, Kadapa - APPCB  75.00  110.750000   \n",
              "1563700 2024-12-10  Zero Point GICI, Gangtok - SSPCB    NaN         NaN   \n",
              "1563701 2024-12-10       Zoo Park, Hyderabad - TSPCB  72.83  176.480000   \n",
              "\n",
              "                                                   address         city  \\\n",
              "0        Bhilai RO Office, 5, 32 Bungalows, Bhilai, Dis...       Bhilai   \n",
              "1        All India Institute Of Medical Science, Gate N...       Raipur   \n",
              "2        Psychiatric Centre, Janta Colony, Govind Marg,...       Jaipur   \n",
              "3                                                      NaN  Navi Mumbai   \n",
              "4        System Of Air Quality And weather Forecasting ...         Pune   \n",
              "...                                                    ...          ...   \n",
              "1563697  89-B, NEERI Building, Dr. Annie Besant Road, W...       Mumbai   \n",
              "1563698  F-5, Yamunapuram, Bulandshahr, Near MMR Mall (...  Bulandshahr   \n",
              "1563699  Municipal Corporation Office Complex, Railway ...       Kadapa   \n",
              "1563700  Near State PWD Office, Zero Point, Gangtok, Si...      Gangtok   \n",
              "1563701                                                NaN    Hyderabad   \n",
              "\n",
              "          latitude  longitude           state Seasons           State  \\\n",
              "0        21.194815  81.314770    Chhattisgarh     NaN    Chhattisgarh   \n",
              "1        21.258815  81.578979    Chhattisgarh     NaN    Chhattisgarh   \n",
              "2        26.902909  75.836858       Rajasthan     NaN       Rajasthan   \n",
              "3        19.149400  72.998600     Maharashtra     NaN     Maharashtra   \n",
              "4        18.675076  73.892743     Maharashtra     NaN     Maharashtra   \n",
              "...            ...        ...             ...     ...             ...   \n",
              "1563697  18.993616  72.812811     Maharashtra     NaN     Maharashtra   \n",
              "1563698  28.406963  77.849831   Uttar Pradesh     NaN   Uttar Pradesh   \n",
              "1563699  14.465052  78.824187  Andhra Pradesh     NaN  Andhra Pradesh   \n",
              "1563700  27.338530  88.614099          Sikkim     NaN          Sikkim   \n",
              "1563701  17.349694  78.451437       Telangana     NaN       Telangana   \n",
              "\n",
              "         Population  Area (km2)  poll_per_cap     density  \n",
              "0          25545198      135192           NaN  188.954953  \n",
              "1          25545198      135192           NaN  188.954953  \n",
              "2          68548437      342239           NaN  200.294055  \n",
              "3         112374333      307713           NaN  365.192023  \n",
              "4         112374333      307713           NaN  365.192023  \n",
              "...             ...         ...           ...         ...  \n",
              "1563697   112374333      307713  4.868549e-07  365.192023  \n",
              "1563698   199812341      240928  2.664000e-07  829.344622  \n",
              "1563699    49577103      162975  1.512795e-06  304.200663  \n",
              "1563700      610577        7096           NaN   86.045237  \n",
              "1563701    35003674      112077  2.080639e-06  312.318085  \n",
              "\n",
              "[1563702 rows x 15 columns]"
            ]
          },
          "execution_count": 98,
          "metadata": {},
          "output_type": "execute_result"
        }
      ],
      "source": [
        "st_poll"
      ]
    },
    {
      "cell_type": "markdown",
      "metadata": {},
      "source": [
        "**Area Based [3 Marks]**\n",
        "\n",
        "Which state has the highest PM2.5 concentration per square kilometer? Plot the pollution levels for all states relative to their area.\n",
        "X-axis: States.\n",
        "Y-axis: PM2.5 concentration per square kilometer.\n",
        "Use a bar plot where each bar represents a state, and the height shows PM2.5 per sq km.\n",
        "\n",
        "Compare the total number of monitoring stations per square kilometer in each state. Identify the state with the highest density of monitoring stations relative to its area. Show a bar plot where each bar represents a state, and the height shows the number of monitoring stations per square kilometer.\n",
        "\n",
        "Compare the average PM2.5 levels between Maharashtra and Madhya Pradesh over the year 2021. Given that both states have similar area sizes but different population densities, analyze how population density impacts pollution levels in these two states.\n"
      ]
    },
    {
      "cell_type": "code",
      "execution_count": null,
      "metadata": {},
      "outputs": [
        {
          "data": {
            "text/plain": [
              "<Axes: xlabel='state', ylabel='PM2.5_per_cap'>"
            ]
          },
          "execution_count": 145,
          "metadata": {},
          "output_type": "execute_result"
        },
        {
          "data": {
            "image/png": "[encoded data removed]",
            "text/plain": [
              "<Figure size 640x480 with 1 Axes>"
            ]
          },
          "metadata": {},
          "output_type": "display_data"
        }
      ],
      "source": [
        "'''\n",
        "Which state has the highest PM2.5 concentration per square kilometer? Plot the pollution levels for all states relative to their area.\n",
        "X-axis: States.\n",
        "Y-axis: PM2.5 concentration per square kilometer.\n",
        "Use a bar plot where each bar represents a state, and the height shows PM2.5 per sq km.'''\n",
        "\n",
        "a = st_poll\n",
        "a['PM2.5_per_cap'] = st_poll[\"PM2.5\"] / st_poll[\"Area (km2)\"]\n",
        "a = a.groupby('state')[\"PM2.5_per_cap\"].mean()\n",
        "c = a.nlargest(7)\n",
        "c = c.iloc[-1]\n",
        "b = a > c\n",
        "a = a[b]\n",
        "sns.barplot(data=a, )\n"
      ]
    },
    {
      "cell_type": "code",
      "execution_count": null,
      "metadata": {},
      "outputs": [
        {
          "data": {
            "text/plain": [
              "State            Delhi\n",
              "Population    16787941\n",
              "Area (km2)        1484\n",
              "station             40\n",
              "st_per_cap    0.026954\n",
              "Name: 17, dtype: object"
            ]
          },
          "execution_count": 179,
          "metadata": {},
          "output_type": "execute_result"
        }
      ],
      "source": [
        "'''Compare the total number of monitoring stations per square kilometer in each state.\n",
        " Identify the state with the highest density of monitoring stations relative to its area.\n",
        " Show a bar plot where each bar represents a state, and the height shows the number of monitoring stations per square kilometer.'''\n",
        "\n",
        "a = st_poll.groupby(['state'])['station'].nunique()\n",
        "state_data = pd.merge(pop_data, a, left_on='State',right_on= 'state')\n",
        "state_data['st_per_cap'] = state_data['station'] / state_data[\"Area (km2)\"]\n",
        "ind = state_data['st_per_cap'].argmax()\n",
        "state_data.iloc[ind]"
      ]
    },
    {
      "cell_type": "code",
      "execution_count": null,
      "metadata": {},
      "outputs": [],
      "source": [
        "'''Compare the average PM2.5 levels between Maharashtra and Madhya Pradesh over the year 2021.\n",
        " Given that both states have similar area sizes but different population densities,\n",
        " analyze how population density impacts pollution levels in these two states.'''\n",
        "\n"
      ]
    },
    {
      "cell_type": "code",
      "execution_count": null,
      "metadata": {},
      "outputs": [
        {
          "data": {
            "text/html": [
              "<div>\n",
              "<style scoped>\n",
              "    .dataframe tbody tr th:only-of-type {\n",
              "        vertical-align: middle;\n",
              "    }\n",
              "\n",
              "    .dataframe tbody tr th {\n",
              "        vertical-align: top;\n",
              "    }\n",
              "\n",
              "    .dataframe thead th {\n",
              "        text-align: right;\n",
              "    }\n",
              "</style>\n",
              "<table border=\"1\" class=\"dataframe\">\n",
              "  <thead>\n",
              "    <tr style=\"text-align: right;\">\n",
              "      <th></th>\n",
              "      <th>State</th>\n",
              "      <th>Population</th>\n",
              "      <th>Area (km2)</th>\n",
              "      <th>station</th>\n",
              "      <th>st_per_cap</th>\n",
              "    </tr>\n",
              "  </thead>\n",
              "  <tbody>\n",
              "    <tr>\n",
              "      <th>0</th>\n",
              "      <td>Uttar Pradesh</td>\n",
              "      <td>199812341</td>\n",
              "      <td>240928</td>\n",
              "      <td>57</td>\n",
              "      <td>0.000237</td>\n",
              "    </tr>\n",
              "    <tr>\n",
              "      <th>1</th>\n",
              "      <td>Maharashtra</td>\n",
              "      <td>112374333</td>\n",
              "      <td>307713</td>\n",
              "      <td>97</td>\n",
              "      <td>0.000315</td>\n",
              "    </tr>\n",
              "    <tr>\n",
              "      <th>2</th>\n",
              "      <td>Bihar</td>\n",
              "      <td>104099452</td>\n",
              "      <td>94163</td>\n",
              "      <td>36</td>\n",
              "      <td>0.000382</td>\n",
              "    </tr>\n",
              "    <tr>\n",
              "      <th>3</th>\n",
              "      <td>West Bengal</td>\n",
              "      <td>91276115</td>\n",
              "      <td>88752</td>\n",
              "      <td>22</td>\n",
              "      <td>0.000248</td>\n",
              "    </tr>\n",
              "    <tr>\n",
              "      <th>4</th>\n",
              "      <td>Madhya Pradesh</td>\n",
              "      <td>72626809</td>\n",
              "      <td>308252</td>\n",
              "      <td>29</td>\n",
              "      <td>0.000094</td>\n",
              "    </tr>\n",
              "    <tr>\n",
              "      <th>5</th>\n",
              "      <td>Tamil Nadu</td>\n",
              "      <td>72147030</td>\n",
              "      <td>130058</td>\n",
              "      <td>36</td>\n",
              "      <td>0.000277</td>\n",
              "    </tr>\n",
              "    <tr>\n",
              "      <th>6</th>\n",
              "      <td>Rajasthan</td>\n",
              "      <td>68548437</td>\n",
              "      <td>342239</td>\n",
              "      <td>46</td>\n",
              "      <td>0.000134</td>\n",
              "    </tr>\n",
              "    <tr>\n",
              "      <th>7</th>\n",
              "      <td>Karnataka</td>\n",
              "      <td>61095297</td>\n",
              "      <td>191791</td>\n",
              "      <td>42</td>\n",
              "      <td>0.000219</td>\n",
              "    </tr>\n",
              "    <tr>\n",
              "      <th>8</th>\n",
              "      <td>Gujarat</td>\n",
              "      <td>60439692</td>\n",
              "      <td>196024</td>\n",
              "      <td>17</td>\n",
              "      <td>0.000087</td>\n",
              "    </tr>\n",
              "    <tr>\n",
              "      <th>9</th>\n",
              "      <td>Andhra Pradesh</td>\n",
              "      <td>49577103</td>\n",
              "      <td>162975</td>\n",
              "      <td>13</td>\n",
              "      <td>0.000080</td>\n",
              "    </tr>\n",
              "    <tr>\n",
              "      <th>10</th>\n",
              "      <td>Odisha</td>\n",
              "      <td>41974219</td>\n",
              "      <td>155707</td>\n",
              "      <td>19</td>\n",
              "      <td>0.000122</td>\n",
              "    </tr>\n",
              "    <tr>\n",
              "      <th>11</th>\n",
              "      <td>Telangana</td>\n",
              "      <td>35003674</td>\n",
              "      <td>112077</td>\n",
              "      <td>14</td>\n",
              "      <td>0.000125</td>\n",
              "    </tr>\n",
              "    <tr>\n",
              "      <th>12</th>\n",
              "      <td>Kerala</td>\n",
              "      <td>33406061</td>\n",
              "      <td>38863</td>\n",
              "      <td>9</td>\n",
              "      <td>0.000232</td>\n",
              "    </tr>\n",
              "    <tr>\n",
              "      <th>13</th>\n",
              "      <td>Jharkhand</td>\n",
              "      <td>32988134</td>\n",
              "      <td>79716</td>\n",
              "      <td>4</td>\n",
              "      <td>0.000050</td>\n",
              "    </tr>\n",
              "    <tr>\n",
              "      <th>14</th>\n",
              "      <td>Assam</td>\n",
              "      <td>31205576</td>\n",
              "      <td>78438</td>\n",
              "      <td>9</td>\n",
              "      <td>0.000115</td>\n",
              "    </tr>\n",
              "    <tr>\n",
              "      <th>15</th>\n",
              "      <td>Punjab</td>\n",
              "      <td>27743338</td>\n",
              "      <td>50362</td>\n",
              "      <td>8</td>\n",
              "      <td>0.000159</td>\n",
              "    </tr>\n",
              "    <tr>\n",
              "      <th>16</th>\n",
              "      <td>Chhattisgarh</td>\n",
              "      <td>25545198</td>\n",
              "      <td>135192</td>\n",
              "      <td>14</td>\n",
              "      <td>0.000104</td>\n",
              "    </tr>\n",
              "    <tr>\n",
              "      <th>17</th>\n",
              "      <td>Delhi</td>\n",
              "      <td>16787941</td>\n",
              "      <td>1484</td>\n",
              "      <td>40</td>\n",
              "      <td>0.026954</td>\n",
              "    </tr>\n",
              "    <tr>\n",
              "      <th>18</th>\n",
              "      <td>Haryana</td>\n",
              "      <td>25351462</td>\n",
              "      <td>44212</td>\n",
              "      <td>30</td>\n",
              "      <td>0.000679</td>\n",
              "    </tr>\n",
              "    <tr>\n",
              "      <th>19</th>\n",
              "      <td>Jammu and Kashmir</td>\n",
              "      <td>12267032</td>\n",
              "      <td>42241</td>\n",
              "      <td>1</td>\n",
              "      <td>0.000024</td>\n",
              "    </tr>\n",
              "    <tr>\n",
              "      <th>20</th>\n",
              "      <td>Uttarakhand</td>\n",
              "      <td>10086292</td>\n",
              "      <td>53483</td>\n",
              "      <td>3</td>\n",
              "      <td>0.000056</td>\n",
              "    </tr>\n",
              "    <tr>\n",
              "      <th>21</th>\n",
              "      <td>Himachal Pradesh</td>\n",
              "      <td>6864602</td>\n",
              "      <td>55673</td>\n",
              "      <td>1</td>\n",
              "      <td>0.000018</td>\n",
              "    </tr>\n",
              "    <tr>\n",
              "      <th>22</th>\n",
              "      <td>Tripura</td>\n",
              "      <td>3673917</td>\n",
              "      <td>10491</td>\n",
              "      <td>2</td>\n",
              "      <td>0.000191</td>\n",
              "    </tr>\n",
              "    <tr>\n",
              "      <th>23</th>\n",
              "      <td>Manipur</td>\n",
              "      <td>2570390</td>\n",
              "      <td>22327</td>\n",
              "      <td>2</td>\n",
              "      <td>0.000090</td>\n",
              "    </tr>\n",
              "    <tr>\n",
              "      <th>24</th>\n",
              "      <td>Meghalaya</td>\n",
              "      <td>2966889</td>\n",
              "      <td>22429</td>\n",
              "      <td>2</td>\n",
              "      <td>0.000089</td>\n",
              "    </tr>\n",
              "    <tr>\n",
              "      <th>25</th>\n",
              "      <td>Nagaland</td>\n",
              "      <td>1978502</td>\n",
              "      <td>16579</td>\n",
              "      <td>1</td>\n",
              "      <td>0.000060</td>\n",
              "    </tr>\n",
              "    <tr>\n",
              "      <th>26</th>\n",
              "      <td>Arunachal Pradesh</td>\n",
              "      <td>1383727</td>\n",
              "      <td>83743</td>\n",
              "      <td>1</td>\n",
              "      <td>0.000012</td>\n",
              "    </tr>\n",
              "    <tr>\n",
              "      <th>27</th>\n",
              "      <td>Puducherry</td>\n",
              "      <td>1247953</td>\n",
              "      <td>479</td>\n",
              "      <td>1</td>\n",
              "      <td>0.002088</td>\n",
              "    </tr>\n",
              "    <tr>\n",
              "      <th>28</th>\n",
              "      <td>Mizoram</td>\n",
              "      <td>1097206</td>\n",
              "      <td>21081</td>\n",
              "      <td>1</td>\n",
              "      <td>0.000047</td>\n",
              "    </tr>\n",
              "    <tr>\n",
              "      <th>29</th>\n",
              "      <td>Chandigarh</td>\n",
              "      <td>1055450</td>\n",
              "      <td>114</td>\n",
              "      <td>3</td>\n",
              "      <td>0.026316</td>\n",
              "    </tr>\n",
              "    <tr>\n",
              "      <th>30</th>\n",
              "      <td>Sikkim</td>\n",
              "      <td>610577</td>\n",
              "      <td>7096</td>\n",
              "      <td>1</td>\n",
              "      <td>0.000141</td>\n",
              "    </tr>\n",
              "  </tbody>\n",
              "</table>\n",
              "</div>"
            ],
            "text/plain": [
              "                State  Population  Area (km2)  station  st_per_cap\n",
              "0       Uttar Pradesh   199812341      240928       57    0.000237\n",
              "1         Maharashtra   112374333      307713       97    0.000315\n",
              "2               Bihar   104099452       94163       36    0.000382\n",
              "3         West Bengal    91276115       88752       22    0.000248\n",
              "4      Madhya Pradesh    72626809      308252       29    0.000094\n",
              "5          Tamil Nadu    72147030      130058       36    0.000277\n",
              "6           Rajasthan    68548437      342239       46    0.000134\n",
              "7           Karnataka    61095297      191791       42    0.000219\n",
              "8             Gujarat    60439692      196024       17    0.000087\n",
              "9      Andhra Pradesh    49577103      162975       13    0.000080\n",
              "10             Odisha    41974219      155707       19    0.000122\n",
              "11          Telangana    35003674      112077       14    0.000125\n",
              "12             Kerala    33406061       38863        9    0.000232\n",
              "13          Jharkhand    32988134       79716        4    0.000050\n",
              "14              Assam    31205576       78438        9    0.000115\n",
              "15             Punjab    27743338       50362        8    0.000159\n",
              "16       Chhattisgarh    25545198      135192       14    0.000104\n",
              "17              Delhi    16787941        1484       40    0.026954\n",
              "18            Haryana    25351462       44212       30    0.000679\n",
              "19  Jammu and Kashmir    12267032       42241        1    0.000024\n",
              "20        Uttarakhand    10086292       53483        3    0.000056\n",
              "21   Himachal Pradesh     6864602       55673        1    0.000018\n",
              "22            Tripura     3673917       10491        2    0.000191\n",
              "23            Manipur     2570390       22327        2    0.000090\n",
              "24          Meghalaya     2966889       22429        2    0.000089\n",
              "25           Nagaland     1978502       16579        1    0.000060\n",
              "26  Arunachal Pradesh     1383727       83743        1    0.000012\n",
              "27         Puducherry     1247953         479        1    0.002088\n",
              "28            Mizoram     1097206       21081        1    0.000047\n",
              "29         Chandigarh     1055450         114        3    0.026316\n",
              "30             Sikkim      610577        7096        1    0.000141"
            ]
          },
          "execution_count": 167,
          "metadata": {},
          "output_type": "execute_result"
        }
      ],
      "source": [
        "state_data"
      ]
    }
  ],
  "metadata": {
    "colab": {
      "provenance": []
    },
    "kernelspec": {
      "display_name": "Python 3",
      "language": "python",
      "name": "python3"
    },
    "language_info": {
      "codemirror_mode": {
        "name": "ipython",
        "version": 3
      },
      "file_extension": ".py",
      "mimetype": "text/x-python",
      "name": "python",
      "nbconvert_exporter": "python",
      "pygments_lexer": "ipython3",
      "version": "3.12.5"
    }
  },
  "nbformat": 4,
  "nbformat_minor": 0
}
