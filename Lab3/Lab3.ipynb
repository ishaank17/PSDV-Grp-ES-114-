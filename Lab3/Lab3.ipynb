{
  "cells": [
    {
      "cell_type": "code",
      "execution_count": null,
      "metadata": {
        "id": "agGYJpXZUXrP"
      },
      "outputs": [],
      "source": [
        "import matplotlib.pyplot as plt\n",
        "import seaborn as sns\n",
        "import pandas as pd\n",
        "import scipy as sc\n",
        "import numpy as np\n",
        "#hello\n"
      ]
    },
    {
      "cell_type": "code",
      "execution_count": null,
      "metadata": {
        "id": "HfkfOlNbUXrR",
        "outputId": "2113bcbc-b3b4-4168-c5e2-fe503a7edf50"
      },
      "outputs": [
        {
          "data": {
            "text/html": [
              "<div>\n",
              "<style scoped>\n",
              "    .dataframe tbody tr th:only-of-type {\n",
              "        vertical-align: middle;\n",
              "    }\n",
              "\n",
              "    .dataframe tbody tr th {\n",
              "        vertical-align: top;\n",
              "    }\n",
              "\n",
              "    .dataframe thead th {\n",
              "        text-align: right;\n",
              "    }\n",
              "</style>\n",
              "<table border=\"1\" class=\"dataframe\">\n",
              "  <thead>\n",
              "    <tr style=\"text-align: right;\">\n",
              "      <th></th>\n",
              "      <th>Timestamp</th>\n",
              "      <th>station</th>\n",
              "      <th>PM2.5</th>\n",
              "      <th>PM10</th>\n",
              "      <th>address</th>\n",
              "      <th>city</th>\n",
              "      <th>latitude</th>\n",
              "      <th>longitude</th>\n",
              "      <th>state</th>\n",
              "    </tr>\n",
              "  </thead>\n",
              "  <tbody>\n",
              "    <tr>\n",
              "      <th>0</th>\n",
              "      <td>2017-01-01</td>\n",
              "      <td>32Bungalows, Bhilai - CECB</td>\n",
              "      <td>NaN</td>\n",
              "      <td>NaN</td>\n",
              "      <td>Bhilai RO Office, 5, 32 Bungalows, Bhilai, Dis...</td>\n",
              "      <td>Bhilai</td>\n",
              "      <td>21.194815</td>\n",
              "      <td>81.314770</td>\n",
              "      <td>Chhattisgarh</td>\n",
              "    </tr>\n",
              "    <tr>\n",
              "      <th>1</th>\n",
              "      <td>2017-01-01</td>\n",
              "      <td>AIIMS, Raipur - CECB</td>\n",
              "      <td>NaN</td>\n",
              "      <td>NaN</td>\n",
              "      <td>All India Institute Of Medical Science, Gate N...</td>\n",
              "      <td>Raipur</td>\n",
              "      <td>21.258815</td>\n",
              "      <td>81.578979</td>\n",
              "      <td>Chhattisgarh</td>\n",
              "    </tr>\n",
              "    <tr>\n",
              "      <th>2</th>\n",
              "      <td>2017-01-01</td>\n",
              "      <td>Adarsh Nagar, Jaipur - RSPCB</td>\n",
              "      <td>NaN</td>\n",
              "      <td>NaN</td>\n",
              "      <td>Psychiatric Centre, Janta Colony, Govind Marg,...</td>\n",
              "      <td>Jaipur</td>\n",
              "      <td>26.902909</td>\n",
              "      <td>75.836858</td>\n",
              "      <td>Rajasthan</td>\n",
              "    </tr>\n",
              "    <tr>\n",
              "      <th>3</th>\n",
              "      <td>2017-01-01</td>\n",
              "      <td>Airoli, Navi Mumbai - MPCB</td>\n",
              "      <td>NaN</td>\n",
              "      <td>54.743723</td>\n",
              "      <td>NaN</td>\n",
              "      <td>Navi Mumbai</td>\n",
              "      <td>19.149400</td>\n",
              "      <td>72.998600</td>\n",
              "      <td>Maharashtra</td>\n",
              "    </tr>\n",
              "    <tr>\n",
              "      <th>4</th>\n",
              "      <td>2017-01-01</td>\n",
              "      <td>Airport Area, Indore - IMC</td>\n",
              "      <td>NaN</td>\n",
              "      <td>NaN</td>\n",
              "      <td>NaN</td>\n",
              "      <td>NaN</td>\n",
              "      <td>NaN</td>\n",
              "      <td>NaN</td>\n",
              "      <td>NaN</td>\n",
              "    </tr>\n",
              "    <tr>\n",
              "      <th>...</th>\n",
              "      <td>...</td>\n",
              "      <td>...</td>\n",
              "      <td>...</td>\n",
              "      <td>...</td>\n",
              "      <td>...</td>\n",
              "      <td>...</td>\n",
              "      <td>...</td>\n",
              "      <td>...</td>\n",
              "      <td>...</td>\n",
              "    </tr>\n",
              "    <tr>\n",
              "      <th>1627456</th>\n",
              "      <td>2024-12-10</td>\n",
              "      <td>Worli, Mumbai - MPCB</td>\n",
              "      <td>54.71</td>\n",
              "      <td>124.420000</td>\n",
              "      <td>89-B, NEERI Building, Dr. Annie Besant Road, W...</td>\n",
              "      <td>Mumbai</td>\n",
              "      <td>18.993616</td>\n",
              "      <td>72.812811</td>\n",
              "      <td>Maharashtra</td>\n",
              "    </tr>\n",
              "    <tr>\n",
              "      <th>1627457</th>\n",
              "      <td>2024-12-10</td>\n",
              "      <td>Yamunapuram, Bulandshahr - UPPCB</td>\n",
              "      <td>53.23</td>\n",
              "      <td>101.340000</td>\n",
              "      <td>F-5, Yamunapuram, Bulandshahr, Near MMR Mall (...</td>\n",
              "      <td>Bulandshahr</td>\n",
              "      <td>28.406963</td>\n",
              "      <td>77.849831</td>\n",
              "      <td>Uttar Pradesh</td>\n",
              "    </tr>\n",
              "    <tr>\n",
              "      <th>1627458</th>\n",
              "      <td>2024-12-10</td>\n",
              "      <td>Yerramukkapalli, Kadapa - APPCB</td>\n",
              "      <td>75.00</td>\n",
              "      <td>110.750000</td>\n",
              "      <td>Municipal Corporation Office Complex, Railway ...</td>\n",
              "      <td>Kadapa</td>\n",
              "      <td>14.465052</td>\n",
              "      <td>78.824187</td>\n",
              "      <td>Andhra Pradesh</td>\n",
              "    </tr>\n",
              "    <tr>\n",
              "      <th>1627459</th>\n",
              "      <td>2024-12-10</td>\n",
              "      <td>Zero Point GICI, Gangtok - SSPCB</td>\n",
              "      <td>NaN</td>\n",
              "      <td>NaN</td>\n",
              "      <td>Near State PWD Office, Zero Point, Gangtok, Si...</td>\n",
              "      <td>Gangtok</td>\n",
              "      <td>27.338530</td>\n",
              "      <td>88.614099</td>\n",
              "      <td>Sikkim</td>\n",
              "    </tr>\n",
              "    <tr>\n",
              "      <th>1627460</th>\n",
              "      <td>2024-12-10</td>\n",
              "      <td>Zoo Park, Hyderabad - TSPCB</td>\n",
              "      <td>72.83</td>\n",
              "      <td>176.480000</td>\n",
              "      <td>NaN</td>\n",
              "      <td>Hyderabad</td>\n",
              "      <td>17.349694</td>\n",
              "      <td>78.451437</td>\n",
              "      <td>Telangana</td>\n",
              "    </tr>\n",
              "  </tbody>\n",
              "</table>\n",
              "<p>1627461 rows × 9 columns</p>\n",
              "</div>"
            ],
            "text/plain": [
              "          Timestamp                           station  PM2.5        PM10  \\\n",
              "0        2017-01-01        32Bungalows, Bhilai - CECB    NaN         NaN   \n",
              "1        2017-01-01              AIIMS, Raipur - CECB    NaN         NaN   \n",
              "2        2017-01-01      Adarsh Nagar, Jaipur - RSPCB    NaN         NaN   \n",
              "3        2017-01-01        Airoli, Navi Mumbai - MPCB    NaN   54.743723   \n",
              "4        2017-01-01        Airport Area, Indore - IMC    NaN         NaN   \n",
              "...             ...                               ...    ...         ...   \n",
              "1627456  2024-12-10              Worli, Mumbai - MPCB  54.71  124.420000   \n",
              "1627457  2024-12-10  Yamunapuram, Bulandshahr - UPPCB  53.23  101.340000   \n",
              "1627458  2024-12-10   Yerramukkapalli, Kadapa - APPCB  75.00  110.750000   \n",
              "1627459  2024-12-10  Zero Point GICI, Gangtok - SSPCB    NaN         NaN   \n",
              "1627460  2024-12-10       Zoo Park, Hyderabad - TSPCB  72.83  176.480000   \n",
              "\n",
              "                                                   address         city  \\\n",
              "0        Bhilai RO Office, 5, 32 Bungalows, Bhilai, Dis...       Bhilai   \n",
              "1        All India Institute Of Medical Science, Gate N...       Raipur   \n",
              "2        Psychiatric Centre, Janta Colony, Govind Marg,...       Jaipur   \n",
              "3                                                      NaN  Navi Mumbai   \n",
              "4                                                      NaN          NaN   \n",
              "...                                                    ...          ...   \n",
              "1627456  89-B, NEERI Building, Dr. Annie Besant Road, W...       Mumbai   \n",
              "1627457  F-5, Yamunapuram, Bulandshahr, Near MMR Mall (...  Bulandshahr   \n",
              "1627458  Municipal Corporation Office Complex, Railway ...       Kadapa   \n",
              "1627459  Near State PWD Office, Zero Point, Gangtok, Si...      Gangtok   \n",
              "1627460                                                NaN    Hyderabad   \n",
              "\n",
              "          latitude  longitude           state  \n",
              "0        21.194815  81.314770    Chhattisgarh  \n",
              "1        21.258815  81.578979    Chhattisgarh  \n",
              "2        26.902909  75.836858       Rajasthan  \n",
              "3        19.149400  72.998600     Maharashtra  \n",
              "4              NaN        NaN             NaN  \n",
              "...            ...        ...             ...  \n",
              "1627456  18.993616  72.812811     Maharashtra  \n",
              "1627457  28.406963  77.849831   Uttar Pradesh  \n",
              "1627458  14.465052  78.824187  Andhra Pradesh  \n",
              "1627459  27.338530  88.614099          Sikkim  \n",
              "1627460  17.349694  78.451437       Telangana  \n",
              "\n",
              "[1627461 rows x 9 columns]"
            ]
          },
          "execution_count": 87,
          "metadata": {},
          "output_type": "execute_result"
        }
      ],
      "source": [
        "file=open(r\"C:\\Users\\Ishaan\\Desktop\\DataSet\\Data.csv\")\n",
        "data=pd.read_csv(file)\n",
        "states=np.sort(data[\"state\"].unique().astype(str))\n",
        "stations=np.sort(data[\"station\"].unique().astype(str))\n",
        "Date=pd.to_datetime(data[\"Timestamp\"])\n",
        "data"
      ]
    },
    {
      "cell_type": "markdown",
      "metadata": {
        "id": "wjUVQ_kBUXrT"
      },
      "source": [
        "# Spatial Aggregation"
      ]
    },
    {
      "cell_type": "code",
      "execution_count": null,
      "metadata": {
        "id": "20N6sCZnUXrT",
        "outputId": "d0e620c3-7ea8-41c6-bb0e-f4daba0f947e"
      },
      "outputs": [
        {
          "data": {
            "text/plain": [
              "'Delhi'"
            ]
          },
          "execution_count": 83,
          "metadata": {},
          "output_type": "execute_result"
        }
      ],
      "source": [
        "maxIdx=data.groupby(\"state\")[\"PM2.5\"].mean().argmax()\n",
        "\n",
        "str(states[maxIdx])"
      ]
    },
    {
      "cell_type": "code",
      "execution_count": null,
      "metadata": {
        "id": "NqpTQdPQUXrU",
        "outputId": "520391a0-5d83-43d7-9ce0-066641346595"
      },
      "outputs": [
        {
          "data": {
            "text/plain": [
              "'Bihar'"
            ]
          },
          "execution_count": 84,
          "metadata": {},
          "output_type": "execute_result"
        }
      ],
      "source": [
        "mask=Date.dt.year==2023\n",
        "mask2=data[mask][\"PM2.5\"]>300\n",
        "\n",
        "maxIdx=data[mask&mask2].groupby(\"state\")[\"PM2.5\"].count().argmax()\n",
        "str(states[maxIdx])"
      ]
    },
    {
      "cell_type": "code",
      "execution_count": null,
      "metadata": {
        "id": "uIfbCDi5UXrU",
        "outputId": "f2248f9a-7ee3-4d8d-84af-477334db636e"
      },
      "outputs": [
        {
          "data": {
            "text/plain": [
              "'Delhi'"
            ]
          },
          "execution_count": 85,
          "metadata": {},
          "output_type": "execute_result"
        }
      ],
      "source": [
        "maxIdx=data.groupby(\"state\")[\"PM2.5\"].std().argmax()\n",
        "str(states[maxIdx])"
      ]
    },
    {
      "cell_type": "code",
      "execution_count": null,
      "metadata": {
        "id": "FFCdvHhIUXrU",
        "outputId": "f0a09bca-3c67-4c65-95e0-87f1131c27f6"
      },
      "outputs": [
        {
          "data": {
            "text/plain": [
              "'Mizoram'"
            ]
          },
          "execution_count": 86,
          "metadata": {},
          "output_type": "execute_result"
        }
      ],
      "source": [
        "mask=np.array(Date.dt.year==2021 )|np.array(Date.dt.year==2020)\n",
        "minArg=data[mask].groupby(\"state\")[\"PM2.5\"].mean().argmin()\n",
        "str(states[minArg])"
      ]
    },
    {
      "cell_type": "markdown",
      "metadata": {
        "id": "AykNoYOZUXrV"
      },
      "source": [
        "# Temporal Agggregation"
      ]
    },
    {
      "cell_type": "code",
      "execution_count": null,
      "metadata": {
        "id": "eUoTITBxUXrV",
        "outputId": "849a2161-ed83-4076-d38f-c600b3b00e11"
      },
      "outputs": [
        {
          "name": "stderr",
          "output_type": "stream",
          "text": [
            "C:\\Users\\Ishaan\\AppData\\Local\\Temp\\ipykernel_50796\\1690686596.py:3: SettingWithCopyWarning: \n",
            "A value is trying to be set on a copy of a slice from a DataFrame.\n",
            "Try using .loc[row_indexer,col_indexer] = value instead\n",
            "\n",
            "See the caveats in the documentation: https://pandas.pydata.org/pandas-docs/stable/user_guide/indexing.html#returning-a-view-versus-a-copy\n",
            "  data[mask][naMask]=0\n"
          ]
        },
        {
          "data": {
            "text/plain": [
              "np.float64(nan)"
            ]
          },
          "execution_count": 102,
          "metadata": {},
          "output_type": "execute_result"
        }
      ],
      "source": [
        "mask= np.array(Date.dt.month==8) & np.array(Date.dt.year==2020)\n",
        "naMask=data[mask][\"PM2.5\"].isna()\n",
        "data[mask][naMask]=0\n",
        "maxArg=data[mask][\"PM2.5\"].argmax()\n",
        "data[\"PM2.5\"][maxArg]"
      ]
    }
  ],
  "metadata": {
    "kernelspec": {
      "display_name": "Python 3",
      "language": "python",
      "name": "python3"
    },
    "language_info": {
      "codemirror_mode": {
        "name": "ipython",
        "version": 3
      },
      "file_extension": ".py",
      "mimetype": "text/x-python",
      "name": "python",
      "nbconvert_exporter": "python",
      "pygments_lexer": "ipython3",
      "version": "3.12.5"
    },
    "colab": {
      "provenance": []
    }
  },
  "nbformat": 4,
  "nbformat_minor": 0
}