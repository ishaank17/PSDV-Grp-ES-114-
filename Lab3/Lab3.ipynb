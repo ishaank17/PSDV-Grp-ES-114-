{
  "cells": [
    {
      "cell_type": "code",
      "execution_count": 1,
      "metadata": {
        "id": "agGYJpXZUXrP"
      },
      "outputs": [],
      "source": [
        "import matplotlib.pyplot as plt\n",
        "import seaborn as sns\n",
        "import pandas as pd\n",
        "import scipy as sc\n",
        "import numpy as np\n",
        "#smth"
      ]
    },
    {
      "cell_type": "code",
      "execution_count": 2,
      "metadata": {
        "id": "Q7707-extQDI"
      },
      "outputs": [
        {
          "name": "stdout",
          "output_type": "stream",
          "text": [
            "                State  Population  Area (km2)       density\n",
            "0       Uttar Pradesh   199812341      240928    829.344622\n",
            "1         Maharashtra   112374333      307713    365.192023\n",
            "2               Bihar   104099452       94163   1105.523953\n",
            "3         West Bengal    91276115       88752   1028.440091\n",
            "4      Madhya Pradesh    72626809      308252    235.608557\n",
            "5          Tamil Nadu    72147030      130058    554.729659\n",
            "6           Rajasthan    68548437      342239    200.294055\n",
            "7           Karnataka    61095297      191791    318.551428\n",
            "8             Gujarat    60439692      196024    308.328021\n",
            "9      Andhra Pradesh    49577103      162975    304.200663\n",
            "10             Odisha    41974219      155707    269.571818\n",
            "11          Telangana    35003674      112077    312.318085\n",
            "12             Kerala    33406061       38863    859.585235\n",
            "13          Jharkhand    32988134       79716    413.820739\n",
            "14              Assam    31205576       78438    397.837477\n",
            "15             Punjab    27743338       50362    550.878400\n",
            "16       Chhattisgarh    25545198      135192    188.954953\n",
            "17              Delhi    16787941        1484  11312.628706\n",
            "18            Haryana    25351462       44212    573.406813\n",
            "19  Jammu and Kashmir    12267032       42241    290.405814\n",
            "20        Uttarakhand    10086292       53483    188.588748\n",
            "21   Himachal Pradesh     6864602       55673    123.302175\n",
            "22            Tripura     3673917       10491    350.197026\n",
            "23            Manipur     2570390       22327    115.124737\n",
            "24          Meghalaya     2966889       22429    132.279148\n",
            "25           Nagaland     1978502       16579    119.337837\n",
            "26  Arunachal Pradesh     1383727       83743     16.523495\n",
            "27         Puducherry     1247953         479   2605.329854\n",
            "28            Mizoram     1097206       21081     52.047151\n",
            "29         Chandigarh     1055450         114   9258.333333\n",
            "30             Sikkim      610577        7096     86.045237\n"
          ]
        },
        {
          "data": {
            "text/html": [
              "<div>\n",
              "<style scoped>\n",
              "    .dataframe tbody tr th:only-of-type {\n",
              "        vertical-align: middle;\n",
              "    }\n",
              "\n",
              "    .dataframe tbody tr th {\n",
              "        vertical-align: top;\n",
              "    }\n",
              "\n",
              "    .dataframe thead th {\n",
              "        text-align: right;\n",
              "    }\n",
              "</style>\n",
              "<table border=\"1\" class=\"dataframe\">\n",
              "  <thead>\n",
              "    <tr style=\"text-align: right;\">\n",
              "      <th></th>\n",
              "      <th>Timestamp</th>\n",
              "      <th>station</th>\n",
              "      <th>PM2.5</th>\n",
              "      <th>PM10</th>\n",
              "      <th>address</th>\n",
              "      <th>city</th>\n",
              "      <th>latitude</th>\n",
              "      <th>longitude</th>\n",
              "      <th>state</th>\n",
              "      <th>seasons</th>\n",
              "      <th>weekday</th>\n",
              "      <th>month</th>\n",
              "    </tr>\n",
              "  </thead>\n",
              "  <tbody>\n",
              "    <tr>\n",
              "      <th>0</th>\n",
              "      <td>2017-01-01</td>\n",
              "      <td>32Bungalows, Bhilai - CECB</td>\n",
              "      <td>NaN</td>\n",
              "      <td>NaN</td>\n",
              "      <td>Bhilai RO Office, 5, 32 Bungalows, Bhilai, Dis...</td>\n",
              "      <td>Bhilai</td>\n",
              "      <td>21.194815</td>\n",
              "      <td>81.314770</td>\n",
              "      <td>Chhattisgarh</td>\n",
              "      <td>Winter</td>\n",
              "      <td>Weekend</td>\n",
              "      <td>January</td>\n",
              "    </tr>\n",
              "    <tr>\n",
              "      <th>1</th>\n",
              "      <td>2017-01-01</td>\n",
              "      <td>AIIMS, Raipur - CECB</td>\n",
              "      <td>NaN</td>\n",
              "      <td>NaN</td>\n",
              "      <td>All India Institute Of Medical Science, Gate N...</td>\n",
              "      <td>Raipur</td>\n",
              "      <td>21.258815</td>\n",
              "      <td>81.578979</td>\n",
              "      <td>Chhattisgarh</td>\n",
              "      <td>Winter</td>\n",
              "      <td>Weekend</td>\n",
              "      <td>January</td>\n",
              "    </tr>\n",
              "    <tr>\n",
              "      <th>2</th>\n",
              "      <td>2017-01-01</td>\n",
              "      <td>Adarsh Nagar, Jaipur - RSPCB</td>\n",
              "      <td>NaN</td>\n",
              "      <td>NaN</td>\n",
              "      <td>Psychiatric Centre, Janta Colony, Govind Marg,...</td>\n",
              "      <td>Jaipur</td>\n",
              "      <td>26.902909</td>\n",
              "      <td>75.836858</td>\n",
              "      <td>Rajasthan</td>\n",
              "      <td>Winter</td>\n",
              "      <td>Weekend</td>\n",
              "      <td>January</td>\n",
              "    </tr>\n",
              "    <tr>\n",
              "      <th>3</th>\n",
              "      <td>2017-01-01</td>\n",
              "      <td>Airoli, Navi Mumbai - MPCB</td>\n",
              "      <td>NaN</td>\n",
              "      <td>54.743723</td>\n",
              "      <td>NaN</td>\n",
              "      <td>Navi Mumbai</td>\n",
              "      <td>19.149400</td>\n",
              "      <td>72.998600</td>\n",
              "      <td>Maharashtra</td>\n",
              "      <td>Winter</td>\n",
              "      <td>Weekend</td>\n",
              "      <td>January</td>\n",
              "    </tr>\n",
              "    <tr>\n",
              "      <th>4</th>\n",
              "      <td>2017-01-01</td>\n",
              "      <td>Airport Area, Indore - IMC</td>\n",
              "      <td>NaN</td>\n",
              "      <td>NaN</td>\n",
              "      <td>NaN</td>\n",
              "      <td>NaN</td>\n",
              "      <td>NaN</td>\n",
              "      <td>NaN</td>\n",
              "      <td>NaN</td>\n",
              "      <td>Winter</td>\n",
              "      <td>Weekend</td>\n",
              "      <td>January</td>\n",
              "    </tr>\n",
              "    <tr>\n",
              "      <th>...</th>\n",
              "      <td>...</td>\n",
              "      <td>...</td>\n",
              "      <td>...</td>\n",
              "      <td>...</td>\n",
              "      <td>...</td>\n",
              "      <td>...</td>\n",
              "      <td>...</td>\n",
              "      <td>...</td>\n",
              "      <td>...</td>\n",
              "      <td>...</td>\n",
              "      <td>...</td>\n",
              "      <td>...</td>\n",
              "    </tr>\n",
              "    <tr>\n",
              "      <th>1627456</th>\n",
              "      <td>2024-12-10</td>\n",
              "      <td>Worli, Mumbai - MPCB</td>\n",
              "      <td>54.71</td>\n",
              "      <td>124.420000</td>\n",
              "      <td>89-B, NEERI Building, Dr. Annie Besant Road, W...</td>\n",
              "      <td>Mumbai</td>\n",
              "      <td>18.993616</td>\n",
              "      <td>72.812811</td>\n",
              "      <td>Maharashtra</td>\n",
              "      <td>Winter</td>\n",
              "      <td>Week Day</td>\n",
              "      <td>December</td>\n",
              "    </tr>\n",
              "    <tr>\n",
              "      <th>1627457</th>\n",
              "      <td>2024-12-10</td>\n",
              "      <td>Yamunapuram, Bulandshahr - UPPCB</td>\n",
              "      <td>53.23</td>\n",
              "      <td>101.340000</td>\n",
              "      <td>F-5, Yamunapuram, Bulandshahr, Near MMR Mall (...</td>\n",
              "      <td>Bulandshahr</td>\n",
              "      <td>28.406963</td>\n",
              "      <td>77.849831</td>\n",
              "      <td>Uttar Pradesh</td>\n",
              "      <td>Winter</td>\n",
              "      <td>Week Day</td>\n",
              "      <td>December</td>\n",
              "    </tr>\n",
              "    <tr>\n",
              "      <th>1627458</th>\n",
              "      <td>2024-12-10</td>\n",
              "      <td>Yerramukkapalli, Kadapa - APPCB</td>\n",
              "      <td>75.00</td>\n",
              "      <td>110.750000</td>\n",
              "      <td>Municipal Corporation Office Complex, Railway ...</td>\n",
              "      <td>Kadapa</td>\n",
              "      <td>14.465052</td>\n",
              "      <td>78.824187</td>\n",
              "      <td>Andhra Pradesh</td>\n",
              "      <td>Winter</td>\n",
              "      <td>Week Day</td>\n",
              "      <td>December</td>\n",
              "    </tr>\n",
              "    <tr>\n",
              "      <th>1627459</th>\n",
              "      <td>2024-12-10</td>\n",
              "      <td>Zero Point GICI, Gangtok - SSPCB</td>\n",
              "      <td>NaN</td>\n",
              "      <td>NaN</td>\n",
              "      <td>Near State PWD Office, Zero Point, Gangtok, Si...</td>\n",
              "      <td>Gangtok</td>\n",
              "      <td>27.338530</td>\n",
              "      <td>88.614099</td>\n",
              "      <td>Sikkim</td>\n",
              "      <td>Winter</td>\n",
              "      <td>Week Day</td>\n",
              "      <td>December</td>\n",
              "    </tr>\n",
              "    <tr>\n",
              "      <th>1627460</th>\n",
              "      <td>2024-12-10</td>\n",
              "      <td>Zoo Park, Hyderabad - TSPCB</td>\n",
              "      <td>72.83</td>\n",
              "      <td>176.480000</td>\n",
              "      <td>NaN</td>\n",
              "      <td>Hyderabad</td>\n",
              "      <td>17.349694</td>\n",
              "      <td>78.451437</td>\n",
              "      <td>Telangana</td>\n",
              "      <td>Winter</td>\n",
              "      <td>Week Day</td>\n",
              "      <td>December</td>\n",
              "    </tr>\n",
              "  </tbody>\n",
              "</table>\n",
              "<p>1627461 rows × 12 columns</p>\n",
              "</div>"
            ],
            "text/plain": [
              "         Timestamp                           station  PM2.5        PM10  \\\n",
              "0       2017-01-01        32Bungalows, Bhilai - CECB    NaN         NaN   \n",
              "1       2017-01-01              AIIMS, Raipur - CECB    NaN         NaN   \n",
              "2       2017-01-01      Adarsh Nagar, Jaipur - RSPCB    NaN         NaN   \n",
              "3       2017-01-01        Airoli, Navi Mumbai - MPCB    NaN   54.743723   \n",
              "4       2017-01-01        Airport Area, Indore - IMC    NaN         NaN   \n",
              "...            ...                               ...    ...         ...   \n",
              "1627456 2024-12-10              Worli, Mumbai - MPCB  54.71  124.420000   \n",
              "1627457 2024-12-10  Yamunapuram, Bulandshahr - UPPCB  53.23  101.340000   \n",
              "1627458 2024-12-10   Yerramukkapalli, Kadapa - APPCB  75.00  110.750000   \n",
              "1627459 2024-12-10  Zero Point GICI, Gangtok - SSPCB    NaN         NaN   \n",
              "1627460 2024-12-10       Zoo Park, Hyderabad - TSPCB  72.83  176.480000   \n",
              "\n",
              "                                                   address         city  \\\n",
              "0        Bhilai RO Office, 5, 32 Bungalows, Bhilai, Dis...       Bhilai   \n",
              "1        All India Institute Of Medical Science, Gate N...       Raipur   \n",
              "2        Psychiatric Centre, Janta Colony, Govind Marg,...       Jaipur   \n",
              "3                                                      NaN  Navi Mumbai   \n",
              "4                                                      NaN          NaN   \n",
              "...                                                    ...          ...   \n",
              "1627456  89-B, NEERI Building, Dr. Annie Besant Road, W...       Mumbai   \n",
              "1627457  F-5, Yamunapuram, Bulandshahr, Near MMR Mall (...  Bulandshahr   \n",
              "1627458  Municipal Corporation Office Complex, Railway ...       Kadapa   \n",
              "1627459  Near State PWD Office, Zero Point, Gangtok, Si...      Gangtok   \n",
              "1627460                                                NaN    Hyderabad   \n",
              "\n",
              "          latitude  longitude           state seasons   weekday     month  \n",
              "0        21.194815  81.314770    Chhattisgarh  Winter   Weekend   January  \n",
              "1        21.258815  81.578979    Chhattisgarh  Winter   Weekend   January  \n",
              "2        26.902909  75.836858       Rajasthan  Winter   Weekend   January  \n",
              "3        19.149400  72.998600     Maharashtra  Winter   Weekend   January  \n",
              "4              NaN        NaN             NaN  Winter   Weekend   January  \n",
              "...            ...        ...             ...     ...       ...       ...  \n",
              "1627456  18.993616  72.812811     Maharashtra  Winter  Week Day  December  \n",
              "1627457  28.406963  77.849831   Uttar Pradesh  Winter  Week Day  December  \n",
              "1627458  14.465052  78.824187  Andhra Pradesh  Winter  Week Day  December  \n",
              "1627459  27.338530  88.614099          Sikkim  Winter  Week Day  December  \n",
              "1627460  17.349694  78.451437       Telangana  Winter  Week Day  December  \n",
              "\n",
              "[1627461 rows x 12 columns]"
            ]
          },
          "execution_count": 2,
          "metadata": {},
          "output_type": "execute_result"
        }
      ],
      "source": [
        "# data = pd.read_csv(r\"C:\\Users\\Ishaan\\Desktop\\DataSet\\Data.csv\")\n",
        "# pop_data = pd.read_csv(r\"C:\\Users\\Ishaan\\Desktop\\DataSet\\State_data.csv\")\n",
        "# ncap=pd.read_csv(r\"C:\\Users\\Ishaan\\Desktop\\DataSet\\NCAP_Funding.csv\")\n",
        "\n",
        "data = pd.read_csv(r\"C:\\Users\\phataks\\Downloads\\drive-download-20250213T140207Z-001\\Data.csv\")\n",
        "pop_data = pd.read_csv(r\"C:\\Users\\phataks\\Downloads\\drive-download-20250213T140207Z-001\\State_data.csv\")\n",
        "ncap=pd.read_csv(r\"C:\\Users\\phataks\\Downloads\\drive-download-20250213T140207Z-001\\NCAP_Funding.csv\")\n",
        "\n",
        "szn_grp = {\n",
        "    12: 'Winter', 1: 'Winter', 2: 'Winter',\n",
        "    3: 'Summer', 4: 'Summer', 5: 'Summer',\n",
        "    6: 'Monsoon', 7: 'Monsoon', 8: 'Monsoon', 9: 'Monsoon',\n",
        "    # 10: 'other', 11: 'other'\n",
        "}\n",
        "\n",
        "month_grp = {\n",
        "     1: 'January', 2: 'February',\n",
        "    3: 'March', 4: 'April', 5: 'May',\n",
        "    6: 'June', 7: 'July', 8: 'August', 9: 'September',\n",
        "    10: 'October', 11: 'November',12: 'December'\n",
        "}\n",
        "\n",
        "day_grp={\n",
        "    0: \"Week Day\",2: \"Week Day\",3: \"Week Day\",4: \"Week Day\",1 : \"Week Day\",\n",
        "    5: \"Weekend\" , 6: \"Weekend\"\n",
        "    #0-mon 6-sun\n",
        "}\n",
        "\n",
        "data['Timestamp']=pd.to_datetime(data['Timestamp'])\n",
        "data['seasons'] = data['Timestamp'].dt.month.map(szn_grp)\n",
        "data['weekday'] = data['Timestamp'].dt.day_of_week.map(day_grp)\n",
        "data['month'] = data['Timestamp'].dt.month.map(month_grp)\n",
        "\n",
        "states=np.sort(data[\"state\"].unique().astype(str))\n",
        "stations=np.sort(data[\"station\"].unique().astype(str))\n",
        "Date=pd.to_datetime(data[\"Timestamp\"])\n",
        "\n",
        "pop_data.eval(\"density = Population / `Area (km2)` \", inplace=True)\n",
        "\n",
        "data_copy = data #copy of the data for later use if required\n",
        "print(pop_data)  \n",
        "data"
      ]
    },
    {
      "cell_type": "markdown",
      "metadata": {
        "id": "wjUVQ_kBUXrT"
      },
      "source": [
        "# **Spatial Aggregation**"
      ]
    },
    {
      "cell_type": "code",
      "execution_count": 3,
      "metadata": {
        "colab": {
          "base_uri": "https://localhost:8080/",
          "height": 36
        },
        "id": "20N6sCZnUXrT",
        "outputId": "649a462f-6127-4039-a94d-871fa9fcbb89"
      },
      "outputs": [
        {
          "data": {
            "text/plain": [
              "'Delhi'"
            ]
          },
          "execution_count": 3,
          "metadata": {},
          "output_type": "execute_result"
        }
      ],
      "source": [
        "maxIdx=data.groupby(\"state\")[\"PM2.5\"].mean().argmax()\n",
        "str(states[maxIdx])"
      ]
    },
    {
      "cell_type": "code",
      "execution_count": 4,
      "metadata": {
        "colab": {
          "base_uri": "https://localhost:8080/",
          "height": 36
        },
        "id": "NqpTQdPQUXrU",
        "outputId": "d8a219fc-87fc-4bff-a4c4-37da5ad6a7c6"
      },
      "outputs": [
        {
          "data": {
            "text/plain": [
              "'Delhi'"
            ]
          },
          "execution_count": 4,
          "metadata": {},
          "output_type": "execute_result"
        }
      ],
      "source": [
        "mask=Date.dt.year==2023\n",
        "mask2=data[mask][\"PM2.5\"]>300\n",
        "\n",
        "\n",
        "pmStates=np.sort(data[mask][mask2][\"state\"].unique().astype(str))\n",
        "maxIdx=data[mask&mask2].groupby(\"state\")[\"PM2.5\"].count().argmax()\n",
        "str(pmStates[maxIdx])"
      ]
    },
    {
      "cell_type": "code",
      "execution_count": 5,
      "metadata": {
        "colab": {
          "base_uri": "https://localhost:8080/",
          "height": 36
        },
        "id": "uIfbCDi5UXrU",
        "outputId": "febb8539-c55c-42f4-bea5-9167ee2b7faf"
      },
      "outputs": [
        {
          "data": {
            "text/plain": [
              "'Delhi'"
            ]
          },
          "execution_count": 5,
          "metadata": {},
          "output_type": "execute_result"
        }
      ],
      "source": [
        "maxIdx=data.groupby(\"state\")[\"PM2.5\"].std().argmax()\n",
        "str(states[maxIdx])"
      ]
    },
    {
      "cell_type": "code",
      "execution_count": 6,
      "metadata": {
        "colab": {
          "base_uri": "https://localhost:8080/",
          "height": 36
        },
        "id": "FFCdvHhIUXrU",
        "outputId": "8edd4e6a-3cf7-4509-e9fd-f53ee467f8c0"
      },
      "outputs": [
        {
          "data": {
            "text/plain": [
              "state\n",
              "Andhra Pradesh        31.861788\n",
              "Arunachal Pradesh     14.751325\n",
              "Assam                 61.463611\n",
              "Bihar                 75.120788\n",
              "Chandigarh            39.586587\n",
              "Chhattisgarh          24.863968\n",
              "Delhi                100.613293\n",
              "Gujarat               49.954478\n",
              "Haryana               71.858425\n",
              "Himachal Pradesh            NaN\n",
              "Jammu and Kashmir     31.909474\n",
              "Jharkhand             57.042476\n",
              "Karnataka             27.604270\n",
              "Kerala                26.407500\n",
              "Madhya Pradesh        44.957182\n",
              "Maharashtra           44.668592\n",
              "Manipur                     NaN\n",
              "Meghalaya             16.579606\n",
              "Mizoram               14.323350\n",
              "Nagaland              32.389944\n",
              "Odisha                46.927677\n",
              "Puducherry            20.198304\n",
              "Punjab                49.561781\n",
              "Rajasthan             56.182164\n",
              "Sikkim                      NaN\n",
              "Tamil Nadu            29.679225\n",
              "Telangana             37.936372\n",
              "Tripura               50.124667\n",
              "Uttar Pradesh         87.086041\n",
              "Uttarakhand                 NaN\n",
              "West Bengal           55.807568\n",
              "Name: PM2.5, dtype: float64"
            ]
          },
          "execution_count": 6,
          "metadata": {},
          "output_type": "execute_result"
        }
      ],
      "source": [
        "mask=np.array(Date.dt.year==2021 )|np.array(Date.dt.year==2020)\n",
        "minArg=data[mask].groupby(\"state\")[\"PM2.5\"].mean().argmin()\n",
        "str(states[minArg])\n",
        "data[mask].groupby(\"state\")[\"PM2.5\"].mean()"
      ]
    },
    {
      "cell_type": "markdown",
      "metadata": {
        "id": "AykNoYOZUXrV"
      },
      "source": [
        " # **Temporal Agggregation**"
      ]
    },
    {
      "cell_type": "code",
      "execution_count": 7,
      "metadata": {
        "colab": {
          "base_uri": "https://localhost:8080/"
        },
        "id": "eUoTITBxUXrV",
        "outputId": "4bd2d906-0924-4024-e7c8-0f932ce3ac3f"
      },
      "outputs": [
        {
          "data": {
            "text/plain": [
              "'Lal Bahadur Shastri Nagar, Kalaburagi - KSPCB'"
            ]
          },
          "execution_count": 7,
          "metadata": {},
          "output_type": "execute_result"
        }
      ],
      "source": [
        "mask= np.array(Date.dt.month==8) & np.array(Date.dt.year==2020)\n",
        "maxArg=data.loc[mask,\"PM2.5\"].argmax()\n",
        "data.loc[mask,\"station\"].iloc[maxArg]"
      ]
    },
    {
      "cell_type": "code",
      "execution_count": 8,
      "metadata": {},
      "outputs": [
        {
          "data": {
            "text/plain": [
              "'Winter'"
            ]
          },
          "execution_count": 8,
          "metadata": {},
          "output_type": "execute_result"
        }
      ],
      "source": [
        "mask=np.array(Date.dt.year==2018)\n",
        "\n",
        "lalData=data[mask].query(\"station=='Lal Bahadur Shastri Nagar, Kalaburagi - KSPCB' \")\n",
        "\n",
        "maxArg=lalData.groupby(\"seasons\")[\"PM2.5\"].mean().argmax()\n",
        "\n",
        "            \n",
        "lalData[\"seasons\"].sort_values().unique()[maxArg] #,lalData.loc[:,[\"seasons\",\"PM2.5\"]].query(\"seasons == 'Summer'\")\n"
      ]
    },
    {
      "cell_type": "code",
      "execution_count": 9,
      "metadata": {},
      "outputs": [
        {
          "data": {
            "image/png": "[encoded data removed]",
            "text/plain": [
              "<Figure size 640x480 with 1 Axes>"
            ]
          },
          "metadata": {},
          "output_type": "display_data"
        }
      ],
      "source": [
        "# Compare the average PM2.5 levels during weekends and weekdays for the station Lal Bahadur Shastri Nagar, Kalaburagi -KSPCB over the year 2021. Create a plot to show these\n",
        "# trends \n",
        "# Steps:\n",
        "# Calculate the monthly average PM2.5 for weekdays and weekends separately\n",
        "# X-axis: Months (January to December).\n",
        "# Y-axis: Average PM2.5 levels.\n",
        "# Use two lines: one for the monthly average PM2.5 levels on weekdays and one for weekends.\n",
        "mask=np.array(Date.dt.year==2021)\n",
        "lalData=data[mask].query(\"station=='Lal Bahadur Shastri Nagar, Kalaburagi - KSPCB' \")\n",
        "\n",
        "weekEndAvg=[]\n",
        "weekDayAvg=[]\n",
        "for monthNum  in month_grp:\n",
        "    monthWeekendMask=(lalData[\"Timestamp\"].dt.month==monthNum) & (lalData[\"weekday\"]== \"Weekend\")\n",
        "    weekEndAvg.append(lalData[\"PM2.5\"][monthWeekendMask].mean())\n",
        "    weekDayAvg.append(lalData[\"PM2.5\"][~monthWeekendMask].mean())\n",
        "\n",
        "plt.plot(month_grp.values(),weekDayAvg,label=\"Week Day\")\n",
        "plt.plot(month_grp.values(),weekEndAvg,label=\"Week End\")\n",
        "plt.xticks(rotation=45)\n",
        "plt.legend()\n",
        "plt.show()\n",
        "# lalData.groupby(\"month\")[\"PM2.5\"].mean()"
      ]
    },
    {
      "cell_type": "markdown",
      "metadata": {
        "id": "SeNnBFtejoeY"
      },
      "source": [
        "# **Spatio-temporal aggregation [3 marks]**\n",
        "\n",
        "1) For each state, calculate the percentage increase or decrease in PM2.5 levels during monsoon months (June to September) compared to summer months (March to May). Which state has the most difference (increase or decrease) for the year 2022?\n",
        "\n",
        "2) Plot the average PM2.5 levels for Delhi across each season (Winter: December-February, Summer: March-May, Monsoon: June-September) from 2017 to 2023. What seasonal variation, if any, can you observe in pollution levels?\n",
        "\n",
        "3) Plot a time-series graph comparing Delhi’s PM2.5 levels with Mumbai’s from 2015 to 2023. Which city had more fluctuations? (Hint: Think what fluctuation means)\n"
      ]
    },
    {
      "cell_type": "code",
      "execution_count": 10,
      "metadata": {
        "colab": {
          "base_uri": "https://localhost:8080/"
        },
        "id": "0Xxsozsvj7Tl",
        "outputId": "eba70174-4dce-4f12-b1e3-6b70592d1e68"
      },
      "outputs": [
        {
          "name": "stdout",
          "output_type": "stream",
          "text": [
            "The state with the maximum change is, Assam : 61.17641855538734\n"
          ]
        }
      ],
      "source": [
        "# Q)1\n",
        "\n",
        "filtered_data = data[data['Timestamp'].dt.year == 2022]\n",
        "\n",
        "grouped = filtered_data.groupby(['seasons', 'state'])['PM2.5'].mean()\n",
        "per = ( grouped['Monsoon'] - grouped['Summer'] )*100/ grouped['Summer']\n",
        "print(f\"The state with the maximum change is, {per.abs().idxmax()} : {per.abs().max()}\")\n"
      ]
    },
    {
      "cell_type": "code",
      "execution_count": 14,
      "metadata": {
        "colab": {
          "base_uri": "https://localhost:8080/",
          "height": 1000
        },
        "id": "3g5A8LgiPTAB",
        "outputId": "025fce2c-db4b-4553-8bb0-62a5878c7a9f"
      },
      "outputs": [],
      "source": [
        "# # '''2) Plot the average PM2.5 levels for Delhi across each season (Winter: December-February,\n",
        "# #  Summer: March-May, Monsoon: June-September)\n",
        "# #  from 2017 to 2023. What seasonal variation, if any, can you observe in pollution levels?'''\n",
        "\n",
        "delhi_data = data[data['city'] == 'Delhi']\n",
        "\n",
        "\n",
        "# delhi_seas = delhi_data.copy()\n",
        "# delhi_seas['seasons'] = delhi_seas['Timestamp'].dt.month.map(month_grp)\n",
        "\n",
        "# delhi_seas['Year'] = delhi_seas['Timestamp'].dt.year\n",
        "# delhi_seas.loc[delhi_seas['Timestamp'].dt.month == 12, 'Year'] += 1\n",
        "\n",
        "# delhi_yr = []\n",
        "# for i in range(2017, 2024):\n",
        "#     yearly_data = delhi_seas[delhi_seas['Year'] == i]\n",
        "#     delhi_yr.append(yearly_data)\n",
        "\n",
        "# for i, df in enumerate(delhi_yr):\n",
        "#     if df.empty: continue\n",
        "\n",
        "#     seasonal_avg = df.groupby('seasons')['PM2.5'].mean().reset_index()\n",
        "\n",
        "#     plt.figure(figsize=(8,6))\n",
        "#     sns.barplot(\n",
        "#         x='seasons',\n",
        "#         y='PM2.5',\n",
        "#         data=seasonal_avg,\n",
        "#         order=['Winter', 'Summer', 'Monsoon'],\n",
        "#         palette='viridis'\n",
        "#     )\n",
        "#     plt.title(f\"Seasonal PM2.5 Levels (Year {df['Timestamp'].dt.year.iloc[1]})\")\n",
        "#     plt.xlabel(\"Seasons\")\n",
        "#     plt.ylabel(\"Average PM2.5 (µg/m³)\")\n",
        "\n",
        "#     for index, row in seasonal_avg.iterrows():\n",
        "#         plt.text(index, row['PM2.5'], f\"{row['PM2.5']:.1f}\",\n",
        "#                 ha='center', va='bottom', fontsize=10)\n",
        "\n",
        "#     plt.show()"
      ]
    },
    {
      "cell_type": "markdown",
      "metadata": {
        "id": "MME31yyQaXKY"
      },
      "source": [
        "It can clearly be seen that across the years 2017 to 2022 that there is higher amount of pollution in winter, followed by summer and least amount of pollution in monsoon."
      ]
    },
    {
      "cell_type": "code",
      "execution_count": 15,
      "metadata": {
        "colab": {
          "base_uri": "https://localhost:8080/",
          "height": 618
        },
        "id": "l50yWOHfmylO",
        "outputId": "6be65c0d-158f-4d8c-ebc9-5daf734d917c"
      },
      "outputs": [
        {
          "data": {
            "image/png": "[encoded data removed]",
            "text/plain": [
              "<Figure size 1200x600 with 1 Axes>"
            ]
          },
          "metadata": {},
          "output_type": "display_data"
        },
        {
          "name": "stdout",
          "output_type": "stream",
          "text": [
            "Mumbai's PM2.5 fluctuation (standard deviation): 40.18\n",
            "Delhi's PM2.5 fluctuation (standard deviation): 84.93\n",
            "Delhi had more fluctuations in PM2.5 levels.\n"
          ]
        }
      ],
      "source": [
        "'''3) Plot a time-series graph comparing Delhi’s PM2.5 levels with Mumbai’s from 2015 to 2023.\n",
        " Which city had more fluctuations? (Hint: Think what fluctuation means)'''\n",
        "mumbai_data = data[data['city'] == 'Mumbai']\n",
        "mum_yr = []\n",
        "del_yr = []\n",
        "for i in range(2015, 2024):\n",
        "  mum_yr.append(mumbai_data[ mumbai_data['Timestamp'].dt.year == i ])\n",
        "  del_yr.append(delhi_data[ delhi_data['Timestamp'].dt.year == i ])\n",
        "\n",
        "mumbai_combined = pd.concat(mum_yr)\n",
        "delhi_combined = pd.concat(del_yr)\n",
        "\n",
        "mumbai_combined['Year'] = mumbai_combined['Timestamp'].dt.year\n",
        "delhi_combined['Year'] = delhi_combined['Timestamp'].dt.year\n",
        "\n",
        "mumbai_avg = mumbai_combined.groupby('Year')['PM2.5'].mean().reset_index()\n",
        "delhi_avg = delhi_combined.groupby('Year')['PM2.5'].mean().reset_index()\n",
        "\n",
        "comparison = pd.merge(mumbai_avg, delhi_avg, on='Year', suffixes=('_Mumbai', '_Delhi'))\n",
        "\n",
        "plt.figure(figsize=(12, 6))\n",
        "comparison_melted = comparison.melt(id_vars='Year', value_vars=['PM2.5_Mumbai', 'PM2.5_Delhi'],\n",
        "                                    var_name='City', value_name='PM2.5')\n",
        "\n",
        "sns.barplot(data=comparison_melted, x='Year', y='PM2.5', hue='City', palette=['#00B0F0', '#FF4B4B'])\n",
        "\n",
        "plt.title('Comparative Barplot of PM2.5 Levels: Delhi vs Mumbai (2015-2023)')\n",
        "plt.xlabel('Year')\n",
        "plt.ylabel('Average PM2.5 (µg/m³)')\n",
        "plt.legend(title='City', labels=['Mumbai', 'Delhi'])\n",
        "plt.grid(axis='y', linestyle='--', alpha=0.7)\n",
        "plt.show()\n",
        "\n",
        "mumbai_std = mumbai_combined['PM2.5'].std()\n",
        "delhi_std = delhi_combined['PM2.5'].std()\n",
        "\n",
        "print(f\"Mumbai's PM2.5 fluctuation (standard deviation): {mumbai_std:.2f}\")\n",
        "print(f\"Delhi's PM2.5 fluctuation (standard deviation): {delhi_std:.2f}\")\n",
        "\n",
        "if mumbai_std > delhi_std:\n",
        "    print(\"Mumbai had more fluctuations in PM2.5 levels.\")\n",
        "else:\n",
        "    print(\"Delhi had more fluctuations in PM2.5 levels.\")\n"
      ]
    },
    {
      "cell_type": "code",
      "execution_count": 16,
      "metadata": {
        "colab": {
          "base_uri": "https://localhost:8080/"
        },
        "id": "8Ebyw9gMqLNF",
        "outputId": "f02cabd2-daab-4ac8-e1f0-abdec52a7777"
      },
      "outputs": [
        {
          "data": {
            "text/plain": [
              "[Empty DataFrame\n",
              " Columns: [Timestamp, station, PM2.5, PM10, address, city, latitude, longitude, state, seasons, weekday, month]\n",
              " Index: [],\n",
              " Empty DataFrame\n",
              " Columns: [Timestamp, station, PM2.5, PM10, address, city, latitude, longitude, state, seasons, weekday, month]\n",
              " Index: [],\n",
              "         Timestamp                               station       PM2.5  \\\n",
              " 28     2017-01-01   Bandra Kurla Complex, Mumbai - IITM         NaN   \n",
              " 29     2017-01-01   Bandra Kurla Complex, Mumbai - MPCB         NaN   \n",
              " 30     2017-01-01                 Bandra, Mumbai - MPCB  118.202604   \n",
              " 49     2017-01-01          Borivali East, Mumbai - IITM         NaN   \n",
              " 50     2017-01-01          Borivali East, Mumbai - MPCB         NaN   \n",
              " ...           ...                                   ...         ...   \n",
              " 204693 2017-12-31  Siddharth Nagar-Worli, Mumbai - IITM         NaN   \n",
              " 204700 2017-12-31                   Sion, Mumbai - MPCB         NaN   \n",
              " 204740 2017-12-31             Vasai West, Mumbai - MPCB         NaN   \n",
              " 204754 2017-12-31        Vile Parle West, Mumbai - MPCB         NaN   \n",
              " 204760 2017-12-31                  Worli, Mumbai - MPCB         NaN   \n",
              " \n",
              "               PM10                                            address    city  \\\n",
              " 28             NaN  System Of Air Quality and Weather Forecasting ...  Mumbai   \n",
              " 29             NaN  BKC Ground, Near Asian Heart Institute, Bandra...  Mumbai   \n",
              " 30      270.919583  CAAQMS Station Govt Polytechnic Mumbai, Near G...  Mumbai   \n",
              " 49             NaN  System Of Air Quality Andweather Forecasting R...  Mumbai   \n",
              " 50             NaN  Maharashtra Pollution Control Board, Near Lion...  Mumbai   \n",
              " ...            ...                                                ...     ...   \n",
              " 204693         NaN  System Of Air Quality Andweather Forecasting R...  Mumbai   \n",
              " 204700         NaN  K J Somaiya Hospital, Sion (E), Mumbai, Mahara...  Mumbai   \n",
              " 204740         NaN  Fire Brigade Station, Vasai Grass Road, Navgha...  Mumbai   \n",
              " 204754         NaN  CAAQMS- Maharashtra Pollution Control Board, U...  Mumbai   \n",
              " 204760         NaN  89-B, NEERI Building, Dr. Annie Besant Road, W...  Mumbai   \n",
              " \n",
              "          latitude  longitude        state seasons  weekday     month  \n",
              " 28      19.053536  72.846430  Maharashtra  Winter  Weekend   January  \n",
              " 29      19.065931  72.862131  Maharashtra  Winter  Weekend   January  \n",
              " 30      19.062700  72.846140  Maharashtra  Winter  Weekend   January  \n",
              " 49      19.232410  72.868950  Maharashtra  Winter  Weekend   January  \n",
              " 50      19.224333  72.865811  Maharashtra  Winter  Weekend   January  \n",
              " ...           ...        ...          ...     ...      ...       ...  \n",
              " 204693  19.000083  72.813993  Maharashtra  Winter  Weekend  December  \n",
              " 204700  19.047000  72.874600  Maharashtra  Winter  Weekend  December  \n",
              " 204740  19.383200  72.820400  Maharashtra  Winter  Weekend  December  \n",
              " 204754  19.108610  72.836220  Maharashtra  Winter  Weekend  December  \n",
              " 204760  18.993616  72.812811  Maharashtra  Winter  Weekend  December  \n",
              " \n",
              " [10950 rows x 12 columns],\n",
              "         Timestamp                               station  PM2.5  PM10  \\\n",
              " 204793 2018-01-01   Bandra Kurla Complex, Mumbai - IITM    NaN   NaN   \n",
              " 204794 2018-01-01   Bandra Kurla Complex, Mumbai - MPCB    NaN   NaN   \n",
              " 204795 2018-01-01                 Bandra, Mumbai - MPCB    NaN   NaN   \n",
              " 204814 2018-01-01          Borivali East, Mumbai - IITM    NaN   NaN   \n",
              " 204815 2018-01-01          Borivali East, Mumbai - MPCB    NaN   NaN   \n",
              " ...           ...                                   ...    ...   ...   \n",
              " 409458 2018-12-31  Siddharth Nagar-Worli, Mumbai - IITM    NaN   NaN   \n",
              " 409465 2018-12-31                   Sion, Mumbai - MPCB    NaN   NaN   \n",
              " 409505 2018-12-31             Vasai West, Mumbai - MPCB    NaN   NaN   \n",
              " 409519 2018-12-31        Vile Parle West, Mumbai - MPCB    NaN   NaN   \n",
              " 409525 2018-12-31                  Worli, Mumbai - MPCB    NaN   NaN   \n",
              " \n",
              "                                                   address    city   latitude  \\\n",
              " 204793  System Of Air Quality and Weather Forecasting ...  Mumbai  19.053536   \n",
              " 204794  BKC Ground, Near Asian Heart Institute, Bandra...  Mumbai  19.065931   \n",
              " 204795  CAAQMS Station Govt Polytechnic Mumbai, Near G...  Mumbai  19.062700   \n",
              " 204814  System Of Air Quality Andweather Forecasting R...  Mumbai  19.232410   \n",
              " 204815  Maharashtra Pollution Control Board, Near Lion...  Mumbai  19.224333   \n",
              " ...                                                   ...     ...        ...   \n",
              " 409458  System Of Air Quality Andweather Forecasting R...  Mumbai  19.000083   \n",
              " 409465  K J Somaiya Hospital, Sion (E), Mumbai, Mahara...  Mumbai  19.047000   \n",
              " 409505  Fire Brigade Station, Vasai Grass Road, Navgha...  Mumbai  19.383200   \n",
              " 409519  CAAQMS- Maharashtra Pollution Control Board, U...  Mumbai  19.108610   \n",
              " 409525  89-B, NEERI Building, Dr. Annie Besant Road, W...  Mumbai  18.993616   \n",
              " \n",
              "         longitude        state seasons   weekday     month  \n",
              " 204793  72.846430  Maharashtra  Winter  Week Day   January  \n",
              " 204794  72.862131  Maharashtra  Winter  Week Day   January  \n",
              " 204795  72.846140  Maharashtra  Winter  Week Day   January  \n",
              " 204814  72.868950  Maharashtra  Winter  Week Day   January  \n",
              " 204815  72.865811  Maharashtra  Winter  Week Day   January  \n",
              " ...           ...          ...     ...       ...       ...  \n",
              " 409458  72.813993  Maharashtra  Winter  Week Day  December  \n",
              " 409465  72.874600  Maharashtra  Winter  Week Day  December  \n",
              " 409505  72.820400  Maharashtra  Winter  Week Day  December  \n",
              " 409519  72.836220  Maharashtra  Winter  Week Day  December  \n",
              " 409525  72.812811  Maharashtra  Winter  Week Day  December  \n",
              " \n",
              " [10950 rows x 12 columns],\n",
              "         Timestamp                               station      PM2.5  \\\n",
              " 409558 2019-01-01   Bandra Kurla Complex, Mumbai - IITM        NaN   \n",
              " 409559 2019-01-01   Bandra Kurla Complex, Mumbai - MPCB        NaN   \n",
              " 409560 2019-01-01                 Bandra, Mumbai - MPCB  79.163437   \n",
              " 409579 2019-01-01          Borivali East, Mumbai - IITM        NaN   \n",
              " 409580 2019-01-01          Borivali East, Mumbai - MPCB        NaN   \n",
              " ...           ...                                   ...        ...   \n",
              " 614223 2019-12-31  Siddharth Nagar-Worli, Mumbai - IITM        NaN   \n",
              " 614230 2019-12-31                   Sion, Mumbai - MPCB  66.397813   \n",
              " 614270 2019-12-31             Vasai West, Mumbai - MPCB  65.559583   \n",
              " 614284 2019-12-31        Vile Parle West, Mumbai - MPCB  68.630769   \n",
              " 614290 2019-12-31                  Worli, Mumbai - MPCB  66.941771   \n",
              " \n",
              "               PM10                                            address    city  \\\n",
              " 409558         NaN  System Of Air Quality and Weather Forecasting ...  Mumbai   \n",
              " 409559         NaN  BKC Ground, Near Asian Heart Institute, Bandra...  Mumbai   \n",
              " 409560  221.147292  CAAQMS Station Govt Polytechnic Mumbai, Near G...  Mumbai   \n",
              " 409579         NaN  System Of Air Quality Andweather Forecasting R...  Mumbai   \n",
              " 409580         NaN  Maharashtra Pollution Control Board, Near Lion...  Mumbai   \n",
              " ...            ...                                                ...     ...   \n",
              " 614223         NaN  System Of Air Quality Andweather Forecasting R...  Mumbai   \n",
              " 614230  161.108750  K J Somaiya Hospital, Sion (E), Mumbai, Mahara...  Mumbai   \n",
              " 614270  117.397826  Fire Brigade Station, Vasai Grass Road, Navgha...  Mumbai   \n",
              " 614284  131.643913  CAAQMS- Maharashtra Pollution Control Board, U...  Mumbai   \n",
              " 614290  113.435319  89-B, NEERI Building, Dr. Annie Besant Road, W...  Mumbai   \n",
              " \n",
              "          latitude  longitude        state seasons   weekday     month  \n",
              " 409558  19.053536  72.846430  Maharashtra  Winter  Week Day   January  \n",
              " 409559  19.065931  72.862131  Maharashtra  Winter  Week Day   January  \n",
              " 409560  19.062700  72.846140  Maharashtra  Winter  Week Day   January  \n",
              " 409579  19.232410  72.868950  Maharashtra  Winter  Week Day   January  \n",
              " 409580  19.224333  72.865811  Maharashtra  Winter  Week Day   January  \n",
              " ...           ...        ...          ...     ...       ...       ...  \n",
              " 614223  19.000083  72.813993  Maharashtra  Winter  Week Day  December  \n",
              " 614230  19.047000  72.874600  Maharashtra  Winter  Week Day  December  \n",
              " 614270  19.383200  72.820400  Maharashtra  Winter  Week Day  December  \n",
              " 614284  19.108610  72.836220  Maharashtra  Winter  Week Day  December  \n",
              " 614290  18.993616  72.812811  Maharashtra  Winter  Week Day  December  \n",
              " \n",
              " [10950 rows x 12 columns],\n",
              "         Timestamp                               station       PM2.5  \\\n",
              " 614323 2020-01-01   Bandra Kurla Complex, Mumbai - IITM         NaN   \n",
              " 614324 2020-01-01   Bandra Kurla Complex, Mumbai - MPCB         NaN   \n",
              " 614325 2020-01-01                 Bandra, Mumbai - MPCB   54.661236   \n",
              " 614344 2020-01-01          Borivali East, Mumbai - IITM         NaN   \n",
              " 614345 2020-01-01          Borivali East, Mumbai - MPCB   79.463229   \n",
              " ...           ...                                   ...         ...   \n",
              " 819549 2020-12-31  Siddharth Nagar-Worli, Mumbai - IITM         NaN   \n",
              " 819556 2020-12-31                   Sion, Mumbai - MPCB  108.269570   \n",
              " 819596 2020-12-31             Vasai West, Mumbai - MPCB   84.402407   \n",
              " 819610 2020-12-31        Vile Parle West, Mumbai - MPCB  127.661705   \n",
              " 819616 2020-12-31                  Worli, Mumbai - MPCB  124.102857   \n",
              " \n",
              "               PM10                                            address    city  \\\n",
              " 614323         NaN  System Of Air Quality and Weather Forecasting ...  Mumbai   \n",
              " 614324         NaN  BKC Ground, Near Asian Heart Institute, Bandra...  Mumbai   \n",
              " 614325  129.146629  CAAQMS Station Govt Polytechnic Mumbai, Near G...  Mumbai   \n",
              " 614344         NaN  System Of Air Quality Andweather Forecasting R...  Mumbai   \n",
              " 614345  131.882632  Maharashtra Pollution Control Board, Near Lion...  Mumbai   \n",
              " ...            ...                                                ...     ...   \n",
              " 819549         NaN  System Of Air Quality Andweather Forecasting R...  Mumbai   \n",
              " 819556  263.125275  K J Somaiya Hospital, Sion (E), Mumbai, Mahara...  Mumbai   \n",
              " 819596         NaN  Fire Brigade Station, Vasai Grass Road, Navgha...  Mumbai   \n",
              " 819610  245.803708  CAAQMS- Maharashtra Pollution Control Board, U...  Mumbai   \n",
              " 819616  198.181685  89-B, NEERI Building, Dr. Annie Besant Road, W...  Mumbai   \n",
              " \n",
              "          latitude  longitude        state seasons   weekday     month  \n",
              " 614323  19.053536  72.846430  Maharashtra  Winter  Week Day   January  \n",
              " 614324  19.065931  72.862131  Maharashtra  Winter  Week Day   January  \n",
              " 614325  19.062700  72.846140  Maharashtra  Winter  Week Day   January  \n",
              " 614344  19.232410  72.868950  Maharashtra  Winter  Week Day   January  \n",
              " 614345  19.224333  72.865811  Maharashtra  Winter  Week Day   January  \n",
              " ...           ...        ...          ...     ...       ...       ...  \n",
              " 819549  19.000083  72.813993  Maharashtra  Winter  Week Day  December  \n",
              " 819556  19.047000  72.874600  Maharashtra  Winter  Week Day  December  \n",
              " 819596  19.383200  72.820400  Maharashtra  Winter  Week Day  December  \n",
              " 819610  19.108610  72.836220  Maharashtra  Winter  Week Day  December  \n",
              " 819616  18.993616  72.812811  Maharashtra  Winter  Week Day  December  \n",
              " \n",
              " [10980 rows x 12 columns],\n",
              "          Timestamp                               station       PM2.5  \\\n",
              " 819649  2021-01-01   Bandra Kurla Complex, Mumbai - IITM  194.987368   \n",
              " 819650  2021-01-01   Bandra Kurla Complex, Mumbai - MPCB         NaN   \n",
              " 819651  2021-01-01                 Bandra, Mumbai - MPCB   11.299341   \n",
              " 819670  2021-01-01          Borivali East, Mumbai - IITM   48.952842   \n",
              " 819671  2021-01-01          Borivali East, Mumbai - MPCB  133.313585   \n",
              " ...            ...                                   ...         ...   \n",
              " 1024314 2021-12-31  Siddharth Nagar-Worli, Mumbai - IITM   62.741895   \n",
              " 1024321 2021-12-31                   Sion, Mumbai - MPCB   49.398370   \n",
              " 1024361 2021-12-31             Vasai West, Mumbai - MPCB         NaN   \n",
              " 1024375 2021-12-31        Vile Parle West, Mumbai - MPCB   94.205745   \n",
              " 1024381 2021-12-31                  Worli, Mumbai - MPCB   89.448000   \n",
              " \n",
              "                PM10                                            address  \\\n",
              " 819649   228.700211  System Of Air Quality and Weather Forecasting ...   \n",
              " 819650          NaN  BKC Ground, Near Asian Heart Institute, Bandra...   \n",
              " 819651    50.481563  CAAQMS Station Govt Polytechnic Mumbai, Near G...   \n",
              " 819670   216.091684  System Of Air Quality Andweather Forecasting R...   \n",
              " 819671   174.479773  Maharashtra Pollution Control Board, Near Lion...   \n",
              " ...             ...                                                ...   \n",
              " 1024314  100.826526  System Of Air Quality Andweather Forecasting R...   \n",
              " 1024321  161.386809  K J Somaiya Hospital, Sion (E), Mumbai, Mahara...   \n",
              " 1024361  204.853763  Fire Brigade Station, Vasai Grass Road, Navgha...   \n",
              " 1024375  200.134000  CAAQMS- Maharashtra Pollution Control Board, U...   \n",
              " 1024381  159.470000  89-B, NEERI Building, Dr. Annie Besant Road, W...   \n",
              " \n",
              "            city   latitude  longitude        state seasons   weekday     month  \n",
              " 819649   Mumbai  19.053536  72.846430  Maharashtra  Winter  Week Day   January  \n",
              " 819650   Mumbai  19.065931  72.862131  Maharashtra  Winter  Week Day   January  \n",
              " 819651   Mumbai  19.062700  72.846140  Maharashtra  Winter  Week Day   January  \n",
              " 819670   Mumbai  19.232410  72.868950  Maharashtra  Winter  Week Day   January  \n",
              " 819671   Mumbai  19.224333  72.865811  Maharashtra  Winter  Week Day   January  \n",
              " ...         ...        ...        ...          ...     ...       ...       ...  \n",
              " 1024314  Mumbai  19.000083  72.813993  Maharashtra  Winter  Week Day  December  \n",
              " 1024321  Mumbai  19.047000  72.874600  Maharashtra  Winter  Week Day  December  \n",
              " 1024361  Mumbai  19.383200  72.820400  Maharashtra  Winter  Week Day  December  \n",
              " 1024375  Mumbai  19.108610  72.836220  Maharashtra  Winter  Week Day  December  \n",
              " 1024381  Mumbai  18.993616  72.812811  Maharashtra  Winter  Week Day  December  \n",
              " \n",
              " [10950 rows x 12 columns],\n",
              "          Timestamp                               station      PM2.5  \\\n",
              " 1024414 2022-01-01   Bandra Kurla Complex, Mumbai - IITM  75.514149   \n",
              " 1024415 2022-01-01   Bandra Kurla Complex, Mumbai - MPCB        NaN   \n",
              " 1024416 2022-01-01                 Bandra, Mumbai - MPCB        NaN   \n",
              " 1024435 2022-01-01          Borivali East, Mumbai - IITM  64.668817   \n",
              " 1024436 2022-01-01          Borivali East, Mumbai - MPCB  72.606322   \n",
              " ...            ...                                   ...        ...   \n",
              " 1229079 2022-12-31  Siddharth Nagar-Worli, Mumbai - IITM  57.355319   \n",
              " 1229086 2022-12-31                   Sion, Mumbai - MPCB  66.581398   \n",
              " 1229126 2022-12-31             Vasai West, Mumbai - MPCB  50.823200   \n",
              " 1229140 2022-12-31        Vile Parle West, Mumbai - MPCB  97.494894   \n",
              " 1229146 2022-12-31                  Worli, Mumbai - MPCB  52.430833   \n",
              " \n",
              "                PM10                                            address  \\\n",
              " 1024414  153.802632  System Of Air Quality and Weather Forecasting ...   \n",
              " 1024415         NaN  BKC Ground, Near Asian Heart Institute, Bandra...   \n",
              " 1024416         NaN  CAAQMS Station Govt Polytechnic Mumbai, Near G...   \n",
              " 1024435  125.864301  System Of Air Quality Andweather Forecasting R...   \n",
              " 1024436  101.322206  Maharashtra Pollution Control Board, Near Lion...   \n",
              " ...             ...                                                ...   \n",
              " 1229079   91.461368  System Of Air Quality Andweather Forecasting R...   \n",
              " 1229086  245.728542  K J Somaiya Hospital, Sion (E), Mumbai, Mahara...   \n",
              " 1229126  165.544167  Fire Brigade Station, Vasai Grass Road, Navgha...   \n",
              " 1229140         NaN  CAAQMS- Maharashtra Pollution Control Board, U...   \n",
              " 1229146  133.247158  89-B, NEERI Building, Dr. Annie Besant Road, W...   \n",
              " \n",
              "            city   latitude  longitude        state seasons  weekday     month  \n",
              " 1024414  Mumbai  19.053536  72.846430  Maharashtra  Winter  Weekend   January  \n",
              " 1024415  Mumbai  19.065931  72.862131  Maharashtra  Winter  Weekend   January  \n",
              " 1024416  Mumbai  19.062700  72.846140  Maharashtra  Winter  Weekend   January  \n",
              " 1024435  Mumbai  19.232410  72.868950  Maharashtra  Winter  Weekend   January  \n",
              " 1024436  Mumbai  19.224333  72.865811  Maharashtra  Winter  Weekend   January  \n",
              " ...         ...        ...        ...          ...     ...      ...       ...  \n",
              " 1229079  Mumbai  19.000083  72.813993  Maharashtra  Winter  Weekend  December  \n",
              " 1229086  Mumbai  19.047000  72.874600  Maharashtra  Winter  Weekend  December  \n",
              " 1229126  Mumbai  19.383200  72.820400  Maharashtra  Winter  Weekend  December  \n",
              " 1229140  Mumbai  19.108610  72.836220  Maharashtra  Winter  Weekend  December  \n",
              " 1229146  Mumbai  18.993616  72.812811  Maharashtra  Winter  Weekend  December  \n",
              " \n",
              " [10950 rows x 12 columns],\n",
              "          Timestamp                               station      PM2.5  \\\n",
              " 1229179 2023-01-01   Bandra Kurla Complex, Mumbai - IITM  99.017660   \n",
              " 1229180 2023-01-01   Bandra Kurla Complex, Mumbai - MPCB        NaN   \n",
              " 1229181 2023-01-01                 Bandra, Mumbai - MPCB        NaN   \n",
              " 1229200 2023-01-01          Borivali East, Mumbai - IITM        NaN   \n",
              " 1229201 2023-01-01          Borivali East, Mumbai - MPCB  59.246146   \n",
              " ...            ...                                   ...        ...   \n",
              " 1433844 2023-12-31  Siddharth Nagar-Worli, Mumbai - IITM  51.311789   \n",
              " 1433851 2023-12-31                   Sion, Mumbai - MPCB  64.529375   \n",
              " 1433891 2023-12-31             Vasai West, Mumbai - MPCB  37.528242   \n",
              " 1433905 2023-12-31        Vile Parle West, Mumbai - MPCB  55.668132   \n",
              " 1433911 2023-12-31                  Worli, Mumbai - MPCB  47.100625   \n",
              " \n",
              "                PM10                                            address  \\\n",
              " 1229179  310.838222  System Of Air Quality and Weather Forecasting ...   \n",
              " 1229180         NaN  BKC Ground, Near Asian Heart Institute, Bandra...   \n",
              " 1229181         NaN  CAAQMS Station Govt Polytechnic Mumbai, Near G...   \n",
              " 1229200         NaN  System Of Air Quality Andweather Forecasting R...   \n",
              " 1229201   70.545806  Maharashtra Pollution Control Board, Near Lion...   \n",
              " ...             ...                                                ...   \n",
              " 1433844   89.457263  System Of Air Quality Andweather Forecasting R...   \n",
              " 1433851  161.966344  K J Somaiya Hospital, Sion (E), Mumbai, Mahara...   \n",
              " 1433891   93.600976  Fire Brigade Station, Vasai Grass Road, Navgha...   \n",
              " 1433905  104.855326  CAAQMS- Maharashtra Pollution Control Board, U...   \n",
              " 1433911  136.581481  89-B, NEERI Building, Dr. Annie Besant Road, W...   \n",
              " \n",
              "            city   latitude  longitude        state seasons  weekday     month  \n",
              " 1229179  Mumbai  19.053536  72.846430  Maharashtra  Winter  Weekend   January  \n",
              " 1229180  Mumbai  19.065931  72.862131  Maharashtra  Winter  Weekend   January  \n",
              " 1229181  Mumbai  19.062700  72.846140  Maharashtra  Winter  Weekend   January  \n",
              " 1229200  Mumbai  19.232410  72.868950  Maharashtra  Winter  Weekend   January  \n",
              " 1229201  Mumbai  19.224333  72.865811  Maharashtra  Winter  Weekend   January  \n",
              " ...         ...        ...        ...          ...     ...      ...       ...  \n",
              " 1433844  Mumbai  19.000083  72.813993  Maharashtra  Winter  Weekend  December  \n",
              " 1433851  Mumbai  19.047000  72.874600  Maharashtra  Winter  Weekend  December  \n",
              " 1433891  Mumbai  19.383200  72.820400  Maharashtra  Winter  Weekend  December  \n",
              " 1433905  Mumbai  19.108610  72.836220  Maharashtra  Winter  Weekend  December  \n",
              " 1433911  Mumbai  18.993616  72.812811  Maharashtra  Winter  Weekend  December  \n",
              " \n",
              " [10950 rows x 12 columns]]"
            ]
          },
          "execution_count": 16,
          "metadata": {},
          "output_type": "execute_result"
        }
      ],
      "source": [
        "mum_yr"
      ]
    },
    {
      "cell_type": "markdown",
      "metadata": {
        "id": "RpEtokiQsOVN"
      },
      "source": [
        "# **Population-Based [3 Marks]**\n",
        "\n",
        "1)Which state in India has the highest number of monitoring stations relative to its population?\n",
        "\n",
        "2)Plot a bar chart showing the top 5 most polluted states in terms of per capita PM2.5 exposure in 2023.\n",
        "\n",
        "3)Plot the relationship between population density and average PM2.5 concentration for each state. What conclusion can you draw about the correlation between population density and pollution?\n",
        "X-axis: Population density (people per square kilometer).\n",
        "Y-axis: Average PM2.5 concentration.\n",
        "Use a scatter plot to show the relationship, where each point represents a state."
      ]
    },
    {
      "cell_type": "code",
      "execution_count": 17,
      "metadata": {
        "id": "Fa36J094v_qz"
      },
      "outputs": [],
      "source": [
        "pop_data_original = pop_data\n"
      ]
    },
    {
      "cell_type": "code",
      "execution_count": 18,
      "metadata": {
        "colab": {
          "base_uri": "https://localhost:8080/",
          "height": 1000
        },
        "id": "EjhHy792wYMn",
        "outputId": "65e15940-98cf-4426-ca23-3e9181d1df37"
      },
      "outputs": [
        {
          "data": {
            "text/plain": [
              "State             Chandigarh\n",
              "Population           1055450\n",
              "Area (km2)               114\n",
              "density          9258.333333\n",
              "station                    3\n",
              "st_per_capita       0.000003\n",
              "Name: 29, dtype: object"
            ]
          },
          "execution_count": 18,
          "metadata": {},
          "output_type": "execute_result"
        }
      ],
      "source": [
        "'''1)Which state in India has the highest number of monitoring stations relative to its population?'''\n",
        "a = data.groupby('state')['station']\n",
        "a = a.nunique()\n",
        "st_pop = pd.merge(pop_data, a, left_on = 'State', right_on = 'state' )\n",
        "st_pop['st_per_capita'] = st_pop['station'] / st_pop['Population']\n",
        "maxIdx = st_pop['st_per_capita'].argmax()\n",
        "st_pop.iloc[maxIdx]\n"
      ]
    },
    {
      "cell_type": "code",
      "execution_count": 19,
      "metadata": {},
      "outputs": [
        {
          "data": {
            "text/plain": [
              "<Axes: xlabel='city', ylabel='poll_per_cap'>"
            ]
          },
          "execution_count": 19,
          "metadata": {},
          "output_type": "execute_result"
        },
        {
          "data": {
            "image/png": "[encoded data removed]",
            "text/plain": [
              "<Figure size 640x480 with 1 Axes>"
            ]
          },
          "metadata": {},
          "output_type": "display_data"
        }
      ],
      "source": [
        "'''2)Plot a bar chart showing the top 5 most polluted states in terms of per capita PM2.5 exposure in 2023.'''\n",
        "st_poll = pd.merge(data, pop_data, left_on = 'state', right_on = 'State' )\n",
        "st_poll[\"poll_per_cap\"] = st_poll['PM2.5'] / st_poll['Population']\n",
        "st_poll.drop(columns = 'State', axis=1)\n",
        "a = st_poll.groupby('city')['poll_per_cap'].mean()\n",
        "a = a.nlargest(5)\n",
        "sns.barplot(data=a)"
      ]
    },
    {
      "cell_type": "code",
      "execution_count": 20,
      "metadata": {},
      "outputs": [
        {
          "data": {
            "text/plain": [
              "<Axes: xlabel='density', ylabel='PM2.5'>"
            ]
          },
          "execution_count": 20,
          "metadata": {},
          "output_type": "execute_result"
        },
        {
          "data": {
            "image/png": "[encoded data removed]",
            "text/plain": [
              "<Figure size 640x480 with 1 Axes>"
            ]
          },
          "metadata": {},
          "output_type": "display_data"
        }
      ],
      "source": [
        "'''Plot the relationship between population density and average PM2.5 concentration for each state.\n",
        "What conclusion can you draw about the correlation between population density and pollution?\n",
        "X-axis: Population density (people per square kilometer).\n",
        "Y-axis: Average PM2.5 concentration.\n",
        "Use a scatter plot to show the relationship, where each point represents a state.'''\n",
        "\n",
        "a = st_poll.groupby('state')[[\"density\", \"PM2.5\"]].mean()\n",
        "sns.scatterplot(data = a ,x='density', y='PM2.5')"
      ]
    },
    {
      "cell_type": "code",
      "execution_count": 21,
      "metadata": {},
      "outputs": [
        {
          "data": {
            "text/html": [
              "<div>\n",
              "<style scoped>\n",
              "    .dataframe tbody tr th:only-of-type {\n",
              "        vertical-align: middle;\n",
              "    }\n",
              "\n",
              "    .dataframe tbody tr th {\n",
              "        vertical-align: top;\n",
              "    }\n",
              "\n",
              "    .dataframe thead th {\n",
              "        text-align: right;\n",
              "    }\n",
              "</style>\n",
              "<table border=\"1\" class=\"dataframe\">\n",
              "  <thead>\n",
              "    <tr style=\"text-align: right;\">\n",
              "      <th></th>\n",
              "      <th>Timestamp</th>\n",
              "      <th>station</th>\n",
              "      <th>PM2.5</th>\n",
              "      <th>PM10</th>\n",
              "      <th>address</th>\n",
              "      <th>city</th>\n",
              "      <th>latitude</th>\n",
              "      <th>longitude</th>\n",
              "      <th>state</th>\n",
              "      <th>seasons</th>\n",
              "      <th>weekday</th>\n",
              "      <th>month</th>\n",
              "      <th>State</th>\n",
              "      <th>Population</th>\n",
              "      <th>Area (km2)</th>\n",
              "      <th>density</th>\n",
              "      <th>poll_per_cap</th>\n",
              "    </tr>\n",
              "  </thead>\n",
              "  <tbody>\n",
              "    <tr>\n",
              "      <th>0</th>\n",
              "      <td>2017-01-01</td>\n",
              "      <td>32Bungalows, Bhilai - CECB</td>\n",
              "      <td>NaN</td>\n",
              "      <td>NaN</td>\n",
              "      <td>Bhilai RO Office, 5, 32 Bungalows, Bhilai, Dis...</td>\n",
              "      <td>Bhilai</td>\n",
              "      <td>21.194815</td>\n",
              "      <td>81.314770</td>\n",
              "      <td>Chhattisgarh</td>\n",
              "      <td>Winter</td>\n",
              "      <td>Weekend</td>\n",
              "      <td>January</td>\n",
              "      <td>Chhattisgarh</td>\n",
              "      <td>25545198</td>\n",
              "      <td>135192</td>\n",
              "      <td>188.954953</td>\n",
              "      <td>NaN</td>\n",
              "    </tr>\n",
              "    <tr>\n",
              "      <th>1</th>\n",
              "      <td>2017-01-01</td>\n",
              "      <td>AIIMS, Raipur - CECB</td>\n",
              "      <td>NaN</td>\n",
              "      <td>NaN</td>\n",
              "      <td>All India Institute Of Medical Science, Gate N...</td>\n",
              "      <td>Raipur</td>\n",
              "      <td>21.258815</td>\n",
              "      <td>81.578979</td>\n",
              "      <td>Chhattisgarh</td>\n",
              "      <td>Winter</td>\n",
              "      <td>Weekend</td>\n",
              "      <td>January</td>\n",
              "      <td>Chhattisgarh</td>\n",
              "      <td>25545198</td>\n",
              "      <td>135192</td>\n",
              "      <td>188.954953</td>\n",
              "      <td>NaN</td>\n",
              "    </tr>\n",
              "    <tr>\n",
              "      <th>2</th>\n",
              "      <td>2017-01-01</td>\n",
              "      <td>Adarsh Nagar, Jaipur - RSPCB</td>\n",
              "      <td>NaN</td>\n",
              "      <td>NaN</td>\n",
              "      <td>Psychiatric Centre, Janta Colony, Govind Marg,...</td>\n",
              "      <td>Jaipur</td>\n",
              "      <td>26.902909</td>\n",
              "      <td>75.836858</td>\n",
              "      <td>Rajasthan</td>\n",
              "      <td>Winter</td>\n",
              "      <td>Weekend</td>\n",
              "      <td>January</td>\n",
              "      <td>Rajasthan</td>\n",
              "      <td>68548437</td>\n",
              "      <td>342239</td>\n",
              "      <td>200.294055</td>\n",
              "      <td>NaN</td>\n",
              "    </tr>\n",
              "    <tr>\n",
              "      <th>3</th>\n",
              "      <td>2017-01-01</td>\n",
              "      <td>Airoli, Navi Mumbai - MPCB</td>\n",
              "      <td>NaN</td>\n",
              "      <td>54.743723</td>\n",
              "      <td>NaN</td>\n",
              "      <td>Navi Mumbai</td>\n",
              "      <td>19.149400</td>\n",
              "      <td>72.998600</td>\n",
              "      <td>Maharashtra</td>\n",
              "      <td>Winter</td>\n",
              "      <td>Weekend</td>\n",
              "      <td>January</td>\n",
              "      <td>Maharashtra</td>\n",
              "      <td>112374333</td>\n",
              "      <td>307713</td>\n",
              "      <td>365.192023</td>\n",
              "      <td>NaN</td>\n",
              "    </tr>\n",
              "    <tr>\n",
              "      <th>4</th>\n",
              "      <td>2017-01-01</td>\n",
              "      <td>Alandi, Pune - IITM</td>\n",
              "      <td>NaN</td>\n",
              "      <td>NaN</td>\n",
              "      <td>System Of Air Quality And weather Forecasting ...</td>\n",
              "      <td>Pune</td>\n",
              "      <td>18.675076</td>\n",
              "      <td>73.892743</td>\n",
              "      <td>Maharashtra</td>\n",
              "      <td>Winter</td>\n",
              "      <td>Weekend</td>\n",
              "      <td>January</td>\n",
              "      <td>Maharashtra</td>\n",
              "      <td>112374333</td>\n",
              "      <td>307713</td>\n",
              "      <td>365.192023</td>\n",
              "      <td>NaN</td>\n",
              "    </tr>\n",
              "    <tr>\n",
              "      <th>...</th>\n",
              "      <td>...</td>\n",
              "      <td>...</td>\n",
              "      <td>...</td>\n",
              "      <td>...</td>\n",
              "      <td>...</td>\n",
              "      <td>...</td>\n",
              "      <td>...</td>\n",
              "      <td>...</td>\n",
              "      <td>...</td>\n",
              "      <td>...</td>\n",
              "      <td>...</td>\n",
              "      <td>...</td>\n",
              "      <td>...</td>\n",
              "      <td>...</td>\n",
              "      <td>...</td>\n",
              "      <td>...</td>\n",
              "      <td>...</td>\n",
              "    </tr>\n",
              "    <tr>\n",
              "      <th>1563697</th>\n",
              "      <td>2024-12-10</td>\n",
              "      <td>Worli, Mumbai - MPCB</td>\n",
              "      <td>54.71</td>\n",
              "      <td>124.420000</td>\n",
              "      <td>89-B, NEERI Building, Dr. Annie Besant Road, W...</td>\n",
              "      <td>Mumbai</td>\n",
              "      <td>18.993616</td>\n",
              "      <td>72.812811</td>\n",
              "      <td>Maharashtra</td>\n",
              "      <td>Winter</td>\n",
              "      <td>Week Day</td>\n",
              "      <td>December</td>\n",
              "      <td>Maharashtra</td>\n",
              "      <td>112374333</td>\n",
              "      <td>307713</td>\n",
              "      <td>365.192023</td>\n",
              "      <td>4.868549e-07</td>\n",
              "    </tr>\n",
              "    <tr>\n",
              "      <th>1563698</th>\n",
              "      <td>2024-12-10</td>\n",
              "      <td>Yamunapuram, Bulandshahr - UPPCB</td>\n",
              "      <td>53.23</td>\n",
              "      <td>101.340000</td>\n",
              "      <td>F-5, Yamunapuram, Bulandshahr, Near MMR Mall (...</td>\n",
              "      <td>Bulandshahr</td>\n",
              "      <td>28.406963</td>\n",
              "      <td>77.849831</td>\n",
              "      <td>Uttar Pradesh</td>\n",
              "      <td>Winter</td>\n",
              "      <td>Week Day</td>\n",
              "      <td>December</td>\n",
              "      <td>Uttar Pradesh</td>\n",
              "      <td>199812341</td>\n",
              "      <td>240928</td>\n",
              "      <td>829.344622</td>\n",
              "      <td>2.664000e-07</td>\n",
              "    </tr>\n",
              "    <tr>\n",
              "      <th>1563699</th>\n",
              "      <td>2024-12-10</td>\n",
              "      <td>Yerramukkapalli, Kadapa - APPCB</td>\n",
              "      <td>75.00</td>\n",
              "      <td>110.750000</td>\n",
              "      <td>Municipal Corporation Office Complex, Railway ...</td>\n",
              "      <td>Kadapa</td>\n",
              "      <td>14.465052</td>\n",
              "      <td>78.824187</td>\n",
              "      <td>Andhra Pradesh</td>\n",
              "      <td>Winter</td>\n",
              "      <td>Week Day</td>\n",
              "      <td>December</td>\n",
              "      <td>Andhra Pradesh</td>\n",
              "      <td>49577103</td>\n",
              "      <td>162975</td>\n",
              "      <td>304.200663</td>\n",
              "      <td>1.512795e-06</td>\n",
              "    </tr>\n",
              "    <tr>\n",
              "      <th>1563700</th>\n",
              "      <td>2024-12-10</td>\n",
              "      <td>Zero Point GICI, Gangtok - SSPCB</td>\n",
              "      <td>NaN</td>\n",
              "      <td>NaN</td>\n",
              "      <td>Near State PWD Office, Zero Point, Gangtok, Si...</td>\n",
              "      <td>Gangtok</td>\n",
              "      <td>27.338530</td>\n",
              "      <td>88.614099</td>\n",
              "      <td>Sikkim</td>\n",
              "      <td>Winter</td>\n",
              "      <td>Week Day</td>\n",
              "      <td>December</td>\n",
              "      <td>Sikkim</td>\n",
              "      <td>610577</td>\n",
              "      <td>7096</td>\n",
              "      <td>86.045237</td>\n",
              "      <td>NaN</td>\n",
              "    </tr>\n",
              "    <tr>\n",
              "      <th>1563701</th>\n",
              "      <td>2024-12-10</td>\n",
              "      <td>Zoo Park, Hyderabad - TSPCB</td>\n",
              "      <td>72.83</td>\n",
              "      <td>176.480000</td>\n",
              "      <td>NaN</td>\n",
              "      <td>Hyderabad</td>\n",
              "      <td>17.349694</td>\n",
              "      <td>78.451437</td>\n",
              "      <td>Telangana</td>\n",
              "      <td>Winter</td>\n",
              "      <td>Week Day</td>\n",
              "      <td>December</td>\n",
              "      <td>Telangana</td>\n",
              "      <td>35003674</td>\n",
              "      <td>112077</td>\n",
              "      <td>312.318085</td>\n",
              "      <td>2.080639e-06</td>\n",
              "    </tr>\n",
              "  </tbody>\n",
              "</table>\n",
              "<p>1563702 rows × 17 columns</p>\n",
              "</div>"
            ],
            "text/plain": [
              "         Timestamp                           station  PM2.5        PM10  \\\n",
              "0       2017-01-01        32Bungalows, Bhilai - CECB    NaN         NaN   \n",
              "1       2017-01-01              AIIMS, Raipur - CECB    NaN         NaN   \n",
              "2       2017-01-01      Adarsh Nagar, Jaipur - RSPCB    NaN         NaN   \n",
              "3       2017-01-01        Airoli, Navi Mumbai - MPCB    NaN   54.743723   \n",
              "4       2017-01-01               Alandi, Pune - IITM    NaN         NaN   \n",
              "...            ...                               ...    ...         ...   \n",
              "1563697 2024-12-10              Worli, Mumbai - MPCB  54.71  124.420000   \n",
              "1563698 2024-12-10  Yamunapuram, Bulandshahr - UPPCB  53.23  101.340000   \n",
              "1563699 2024-12-10   Yerramukkapalli, Kadapa - APPCB  75.00  110.750000   \n",
              "1563700 2024-12-10  Zero Point GICI, Gangtok - SSPCB    NaN         NaN   \n",
              "1563701 2024-12-10       Zoo Park, Hyderabad - TSPCB  72.83  176.480000   \n",
              "\n",
              "                                                   address         city  \\\n",
              "0        Bhilai RO Office, 5, 32 Bungalows, Bhilai, Dis...       Bhilai   \n",
              "1        All India Institute Of Medical Science, Gate N...       Raipur   \n",
              "2        Psychiatric Centre, Janta Colony, Govind Marg,...       Jaipur   \n",
              "3                                                      NaN  Navi Mumbai   \n",
              "4        System Of Air Quality And weather Forecasting ...         Pune   \n",
              "...                                                    ...          ...   \n",
              "1563697  89-B, NEERI Building, Dr. Annie Besant Road, W...       Mumbai   \n",
              "1563698  F-5, Yamunapuram, Bulandshahr, Near MMR Mall (...  Bulandshahr   \n",
              "1563699  Municipal Corporation Office Complex, Railway ...       Kadapa   \n",
              "1563700  Near State PWD Office, Zero Point, Gangtok, Si...      Gangtok   \n",
              "1563701                                                NaN    Hyderabad   \n",
              "\n",
              "          latitude  longitude           state seasons   weekday     month  \\\n",
              "0        21.194815  81.314770    Chhattisgarh  Winter   Weekend   January   \n",
              "1        21.258815  81.578979    Chhattisgarh  Winter   Weekend   January   \n",
              "2        26.902909  75.836858       Rajasthan  Winter   Weekend   January   \n",
              "3        19.149400  72.998600     Maharashtra  Winter   Weekend   January   \n",
              "4        18.675076  73.892743     Maharashtra  Winter   Weekend   January   \n",
              "...            ...        ...             ...     ...       ...       ...   \n",
              "1563697  18.993616  72.812811     Maharashtra  Winter  Week Day  December   \n",
              "1563698  28.406963  77.849831   Uttar Pradesh  Winter  Week Day  December   \n",
              "1563699  14.465052  78.824187  Andhra Pradesh  Winter  Week Day  December   \n",
              "1563700  27.338530  88.614099          Sikkim  Winter  Week Day  December   \n",
              "1563701  17.349694  78.451437       Telangana  Winter  Week Day  December   \n",
              "\n",
              "                  State  Population  Area (km2)     density  poll_per_cap  \n",
              "0          Chhattisgarh    25545198      135192  188.954953           NaN  \n",
              "1          Chhattisgarh    25545198      135192  188.954953           NaN  \n",
              "2             Rajasthan    68548437      342239  200.294055           NaN  \n",
              "3           Maharashtra   112374333      307713  365.192023           NaN  \n",
              "4           Maharashtra   112374333      307713  365.192023           NaN  \n",
              "...                 ...         ...         ...         ...           ...  \n",
              "1563697     Maharashtra   112374333      307713  365.192023  4.868549e-07  \n",
              "1563698   Uttar Pradesh   199812341      240928  829.344622  2.664000e-07  \n",
              "1563699  Andhra Pradesh    49577103      162975  304.200663  1.512795e-06  \n",
              "1563700          Sikkim      610577        7096   86.045237           NaN  \n",
              "1563701       Telangana    35003674      112077  312.318085  2.080639e-06  \n",
              "\n",
              "[1563702 rows x 17 columns]"
            ]
          },
          "execution_count": 21,
          "metadata": {},
          "output_type": "execute_result"
        }
      ],
      "source": [
        "st_poll"
      ]
    },
    {
      "cell_type": "markdown",
      "metadata": {},
      "source": [
        "# **Area Based [3 Marks]**\n",
        "\n",
        "Which state has the highest PM2.5 concentration per square kilometer? Plot the pollution levels for all states relative to their area.\n",
        "X-axis: States.\n",
        "Y-axis: PM2.5 concentration per square kilometer.\n",
        "Use a bar plot where each bar represents a state, and the height shows PM2.5 per sq km.\n",
        "\n",
        "Compare the total number of monitoring stations per square kilometer in each state. Identify the state with the highest density of monitoring stations relative to its area. Show a bar plot where each bar represents a state, and the height shows the number of monitoring stations per square kilometer.\n",
        "\n",
        "Compare the average PM2.5 levels between Maharashtra and Madhya Pradesh over the year 2021. Given that both states have similar area sizes but different population densities, analyze how population density impacts pollution levels in these two states.\n"
      ]
    },
    {
      "cell_type": "code",
      "execution_count": 22,
      "metadata": {},
      "outputs": [
        {
          "data": {
            "image/png": "[encoded data removed]",
            "text/plain": [
              "<Figure size 640x480 with 1 Axes>"
            ]
          },
          "metadata": {},
          "output_type": "display_data"
        }
      ],
      "source": [
        "'''\n",
        "Which state has the highest PM2.5 concentration per square kilometer? Plot the pollution levels for all states relative to their area.\n",
        "X-axis: States.\n",
        "Y-axis: PM2.5 concentration per square kilometer.\n",
        "Use a bar plot where each bar represents a state, and the height shows PM2.5 per sq km.'''\n",
        "\n",
        "a = st_poll\n",
        "a['PM2.5_per_cap'] = st_poll[\"PM2.5\"] / st_poll[\"Area (km2)\"]\n",
        "a = a.groupby('state')[\"PM2.5_per_cap\"].mean()\n",
        "\n",
        "sns.barplot(data=a, )\n",
        "plt.xticks(rotation=90)\n",
        "plt.show()\n"
      ]
    },
    {
      "cell_type": "code",
      "execution_count": 23,
      "metadata": {},
      "outputs": [
        {
          "data": {
            "text/plain": [
              "State                Delhi\n",
              "Population        16787941\n",
              "Area (km2)            1484\n",
              "density       11312.628706\n",
              "station                 40\n",
              "st_per_cap        0.026954\n",
              "Name: 17, dtype: object"
            ]
          },
          "execution_count": 23,
          "metadata": {},
          "output_type": "execute_result"
        }
      ],
      "source": [
        "'''Compare the total number of monitoring stations per square kilometer in each state.\n",
        " Identify the state with the highest density of monitoring stations relative to its area.\n",
        " Show a bar plot where each bar represents a state, and the height shows the number of monitoring stations per square kilometer.'''\n",
        "\n",
        "a = st_poll.groupby(['state'])['station'].nunique()\n",
        "state_data = pd.merge(pop_data, a, left_on='State',right_on= 'state')\n",
        "state_data['st_per_cap'] = state_data['station'] / state_data[\"Area (km2)\"]\n",
        "ind = state_data['st_per_cap'].argmax()\n",
        "state_data.iloc[ind]"
      ]
    },
    {
      "cell_type": "code",
      "execution_count": 24,
      "metadata": {},
      "outputs": [
        {
          "name": "stdout",
          "output_type": "stream",
          "text": [
            "state\n",
            "Madhya Pradesh    47.095952\n",
            "Maharashtra       46.440044\n",
            "Name: PM2.5, dtype: float64\n",
            "            State  Population\n",
            "1     Maharashtra   112374333\n",
            "4  Madhya Pradesh    72626809\n"
          ]
        }
      ],
      "source": [
        "'''Compare the average PM2.5 levels between Maharashtra and Madhya Pradesh over the year 2021.\n",
        " Given that both states have similar area sizes but different population densities,\n",
        " analyze how population density impacts pollution levels in these two states.'''\n",
        "\n",
        "mask=st_poll.Timestamp.dt.year==2021\n",
        "ExtractedData=st_poll[mask].query(\"state == 'Maharashtra' | state =='Madhya Pradesh' \")\n",
        "print(ExtractedData.groupby(\"state\")[\"PM2.5\"].mean())\n",
        "print(pop_data.query(\"State == 'Maharashtra' | State =='Madhya Pradesh' \")[[\"State\",\"Population\"]])"
      ]
    },
    {
      "cell_type": "markdown",
      "metadata": {},
      "source": [
        "# **Funding Based [3 Marks]**\n",
        "Compare the average PM2.5 levels between states that received NCAP funding and those that did not in 2021.\n",
        "\n",
        "Create a time series plot showing PM2.5 levels with an increment in NCAP funding for Assam. Has an increment of the financing led to noticeable improvements in air quality?\n",
        "\n",
        "Create a scatter plot to showcase the area versus funding received by a state. Mark every state with a different color and show the legend outside the plot.\n"
      ]
    },
    {
      "cell_type": "code",
      "execution_count": 25,
      "metadata": {},
      "outputs": [],
      "source": [
        "ncap.replace(\"-\",np.nan,inplace=True)\n",
        "ncap.rename(columns={\"City\":\"city\"},inplace=True)\n",
        "ncap.iloc[:,3:]=ncap.iloc[:,3:].astype(float)\n",
        "\n"
      ]
    },
    {
      "cell_type": "code",
      "execution_count": 26,
      "metadata": {},
      "outputs": [
        {
          "data": {
            "text/plain": [
              "Amount released during FY 2021-22\n",
              "Funded        52.681509\n",
              "Not Funded    45.595083\n",
              "Name: PM2.5, dtype: float64"
            ]
          },
          "execution_count": 26,
          "metadata": {},
          "output_type": "execute_result"
        }
      ],
      "source": [
        "mapping={True:\"Funded\" , False : \"Not Funded\"}\n",
        "fundedState=~ncap.groupby(\"State\")[\"Amount released during FY 2021-22\"].mean().isin([0,np.nan])\n",
        "# fundedState.groupby(\"Amount released during FY 2021-22\")\n",
        "\n",
        "pm2=data.groupby(\"state\")[\"PM2.5\"].mean()\n",
        "pm2.rename_axis(\"State\",inplace=True)\n",
        "pm2=pd.merge(fundedState,pm2,how=\"outer\",on=\"State\")\n",
        "pm2[\"Amount released during FY 2021-22\"]=pm2[\"Amount released during FY 2021-22\"].map(mapping)\n",
        "\n",
        "\n",
        "pm2.groupby(\"Amount released during FY 2021-22\")[\"PM2.5\"].mean()\n",
        "\n"
      ]
    },
    {
      "cell_type": "code",
      "execution_count": 27,
      "metadata": {},
      "outputs": [],
      "source": [
        "# Create a time series plot showing PM2.5 levels with an increment in NCAP funding for Assam. \n",
        "# Has an increment of the financing led to noticeable improvements in air quality?\n",
        "combiNCAP=pd.merge(ncap,data.loc[:,[\"city\",\"PM2.5\"]],how=\"inner\" , on=\"city\")\n",
        "\n",
        "\n"
      ]
    },
    {
      "cell_type": "markdown",
      "metadata": {},
      "source": [
        "# **Miscellaneous Questions [5 Marks]**\n",
        "\n",
        "For the most polluted city in 2023 (highest average pollution in 2023), calculate the percentage of days with PM2.5 levels above the hazardous threshold (300 µg/m³)[1 Mark]\n",
        "\n",
        "Analyze the PM2.5 levels in Delhi during Diwali (October-November) and New Year compared to regular months over the 3 years (2018-2020). Do you observe any significant pollution spikes during these festivals? If spikes are observed, Can you mark these spikes using arrows?[1.5 Mark]\n",
        "\n",
        "Identify the state that received the highest NCAP funding in 2020 and determine if its air pollution levels improved significantly by 2023. Use a line graph to compare yearly average PM2.5 trends.[1 Mark]\n",
        "\n",
        "Draw the map of India and plot the sensor locations on the map.[1.5 Mark]"
      ]
    },
    {
      "cell_type": "code",
      "execution_count": 75,
      "metadata": {},
      "outputs": [
        {
          "name": "stdout",
          "output_type": "stream",
          "text": [
            "Darbhanga\n",
            "3\n"
          ]
        }
      ],
      "source": [
        "yr_msk = data['Timestamp'].dt.year == 2023\n",
        "city = data[yr_msk].groupby('city')['PM2.5'].mean()\n",
        "mx_ct = city.idxmax()\n",
        "print(mx_ct)\n",
        "mx_plutd = data[yr_msk]\n",
        "mx_plutd = mx_plutd[mx_plutd['city']==mx_ct]\n",
        "days_above = mx_plutd['PM2.5'] > 300\n",
        "days_above = days_above.sum()\n",
        "print(days_above)"
      ]
    },
    {
      "cell_type": "code",
      "execution_count": 94,
      "metadata": {},
      "outputs": [
        {
          "data": {
            "text/plain": [
              "<Axes: >"
            ]
          },
          "execution_count": 94,
          "metadata": {},
          "output_type": "execute_result"
        },
        {
          "data": {
            "image/png": "[encoded data removed]",
            "text/plain": [
              "<Figure size 640x480 with 1 Axes>"
            ]
          },
          "metadata": {},
          "output_type": "display_data"
        }
      ],
      "source": [
        "# Analyze the PM2.5 levels in Delhi during Diwali (October-November) and New Year compared to regular months over the 3 years (2018-2020).\n",
        "# Do you observe any significant pollution spikes during these festivals?\n",
        "# If spikes are observed, Can you mark these spikes using arrows?[1.5 Mark]\n",
        "dl_msk = (data['city'] == 'Delhi') & ((data['seasons']== 'Winter') | ( (data['Timestamp'].dt.day==1) & (data['Timestamp'].dt.month==1) ))\n",
        "dl_fest = data[dl_msk]\n",
        "dl_norm = data[~dl_msk]\n",
        "dl_pl_f = dl_fest['PM2.5'].mean()\n",
        "dl_pl_nf = dl_norm['PM2.5'].mean()\n",
        "pl_ser = pd.Series({\n",
        "    'Normal Months': dl_pl_nf,\n",
        "    'Festival Times': dl_pl_f\n",
        "})\n",
        "\n",
        "sns.barplot(data = pl_ser)\n"
      ]
    },
    {
      "cell_type": "code",
      "execution_count": 121,
      "metadata": {},
      "outputs": [
        {
          "data": {
            "text/plain": [
              "<Axes: >"
            ]
          },
          "execution_count": 121,
          "metadata": {},
          "output_type": "execute_result"
        },
        {
          "data": {
            "image/png": "[encoded data removed]",
            "text/plain": [
              "<Figure size 700x1000 with 2 Axes>"
            ]
          },
          "metadata": {},
          "output_type": "display_data"
        }
      ],
      "source": [
        "# Identify the state that received the highest NCAP funding in\n",
        "# 2020 and determine if its air pollution levels improved significantly by 2023.\n",
        "# Use a line graph to compare yearly average PM2.5 trends.[1 Mark]\n",
        "\n",
        "st = ncap.groupby('State')['Amount released during FY 2020-21'].sum().idxmax()\n",
        "_2020 = data[(data['Timestamp'].dt.year==2020) & (data['state']==st)]\n",
        "_2023 = data[(data['Timestamp'].dt.year==2023) & (data['state']==st)]\n",
        "_2021 = data[(data['Timestamp'].dt.year==2021) & (data['state']==st)]\n",
        "_2022 = data[(data['Timestamp'].dt.year==2022) & (data['state']==st)]\n",
        "_2019 = data[(data['Timestamp'].dt.year==2019) & (data['state']==st)]\n",
        "\n",
        "fig, axes = plt.subplots(2,1, figsize = (7,10))\n",
        "\n",
        "axes[0].plot(['2019', '2020', '2021', '2022', '2025'], [_2019['PM2.5'].mean(), _2020['PM2.5'].mean(), _2021['PM2.5'].mean(), _2022['PM2.5'].mean(), _2023['PM2.5'].mean()])\n",
        "axes[0].set_title('Andhra Pradesh average pm2.5')\n",
        "axes[0].set_ylabel('PM2.5')\n",
        "axes[0].set_xlabel('Year')\n",
        "sns.barplot({'2020 pm2.5': _2020['PM2.5'].mean(), '2023 pm2.5': _2023['PM2.5'].mean()})"
      ]
    },
    {
      "cell_type": "code",
      "execution_count": 123,
      "metadata": {},
      "outputs": [
        {
          "ename": "AttributeError",
          "evalue": "The geopandas.dataset has been deprecated and was removed in GeoPandas 1.0. You can get the original 'naturalearth_lowres' data from https://www.naturalearthdata.com/downloads/110m-cultural-vectors/.",
          "output_type": "error",
          "traceback": [
            "\u001b[1;31m---------------------------------------------------------------------------\u001b[0m",
            "\u001b[1;31mAttributeError\u001b[0m                            Traceback (most recent call last)",
            "Cell \u001b[1;32mIn[123], line 2\u001b[0m\n\u001b[0;32m      1\u001b[0m \u001b[38;5;28;01mimport\u001b[39;00m\u001b[38;5;250m \u001b[39m\u001b[38;5;21;01mgeopandas\u001b[39;00m\u001b[38;5;250m \u001b[39m\u001b[38;5;28;01mas\u001b[39;00m\u001b[38;5;250m \u001b[39m\u001b[38;5;21;01mgpd\u001b[39;00m\n\u001b[1;32m----> 2\u001b[0m india \u001b[38;5;241m=\u001b[39m gpd\u001b[38;5;241m.\u001b[39mread_file(\u001b[43mgpd\u001b[49m\u001b[38;5;241;43m.\u001b[39;49m\u001b[43mdatasets\u001b[49m\u001b[38;5;241;43m.\u001b[39;49m\u001b[43mget_path\u001b[49m\u001b[43m(\u001b[49m\u001b[38;5;124;43m'\u001b[39;49m\u001b[38;5;124;43mnaturalearth_lowres\u001b[39;49m\u001b[38;5;124;43m'\u001b[39;49m\u001b[43m)\u001b[49m)\u001b[38;5;241m.\u001b[39mquery(\u001b[38;5;124m\"\u001b[39m\u001b[38;5;124mname == \u001b[39m\u001b[38;5;124m'\u001b[39m\u001b[38;5;124mIndia\u001b[39m\u001b[38;5;124m'\u001b[39m\u001b[38;5;124m\"\u001b[39m)\n",
            "File \u001b[1;32m~\\AppData\\Local\\Packages\\PythonSoftwareFoundation.Python.3.12_qbz5n2kfra8p0\\LocalCache\\local-packages\\Python312\\site-packages\\geopandas\\datasets\\__init__.py:18\u001b[0m, in \u001b[0;36mget_path\u001b[1;34m(dataset)\u001b[0m\n\u001b[0;32m     12\u001b[0m error_msg \u001b[38;5;241m=\u001b[39m (\n\u001b[0;32m     13\u001b[0m     \u001b[38;5;124m\"\u001b[39m\u001b[38;5;124mThe geopandas.dataset has been deprecated and was removed in GeoPandas \u001b[39m\u001b[38;5;124m\"\u001b[39m\n\u001b[0;32m     14\u001b[0m     \u001b[38;5;124mf\u001b[39m\u001b[38;5;124m\"\u001b[39m\u001b[38;5;124m1.0. You can get the original \u001b[39m\u001b[38;5;124m'\u001b[39m\u001b[38;5;132;01m{\u001b[39;00mdataset\u001b[38;5;132;01m}\u001b[39;00m\u001b[38;5;124m'\u001b[39m\u001b[38;5;124m data from \u001b[39m\u001b[38;5;124m\"\u001b[39m\n\u001b[0;32m     15\u001b[0m     \u001b[38;5;124mf\u001b[39m\u001b[38;5;124m\"\u001b[39m\u001b[38;5;132;01m{\u001b[39;00mne_message\u001b[38;5;250m \u001b[39m\u001b[38;5;28;01mif\u001b[39;00m\u001b[38;5;250m \u001b[39m\u001b[38;5;124m'\u001b[39m\u001b[38;5;124mnatural\u001b[39m\u001b[38;5;124m'\u001b[39m\u001b[38;5;250m \u001b[39m\u001b[38;5;129;01min\u001b[39;00m\u001b[38;5;250m \u001b[39mdataset\u001b[38;5;250m \u001b[39m\u001b[38;5;28;01melse\u001b[39;00m\u001b[38;5;250m \u001b[39mnybb_message\u001b[38;5;132;01m}\u001b[39;00m\u001b[38;5;124m\"\u001b[39m\n\u001b[0;32m     16\u001b[0m )\n\u001b[0;32m     17\u001b[0m \u001b[38;5;28;01mif\u001b[39;00m dataset \u001b[38;5;129;01min\u001b[39;00m _prev_available:\n\u001b[1;32m---> 18\u001b[0m     \u001b[38;5;28;01mraise\u001b[39;00m \u001b[38;5;167;01mAttributeError\u001b[39;00m(error_msg)\n\u001b[0;32m     19\u001b[0m \u001b[38;5;28;01melse\u001b[39;00m:\n\u001b[0;32m     20\u001b[0m     error_msg \u001b[38;5;241m=\u001b[39m (\n\u001b[0;32m     21\u001b[0m         \u001b[38;5;124m\"\u001b[39m\u001b[38;5;124mThe geopandas.dataset has been deprecated and \u001b[39m\u001b[38;5;124m\"\u001b[39m\n\u001b[0;32m     22\u001b[0m         \u001b[38;5;124m\"\u001b[39m\u001b[38;5;124mwas removed in GeoPandas 1.0. New sample datasets are now available \u001b[39m\u001b[38;5;124m\"\u001b[39m\n\u001b[0;32m     23\u001b[0m         \u001b[38;5;124m\"\u001b[39m\u001b[38;5;124min the geodatasets package (https://geodatasets.readthedocs.io/en/latest/)\u001b[39m\u001b[38;5;124m\"\u001b[39m\n\u001b[0;32m     24\u001b[0m     )\n",
            "\u001b[1;31mAttributeError\u001b[0m: The geopandas.dataset has been deprecated and was removed in GeoPandas 1.0. You can get the original 'naturalearth_lowres' data from https://www.naturalearthdata.com/downloads/110m-cultural-vectors/."
          ]
        }
      ],
      "source": [
        "import geopandas as gpd\n",
        "india = gpd.read_file(gpd.datasets.get_path('naturalearth_lowres')).query(\"name == 'India'\")"
      ]
    }
  ],
  "metadata": {
    "colab": {
      "provenance": []
    },
    "kernelspec": {
      "display_name": "Python 3",
      "language": "python",
      "name": "python3"
    },
    "language_info": {
      "codemirror_mode": {
        "name": "ipython",
        "version": 3
      },
      "file_extension": ".py",
      "mimetype": "text/x-python",
      "name": "python",
      "nbconvert_exporter": "python",
      "pygments_lexer": "ipython3",
      "version": "3.12.5"
    }
  },
  "nbformat": 4,
  "nbformat_minor": 0
}
