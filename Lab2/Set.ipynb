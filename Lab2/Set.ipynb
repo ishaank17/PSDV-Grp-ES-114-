{
  "cells": [
    {
      "cell_type": "markdown",
      "metadata": {
        "id": "tPAukflovsUi"
      },
      "source": [
        "# Set Theory Concepts"
      ]
    },
    {
      "cell_type": "markdown",
      "metadata": {
        "id": "Xs6xlBjasUy7"
      },
      "source": [
        "## Definition of a Partition\n",
        "\n",
        "A collection of sets \\\\(\\{A_1, \\ldots, A_n\\}\\\\) is a **partition** of the universal set \\\\(\\Omega\\\\) if it satisfies the following conditions:\n",
        "\n",
        "- **Non-overlap**: \\\\(\\{A_1, \\ldots, A_n\\}\\\\) is disjoint.\n",
        "- **Decompose**: \\\\(A_1 \\cup A_2 \\cup \\ldots \\cup A_n = \\Omega\\\\).\n",
        "\n",
        "---\n",
        "\n",
        "## Important Laws\n",
        "\n",
        "### Distributive (How to mix union and intersection)\n",
        "$$\n",
        "A \\cap (B \\cup C) = (A \\cap B) \\cup (A \\cap C)\n",
        "$$\n",
        "\n",
        "$$\n",
        "A \\cup (B \\cap C) = (A \\cup B) \\cap (A \\cup C)\n",
        "$$\n",
        "\n",
        "---\n",
        "\n",
        "### De Morgan’s Law (How to complement over intersection and union)\n",
        "\n",
        "$$\n",
        "(A \\cap B)^c = A^c \\cup B^c\n",
        "$$\n",
        "\n",
        "$$\n",
        "(A \\cup B)^c = A^c \\cap B^c\n",
        "$$\n"
      ]
    },
    {
      "cell_type": "markdown",
      "metadata": {
        "id": "-xAi31aVvyeg"
      },
      "source": [
        "# Questions"
      ]
    },
    {
      "cell_type": "markdown",
      "metadata": {
        "id": "on65yEpev3q1"
      },
      "source": [
        "## Question 1: Function to Check Partition\n",
        "Write a Python function to check if a given list of sets is a partition of a universal set. The function should take the universal set and the list of sets as arguments and verify the following conditions:\n",
        "1. The union of all subsets in the list equals the universal set.\n",
        "2. The subsets are pairwise disjoint.\n",
        "\n",
        "Write your function and test it with an example."
      ]
    },
    {
      "cell_type": "markdown",
      "metadata": {
        "id": "3PHWS9AKv8TQ"
      },
      "source": [
        "## Question 2: Laws\n",
        "With an example numpy array corresponding to set A, B, C, show the distributive properties and De Morgan's Laws. Also, use `venn3` from `matplotlib_venn` library for vizualization.\n",
        "\n"
      ]
    },
    {
      "cell_type": "markdown",
      "metadata": {
        "id": "EjNqRSaDwBu1"
      },
      "source": [
        "## Question 3: Union and Intersection of Students\n",
        "For below code:\n",
        "1. The union of all sets of students present across the three subjects.\n",
        "2. The intersection of all sets of students present across the three subjects.\n",
        "\n",
        "```python\n",
        "import pandas as pd\n",
        "# Dictionary of marks\n",
        "marks = {\n",
        "    \"Math\": {\"Alice\": 85, \"Bob\": 90, \"Charlie\": 78},\n",
        "    \"Physics\": {\"Bob\": 88, \"Charlie\": 92, \"David\": 75},\n",
        "    \"Chemistry\": {\"Alice\": 82, \"Charlie\": 80, \"Eve\": 91},\n",
        "}\n",
        "\n",
        "\n",
        "# Convert the dictionary to a DataFrame\n",
        "df = pd.DataFrame(marks).T\n",
        "```"
      ]
    },
    {
      "cell_type": "markdown",
      "metadata": {
        "id": "aox2q9Ba3Ml4"
      },
      "source": [
        "# Question 4\n",
        "Implement a Python function to compute the cartesian product of two sets A and B without using Python's built-in functions or libraries like itertools. The function should return the cartesian product as a set of ordered pairs (tuples).\n"
      ]
    },
    {
      "cell_type": "code",
      "execution_count": null,
      "metadata": {
        "id": "MndWfSCQ3QyR"
      },
      "outputs": [],
      "source": []
    }
  ],
  "metadata": {
    "colab": {
      "provenance": []
    },
    "kernelspec": {
      "display_name": "Python 3",
      "name": "python3"
    },
    "language_info": {
      "name": "python"
    }
  },
  "nbformat": 4,
  "nbformat_minor": 0
}
