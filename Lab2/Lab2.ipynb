{
  "nbformat": 4,
  "nbformat_minor": 0,
  "metadata": {
    "colab": {
      "provenance": []
    },
    "kernelspec": {
      "name": "python3",
      "display_name": "Python 3"
    },
    "language_info": {
      "name": "python"
    }
  },
  "cells": [
    {
      "cell_type": "code",
      "source": [
        "import pandas as pd\n",
        "import numpy as np\n",
        "import matplotlib.pyplot as plt\n",
        "import seaborn as sns\n",
        "import warnings\n",
        "warnings.filterwarnings('ignore')\n",
        "%config inlineBackend.figure_format = 'retina'"
      ],
      "metadata": {
        "id": "CMcpPbzBCfUg"
      },
      "execution_count": null,
      "outputs": []
    },
    {
      "cell_type": "markdown",
      "source": [
        "# 1. Basic Operations"
      ],
      "metadata": {
        "id": "1L5HYuFZZtco"
      }
    },
    {
      "cell_type": "markdown",
      "source": [
        "**Q1.** Write code to create a DataFrame from a dictionary containing student names and their scores in three subjects (Math, Science, English).<br/>\n",
        "* Write a code to add a new column `Total Marks`, which calculates the total marks for each student.\n",
        "* Print first five rows of the DataFrame and summary statistics using the `describe()` method.\n",
        "\n",
        "\n",
        "```python\n",
        "data = {\n",
        "    'Name': ['Virat', 'Dhoni', 'Rohit', 'Sachin', 'Gavaskar'],\n",
        "    'Math': [90, 80, 85, 70, 95],\n",
        "    'Science': [85, 88, 90, 75, 92],\n",
        "    'English': [78, 85, 82, 90, 88]\n",
        "}\n",
        "```"
      ],
      "metadata": {
        "id": "rdSMErJ-Zz07"
      }
    },
    {
      "cell_type": "markdown",
      "source": [
        "**Q2.** Create a dummy CSV file named students.csv containing the following columns: Name, Age, Gender, and Marks (atleast 5 entries). Perform the following tasks:\n",
        "\n",
        "- Load the file into a DataFrame using Pandas.\n",
        "- Display the last 3 rows of the DataFrame.\n",
        "- Print the total number of rows and columns in the DataFrame."
      ],
      "metadata": {
        "id": "vv3nqYtcbPXI"
      }
    },
    {
      "cell_type": "markdown",
      "source": [
        "**Q3.** Create and populate a DataFrame with columns Employee_ID, Name, Department, and Salary. Now perform the following:\n",
        "\n",
        "- Add a new column Bonus where each employee gets 10% of their Salary.\n",
        "- Increase the Salary of all employees in the IT department by 20%.\n",
        "- Drop the Department column from the DataFrame.\n"
      ],
      "metadata": {
        "id": "K7Q7mbEocP7J"
      }
    },
    {
      "cell_type": "markdown",
      "source": [
        "# 2. Indexing and Slicing"
      ],
      "metadata": {
        "id": "1z0HOeKHHurz"
      }
    },
    {
      "cell_type": "markdown",
      "source": [
        "**Q1.** You are given a data about employees' performance:\n",
        "\n",
        "```\n",
        "data = {\n",
        "    'Employee': ['E1', 'E2', 'E3', 'E4', 'E5'],\n",
        "    'Department': ['HR', 'IT', 'Finance', 'IT', 'HR'],\n",
        "    'Salary': [50000, 60000, 55000, 58000, 52000],\n",
        "    'Performance_Rating': [8.2, 7.8, 8.5, 7.4, 8.0],\n",
        "    'Years_at_Company': [5, 3, 6, 2, 4]\n",
        "}\n",
        "```\n",
        "Using boolean indexing, select employees who meet all of the following conditions:\n",
        "\n",
        "- Belong to either 'HR' or 'IT' departments.\n",
        "- Have a performance rating greater than or equal to 8.0.\n",
        "- Earn a salary less than 55,000 or have been with the company for at least 4 years.\n"
      ],
      "metadata": {
        "id": "FaDAzqstHyhP"
      }
    },
    {
      "cell_type": "markdown",
      "source": [
        "**Q2.** Slicing Rows and Columns\n",
        "\n",
        "```\n",
        "data = {\n",
        "    'Product': ['Laptop', 'Phone', 'Tablet', 'Monitor', 'Headphones'],\n",
        "    'Price': [800, 400, 300, 150, 50],\n",
        "    'Stock': [20, 35, 50, 10, 100],\n",
        "    'Rating': [4.5, 4.2, 3.8, 4.8, 4.0]\n",
        "}\n",
        "```\n",
        "\n",
        "Use slicing to select the following:\n",
        "\n",
        "- The last 3 rows of the DataFrame.\n",
        "- All columns except 'Stock' and 'Rating' from the first 3 rows."
      ],
      "metadata": {
        "id": "rbjBJwZIIqaF"
      }
    },
    {
      "cell_type": "markdown",
      "source": [
        "**Q3.** Label-based Indexing with `.loc[]` and `.iloc[]`\n",
        "\n",
        "```\n",
        "data = {\n",
        "    'Name': ['John', 'Sara', 'Tom', 'Alex', 'Julia'],\n",
        "    'Age': [29, 35, 40, 25, 31],\n",
        "    'Salary': [50000, 60000, 75000, 45000, 52000],\n",
        "    'Department': ['HR', 'Finance', 'IT', 'HR', 'IT']\n",
        "}\n",
        "```\n",
        "\n",
        "Using .loc[] and .iloc[], perform the following tasks:\n",
        "\n",
        "- Select the row corresponding to 'Tom' using label-based indexing.\n",
        "- Select the first two rows and the 'Salary' and 'Department' columns using position-based indexing."
      ],
      "metadata": {
        "id": "3laarPY1JVdH"
      }
    },
    {
      "cell_type": "markdown",
      "source": [
        "# 3. GroupBy and Aggregations\n"
      ],
      "metadata": {
        "id": "XwmlBZRPFbp7"
      }
    },
    {
      "cell_type": "markdown",
      "source": [
        "**Q1.** You have a dataset of students' test scores. The dataset has the following columns:\n",
        "\n",
        "* StudentID: Unique ID of the student.\n",
        "* Subject: The subject of the test.\n",
        "* Score: The score obtained (out of 100).\n",
        "```\n",
        "data = pd.DataFrame({\n",
        "    \"StudentID\": [1, 2, 3, 2, 3, 1],\n",
        "    \"Subject\": [\"Math\", \"Science\", \"Math\",  \"Math\",\"Science\", \"Science\"],\n",
        "    \"Score\": [85, 90, 78, 88, 92, 95]\n",
        "})\n",
        "```\n",
        "\n",
        "* Write a function to calculate the average score for each student. Use this function to group the data by StudentID and find the average score."
      ],
      "metadata": {
        "id": "C5JaqbN-FmmA"
      }
    },
    {
      "cell_type": "markdown",
      "source": [
        "\n",
        "\n",
        "**Q2.** Create  a dataset of retail sales with a hierarchical index consisting of `Region` and `StoreID`. The dataset contains the following columns:\n",
        "\n",
        "* ProductCategory: The category of the product sold (e.g., Electronics, Clothing)\n",
        "\n",
        "* Sales: The amount of sales made\n",
        "\n",
        "Group the data by respective level indices  and calculate:\n",
        "\n",
        "* Total sales in each region.\n",
        "* Average sales in each store .\n"
      ],
      "metadata": {
        "id": "yzq5kjDxHToR"
      }
    },
    {
      "cell_type": "markdown",
      "source": [
        "**Q3.** You are given a DataFrame `df_orders` as follows:\n",
        "\n",
        "```\n",
        "df_orders = pd.DataFrame({\n",
        "    'Category': ['Electronics', 'Electronics', 'Clothing', 'Clothing', 'Groceries', 'Groceries'],\n",
        "    'Order_ID': ['O1', 'O2', 'O3', 'O4', 'O5', 'O6'],\n",
        "    'Price': [1000, 500, 100, 200, 50, 60],\n",
        "    'Discount': [50, 25, 10, 20, 5, 6],\n",
        "    'Quantity': [1, 2, 3, 1, 4, 5]\n",
        "})\n",
        "```\n",
        "- Group the data by \"`Category`\" and compute:\n",
        "  - Total revenue `(Price * Quantity)`.\n",
        "  - Total discounts given` (Discount * Quantity)`.\n",
        "\n",
        "- For each category find the followng:\n",
        "  * The order with the highest revenue.\n",
        "  * The average discount per order.\n",
        "\n",
        "\n"
      ],
      "metadata": {
        "id": "u8qWroMxF4dl"
      }
    },
    {
      "cell_type": "markdown",
      "source": [
        "#4. Handling Missing Data\n",
        "\n",
        "You are provided with a dataset, `numeric_df`, containing numeric features from the Titanic dataset. Your task is to explore and handle the missing data systematically.\n",
        "\n"
      ],
      "metadata": {
        "id": "ih9vkxLHuUc2"
      }
    },
    {
      "cell_type": "markdown",
      "source": [
        "**Q1.** **Load and Inspect the Data**\n",
        "- Run the cell below to get the dataset `numeric_df`.\n",
        "- Display the first 5 rows of the dataset.\n",
        "- Create a **heatmap** to visualize where the missing values occur.\n",
        "- Count the missing values in each column and report them (also, plot them).\n",
        "- Drop the column with more than 60 percent `NaN` values. Why?\n"
      ],
      "metadata": {
        "id": "MLCenplJU5Cm"
      }
    },
    {
      "cell_type": "markdown",
      "source": [
        "\n",
        "\n",
        "**Q2** **Handle Missing Values**\n",
        "- For the `pclass` column, use **mode imputation** to fill the missing values.\n",
        "- Explain why mode imputation is appropriate for this column.\n",
        "\n",
        "- How would you impute the values for the column `age`. Why?\n"
      ],
      "metadata": {
        "id": "zaCrKFjVU-hg"
      }
    },
    {
      "cell_type": "markdown",
      "source": [
        "\n",
        "**Q3** **Analyze Results**\n",
        "- Compare the dataset before and after imputation:\n",
        "  - Count the missing values after imputation.\n",
        "  - Calculate the **mean** of all numeric columns before and after imputation."
      ],
      "metadata": {
        "id": "lwLvzxMbVF2Y"
      }
    },
    {
      "cell_type": "code",
      "source": [
        "# Load the Titanic dataset\n",
        "df = sns.load_dataset('titanic')\n",
        "\n",
        "# Select only numeric columns\n",
        "numeric_df = df.select_dtypes(include=['float64', 'int64'])\n",
        "\n",
        "# Introducing missing values in the 'pclass' column\n",
        "np.random.seed(42)\n",
        "pclass_nan_indices = np.random.choice(numeric_df.index, size=int(0.05 * len(numeric_df)), replace=False)\n",
        "numeric_df.loc[pclass_nan_indices, 'pclass'] = np.nan\n",
        "\n",
        "# Introducing missing values in the 'parch' column\n",
        "parch_nan_indices = np.random.choice(numeric_df.index, size=int(0.70 * len(numeric_df)), replace=False)\n",
        "numeric_df.loc[parch_nan_indices, 'parch'] = np.nan"
      ],
      "metadata": {
        "id": "h7cvw4BcaFal"
      },
      "execution_count": null,
      "outputs": []
    },
    {
      "cell_type": "markdown",
      "source": [
        "#5. Pandas: Merging Joining and Concatenation"
      ],
      "metadata": {
        "id": "YTYbmBjE_2u0"
      }
    },
    {
      "cell_type": "markdown",
      "source": [
        "**Q1.** You have two DataFrames `df1` and `df2` where `df1` has a column `student_id` and `df2` has a column `student_id` along with `grade`, how would you merge these DataFrames on `student_id` to keep only the rows present in both DataFrames? Show output of the merge.\n",
        "\n",
        "```python\n",
        "data1 = {\n",
        "    'student_id': [1, 2, 3, 4],\n",
        "    'name': ['Alice', 'Bob', 'Charlie', 'David']\n",
        "}\n",
        "data2 = {\n",
        "    'student_id': [2, 3, 4, 5],\n",
        "    'grade': ['A', 'B', 'C', 'D']\n",
        "}\n",
        "\n",
        "df1 = pd.DataFrame(data1)\n",
        "df2 = pd.DataFrame(data2)\n",
        "```\n",
        "\n",
        "\n",
        "**Q2.** If you are provided with two DataFrames, employees and departments with `employee_id` as the index, how would you join them such that all rows from the employees DataFrame are kept, even if there is no matching department record? (you may assume employees have 2nd column as `employee_name` and departments have 2nd column as `department_name`, and randomly assign its data)\n",
        "\n",
        "```python\n",
        "employees_data = {\n",
        "    'employee_id': [1, 2, 3, 4],\n",
        "    'employee_name': ['Alice', 'Bob', 'Charlie', 'David']\n",
        "}\n",
        "departments_data = {\n",
        "    'employee_id': [2, 3, 4, 1],\n",
        "    'department_name': ['A', 'B', 'C', 'D']\n",
        "}\n",
        "\n",
        "employees = pd.DataFrame(employees_data)\n",
        "departments = pd.DataFrame(departments_data)\n",
        "```\n",
        "\n",
        "\n",
        "\n",
        "**Q3**. Given two DataFrames `df_a` and `df_b` with the same columns, how would you concatenate them vertically, resetting the index so it starts from zero in the combined DataFrame? (you may assume both dataframes have 2 columns each, and randomly assign its data)\n",
        "\n",
        "```python\n",
        "df1 = {\n",
        "    'student_id': [1, 2, 3, 4],\n",
        "    'name': ['Alice', 'Bob', 'Charlie', 'David']\n",
        "}\n",
        "df2 = {\n",
        "    'student_id': [5, 6, 7, 8],\n",
        "    'name': ['Anish', 'Divakar', 'Vaibhav', 'Tanvi']\n",
        "}\n",
        "\n",
        "df_a = pd.DataFrame(df1)\n",
        "df_b = pd.DataFrame(df2)\n",
        "```\n"
      ],
      "metadata": {
        "id": "wjjDIiKP_-EZ"
      }
    },
    {
      "cell_type": "markdown",
      "source": [
        "#6. Pandas: Advanced Operations (Evaluation and Query)\n",
        "\n",
        "\n",
        "\n",
        "\n",
        "You are provided with the dataset, `iris`, which contains information about iris flower species and their physical measurements. Your task is to use :\n",
        "\n",
        "\n",
        "**Q1** **Pandas advanced operations** such as evaluation (`eval`) and conditional querying (`query`) to analyze and extract insights from the dataset.\n",
        "\n",
        "\n",
        "\n",
        "**Q2** **Load and Inspect the Data**\n",
        "- Run `iris = sns.load_dataset('iris')` to load the dataset.\n",
        "- Display the first 5 rows of the dataset.\n",
        "- Print the summary statistics of the dataset.\n",
        "\n",
        "\n",
        "**Q3** **Filter the Data Using `query`**\n",
        "- Use the `query` method to:\n",
        "  1. Find all flowers with a `sepal_length`> 6.5 and a `petal_length` > 5.\n",
        "  2. Find all `virginica` flowers with a `petal_width` less than 2.\n",
        "\n",
        "\n",
        "\n",
        "**Q4** **Use `eval` for Calculations**\n",
        "- Create a new column `petal_area` using the formula:  \n",
        "  `petal_area = petal_length * petal_width`\n",
        "- Display the top 5 flowers with the largest `petal_area`.\n",
        "- Use `query` to filter flowers that meet the following conditions:\n",
        "  - `petal_area` > 10\n",
        "  - `sepal_length` is in the range 5 to 7.\n",
        "\n",
        "\n",
        "\n",
        "**Q5** **Analyze and Visualize**\n",
        "- Perform a group-wise analysis:\n",
        "  1. Calculate the **average petal length** for each species.\n",
        "  2. Find the **count of flowers** for each species.\n",
        "  3. Create a scatter plot of `sepal_length` vs. `petal_length`, colored by species.\n"
      ],
      "metadata": {
        "id": "htAymA94uZGQ"
      }
    },
    {
      "cell_type": "markdown",
      "source": [
        "#7. Matplotlib: Basic Plotting Questions\n",
        "\n",
        "**Q1. Line Plot**\n",
        "\n",
        "Plot a sine wave (\\(y = sin(x)\\)) for \\(x in [0, 2π]\\). Customize the plot by:\n",
        "1. Adding a title to the graph.\n",
        "2. Adding labels for the x-axis and y-axis.\n",
        "3. Displaying a grid.\n",
        "\n",
        "\n",
        "**Q2. Multiple Line Plots**\n",
        "\n",
        "Plot the following functions on the same graph for \\(x \\in [0, 2π]\\):\n",
        "1. \\(y_1 = sin(x)\\)\n",
        "2. \\(y_2 = cos(x)\\)\n",
        "Customize the graph by:\n",
        "- Using different colors and line styles for each function.\n",
        "- Adding a legend to identify the curves.\n",
        "\n",
        "\n",
        "\n",
        "**Q3. Plot Customization**\n",
        "\n",
        "Plot the function \\(y = x^2\\) for \\(x \\in [-10, 10]\\). Customize the plot by:\n",
        "1. Adding a title and axis labels.\n",
        "2. Changing the line style, color, and thickness.\n",
        "3. Adjusting the axis limits to make the graph more visually appealing.\n"
      ],
      "metadata": {
        "id": "cC0eIiQxT6nI"
      }
    },
    {
      "cell_type": "markdown",
      "source": [
        "#8a. Bar Plot\n",
        "\n",
        "**Q1** You are provided with the `tips` dataset. Your task is to create a **bar plot** using Matplotlib.\n",
        "\n",
        "- Load the `tips` dataset using Seaborn:  \n",
        "  ```python\n",
        "  import seaborn as sns\n",
        "  tips = sns.load_dataset('tips')\n",
        "```\n",
        "- Create a bar plot showing the average tip for each day of the week.\n",
        "Label the x-axis as Day, the y-axis as Average Tip, and add a title: \"Average Tip by Day\".\n",
        "\n",
        "- Based on the bar plot, which day has the highest average tip?\n"
      ],
      "metadata": {
        "id": "Xx5PqjMKu5sa"
      }
    },
    {
      "cell_type": "markdown",
      "source": [
        "Based on the bar-plot above the **Sunday** has the highest average tip"
      ],
      "metadata": {
        "id": "9h9xBYVPww2c"
      }
    },
    {
      "cell_type": "markdown",
      "source": [
        "#8b. Scatter Plot\n",
        "\n",
        "**Q1.** You are provided with the `tips` dataset. Your task is to create a **scatter plot** using Matplotlib.\n",
        "\n",
        "- Load the `tips` dataset using Seaborn:  \n",
        "  ```python\n",
        "  import seaborn as sns\n",
        "  tips = sns.load_dataset('tips')\n",
        "  ```\n",
        "\n",
        "- Create a scatter plot with total_bill on the x-axis and tip on the y-axis.\n",
        "- Label the x-axis as Total Bill, the y-axis as Tip, and add a title: \"Relationship between Total Bill and Tip\".\n",
        "\n",
        "- Based on the scatter plot, do you observe any relationship between total_bill and tip?\n"
      ],
      "metadata": {
        "id": "VBuqEqDiu9kG"
      }
    },
    {
      "cell_type": "markdown",
      "source": [
        "There appears to be a positive relationship between `total_bill` and `tip`. As the total bill increases, the tip generally tends to increase as well. However, the relationship **does not appear to be perfectly linear**, and there is some **variability** in the amount of tip given for a given total bill"
      ],
      "metadata": {
        "id": "f7iLzvoAyOZA"
      }
    },
    {
      "cell_type": "markdown",
      "source": [
        "#9. Matplotlib: Subplots and Layouts\n",
        "\n",
        "**Q1.** Create a 2x2 grid of subplots with:\n",
        "- Subplot (1,1): Plot y = sin(x).\n",
        "- Subplot (1,2): Plot y = cos(x) .\n",
        "- Subplot (2,1): Plot y = e<sup>−x</sup>\n",
        "- Subplot (2,2): Plot y=ln(x) for x∈[0.1,2].\n",
        "\n",
        "Customize background colors, add unique x and y labels, and set titles.\n",
        "\n",
        "**Q2.** Create a subplot within another subplot:\n",
        "- Main subplot: Display a scatter plot of 100 random points with x and y values between 0 and 1.\n",
        "- Inset subplot: Display a histogram of the x-values from the scatter plot.\n",
        "\n",
        "**Q3.** Create a Layout with One Large and Two Smaller Subplots\n",
        "\n",
        "- Design a large subplot occupying the top two-thirds of the figure and plot \\( y = sin(x) \\) and \\( y = cos(x) \\) on the same graph.  \n",
        "\n",
        "- Create two smaller subplots in the bottom row:  \n",
        "   - On the left, plot y =x<sup>2</sup>.  \n",
        "   - On the right, plot y = e<sup>x</sup>.  \n",
        "\n",
        "Ensure each subplot has appropriate titles, axis labels, and legends where necessary. Use a clean layout that avoids overlapping elements.\n",
        "\n",
        "\n"
      ],
      "metadata": {
        "id": "GDKH1CtQtq6L"
      }
    },
    {
      "cell_type": "markdown",
      "source": [
        "#10. Matplotlib: Advanced Customization"
      ],
      "metadata": {
        "id": "XALRioST1mCM"
      }
    },
    {
      "cell_type": "markdown",
      "source": [
        "**Q1. Customizing Axes and Ticks**\n",
        "\n",
        "Create a line plot for y = x^2 in the range -10 to 10.\n",
        "Customize the axes and ticks:\n",
        "1. Set x-axis range to -10 to 10.\n",
        "2. Set y-axis range to 0 to 100.\n",
        "3. Use custom tick marks at intervals of 2 for x-axis and 10 for y-axis.\n",
        "4. Rotate x-axis tick labels by 45 degrees.\n",
        "\n",
        "**Q2. Multiple Subplots with Shared Legend and Grid Customization**\n",
        "\n",
        "Create a figure with four subplots (2x2 grid) showing different trigonometric functions:\n",
        "1. Top-left: y = sin(x)\n",
        "2. Top-right: y = cos(x)\n",
        "3. Bottom-left: y = tan(x) (restrict x to avoid undefined regions).\n",
        "4. Bottom-right: y = sin^2(x) + cos^2(x) (should always equal 1).\n",
        "\n",
        "**Q3. Subplots and Shared Axes**\n",
        "\n",
        "Create two subplots side-by-side:\n",
        "1. Bar chart for sales (random data) from January to June.\n",
        "2. Line chart for cumulative sales.\n",
        "Share the y-axis and add titles, a common x-axis label, and a grid for the second plot.\n",
        "\n",
        "**Q4. Adding Annotations**\n",
        "\n",
        "Create a scatter plot of 10 random points:\n",
        "1. Annotate the point with the max y-coordinate with a red star and text label.\n",
        "2. Customize marker size and color for all points.\n",
        "\n",
        "**Q5. Creating a Custom Colormap**\n",
        "\n",
        "Generate a heatmap for a 5x5 matrix of random numbers between 0 and 1:\n",
        "1. Use a custom colormap (blue to red).\n",
        "2. Add a color bar and display exact cell values rounded to 2 decimals.\n",
        "\n",
        "\n",
        "**Q6. Customization of 3D Plot**\n",
        "\n",
        "Using Matplotlib’s mpl_toolkits.mplot3d, create a 3D surface plot for the function:\n",
        "z = sin(sqrt(x^2 + y^2))\n",
        "\n",
        "Requirements:\n",
        "1. Generate x and y values in the range -5 to 5 using a meshgrid.\n",
        "2. Use a custom colormap that highlights peaks and valleys (e.g., `coolwarm`).\n",
        "3. Add a color bar with a label \"Amplitude\".\n",
        "4. Add labels for all three axes and a title.\n",
        "5. Rotate the 3D plot to a custom viewing angle using ax.view_init."
      ],
      "metadata": {
        "id": "FVwjipWz3HPr"
      }
    }
  ]
}